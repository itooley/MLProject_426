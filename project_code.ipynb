{
 "cells": [
  {
   "cell_type": "markdown",
   "metadata": {},
   "source": [
    "# STAT 426 Final Project\n",
    "Isabelle Tooley\n",
    "December 10, 2020"
   ]
  },
  {
   "cell_type": "markdown",
   "metadata": {},
   "source": [
    "## Introduction"
   ]
  },
  {
   "cell_type": "markdown",
   "metadata": {},
   "source": [
    "I am very interested in movies and stories. I always have been. But I assumed that my choice to pursue an education and career path in the field of statistics/data science meant that my love of words and storytelling would remain just a side interest. So I got very excited when I started learning about all the applications of natural language processing. It bridged two of my passions: statistics and stories.\n",
    "\n",
    "Most stories are written. Books, scripts for plays and tv shows, movie screenplays: all of these are a collection of words that convey a story. The motivation for this project was to see if I could use some of those words to derive information about the story they represent. This is exciting to me because I think the entertainment industry is relatively uncharted territory for data science methods. Of course, this is beginning to change in the age of easy data accessibility and a desire for data-driven decisions in all industries. But still. If putting something like a movie script into a machine learning model can accurately spit out it's genre, theme, or general story-telling framework, then you could potentially reverse engineer it to start with a genre, theme, or story-telling framework and end up with a new movie script. This is super down the rabbit hole and sounds like *years* of research, but I think it's super cool and this project is as good a place to start as any.\n",
    "\n",
    "The research question driving this project is essentially: **can the description of a movie (i.e. synopsis or plot summary), along with a handful of other variables, accurately predict the primary genre of a full-length film?**"
   ]
  },
  {
   "cell_type": "markdown",
   "metadata": {},
   "source": [
    "## Data"
   ]
  },
  {
   "cell_type": "code",
   "execution_count": 1,
   "metadata": {},
   "outputs": [],
   "source": [
    "import pandas as pd\n",
    "import numpy as np\n",
    "import matplotlib.pyplot as plt\n",
    "import seaborn as sns\n",
    "import re\n",
    "import warnings\n",
    "warnings.filterwarnings('ignore')"
   ]
  },
  {
   "cell_type": "code",
   "execution_count": 51,
   "metadata": {},
   "outputs": [],
   "source": [
    "from nltk import word_tokenize\n",
    "from sklearn.feature_extraction.text import CountVectorizer\n",
    "from sklearn.feature_extraction.text import TfidfVectorizer\n",
    "from sklearn.preprocessing import MinMaxScaler\n",
    "from sklearn.cluster import KMeans\n",
    "from sklearn.decomposition import PCA"
   ]
  },
  {
   "cell_type": "markdown",
   "metadata": {},
   "source": [
    "### Collection"
   ]
  },
  {
   "cell_type": "markdown",
   "metadata": {},
   "source": [
    "The IMDb basics dataset is quite large, containing a lot of information about all IMDb tracked digital media content. Including **`genre`**, which is the response variable that I'm hope to be able to predict using a multinomial classification approach. Some other variables in this dataset could also be useful (like `runtime` and `release year`). Each movie has an ID under the `tconst` variable.\n",
    "\n",
    "The second IMDb dataset includes rating information and the unique identifier under the `tconst` variable. The only other features in this dataset are `averageRating` and `numVotes`. These are the average of all user ratings and the number of user votes the film received.\n",
    "\n",
    "The MPST Kaggle dataset is much smaller, containing plot descriptions and summaries that were collected from IMDb and Wikipedia pages. There is also an `imdb_id`, which corresponds directly to the `tconst` variable that uniquely identifies each film in the IMDb datasets. This made it possible to merge the IMDb data with the Kaggle plot synopsis data. The resulting dataframe has a total of 14,765 observations, for which the movie had both plot and IMDb information.\n",
    "\n",
    "At this point, what's left over are movies for which there is an available plot summary. Additional filtering and cleaning will be performed in the next section."
   ]
  },
  {
   "cell_type": "code",
   "execution_count": 4,
   "metadata": {},
   "outputs": [],
   "source": [
    "## read in data\n",
    "basics = pd.read_csv('title.basics.tsv', sep='\\t')\n",
    "ratings = pd.read_csv('title.ratings.tsv', sep='\\t')\n",
    "synopses = pd.read_csv('mpst_full_data.csv')"
   ]
  },
  {
   "cell_type": "code",
   "execution_count": 93,
   "metadata": {
    "scrolled": true
   },
   "outputs": [],
   "source": [
    "#basics.head()"
   ]
  },
  {
   "cell_type": "code",
   "execution_count": 94,
   "metadata": {},
   "outputs": [],
   "source": [
    "#ratings.head()"
   ]
  },
  {
   "cell_type": "code",
   "execution_count": 95,
   "metadata": {
    "scrolled": true
   },
   "outputs": [],
   "source": [
    "#synopses.head()"
   ]
  },
  {
   "cell_type": "code",
   "execution_count": 5,
   "metadata": {},
   "outputs": [
    {
     "data": {
      "text/html": [
       "<div>\n",
       "<style scoped>\n",
       "    .dataframe tbody tr th:only-of-type {\n",
       "        vertical-align: middle;\n",
       "    }\n",
       "\n",
       "    .dataframe tbody tr th {\n",
       "        vertical-align: top;\n",
       "    }\n",
       "\n",
       "    .dataframe thead th {\n",
       "        text-align: right;\n",
       "    }\n",
       "</style>\n",
       "<table border=\"1\" class=\"dataframe\">\n",
       "  <thead>\n",
       "    <tr style=\"text-align: right;\">\n",
       "      <th></th>\n",
       "      <th>tconst</th>\n",
       "      <th>titleType</th>\n",
       "      <th>primaryTitle</th>\n",
       "      <th>originalTitle</th>\n",
       "      <th>isAdult</th>\n",
       "      <th>startYear</th>\n",
       "      <th>endYear</th>\n",
       "      <th>runtimeMinutes</th>\n",
       "      <th>genres</th>\n",
       "      <th>averageRating</th>\n",
       "      <th>numVotes</th>\n",
       "      <th>imdb_id</th>\n",
       "      <th>title</th>\n",
       "      <th>plot_synopsis</th>\n",
       "      <th>tags</th>\n",
       "      <th>split</th>\n",
       "      <th>synopsis_source</th>\n",
       "    </tr>\n",
       "  </thead>\n",
       "  <tbody>\n",
       "    <tr>\n",
       "      <td>0</td>\n",
       "      <td>tt0000091</td>\n",
       "      <td>short</td>\n",
       "      <td>The House of the Devil</td>\n",
       "      <td>Le manoir du diable</td>\n",
       "      <td>0</td>\n",
       "      <td>1896</td>\n",
       "      <td>\\N</td>\n",
       "      <td>3</td>\n",
       "      <td>Horror,Short</td>\n",
       "      <td>6.7</td>\n",
       "      <td>2859</td>\n",
       "      <td>tt0000091</td>\n",
       "      <td>Le manoir du diable</td>\n",
       "      <td>The film opens with a large bat flying into a ...</td>\n",
       "      <td>paranormal, gothic</td>\n",
       "      <td>train</td>\n",
       "      <td>wikipedia</td>\n",
       "    </tr>\n",
       "    <tr>\n",
       "      <td>1</td>\n",
       "      <td>tt0000225</td>\n",
       "      <td>short</td>\n",
       "      <td>Beauty and the Beast</td>\n",
       "      <td>La belle et la bête</td>\n",
       "      <td>0</td>\n",
       "      <td>1899</td>\n",
       "      <td>\\N</td>\n",
       "      <td>\\N</td>\n",
       "      <td>Family,Fantasy,Romance</td>\n",
       "      <td>5.1</td>\n",
       "      <td>18</td>\n",
       "      <td>tt0000225</td>\n",
       "      <td>La belle et la bête</td>\n",
       "      <td>A widower merchant lives in a mansion with his...</td>\n",
       "      <td>fantasy</td>\n",
       "      <td>train</td>\n",
       "      <td>wikipedia</td>\n",
       "    </tr>\n",
       "    <tr>\n",
       "      <td>2</td>\n",
       "      <td>tt0000230</td>\n",
       "      <td>short</td>\n",
       "      <td>Cinderella</td>\n",
       "      <td>Cendrillon</td>\n",
       "      <td>0</td>\n",
       "      <td>1899</td>\n",
       "      <td>\\N</td>\n",
       "      <td>6</td>\n",
       "      <td>Drama,Family,Fantasy</td>\n",
       "      <td>6.5</td>\n",
       "      <td>1358</td>\n",
       "      <td>tt0000230</td>\n",
       "      <td>Cendrillon</td>\n",
       "      <td>A prologue in front of the curtain, suppressed...</td>\n",
       "      <td>fantasy</td>\n",
       "      <td>train</td>\n",
       "      <td>wikipedia</td>\n",
       "    </tr>\n",
       "  </tbody>\n",
       "</table>\n",
       "</div>"
      ],
      "text/plain": [
       "      tconst titleType            primaryTitle        originalTitle  isAdult  \\\n",
       "0  tt0000091     short  The House of the Devil  Le manoir du diable        0   \n",
       "1  tt0000225     short    Beauty and the Beast  La belle et la bête        0   \n",
       "2  tt0000230     short              Cinderella           Cendrillon        0   \n",
       "\n",
       "  startYear endYear runtimeMinutes                  genres  averageRating  \\\n",
       "0      1896      \\N              3            Horror,Short            6.7   \n",
       "1      1899      \\N             \\N  Family,Fantasy,Romance            5.1   \n",
       "2      1899      \\N              6    Drama,Family,Fantasy            6.5   \n",
       "\n",
       "   numVotes    imdb_id                title  \\\n",
       "0      2859  tt0000091  Le manoir du diable   \n",
       "1        18  tt0000225  La belle et la bête   \n",
       "2      1358  tt0000230           Cendrillon   \n",
       "\n",
       "                                       plot_synopsis                tags  \\\n",
       "0  The film opens with a large bat flying into a ...  paranormal, gothic   \n",
       "1  A widower merchant lives in a mansion with his...             fantasy   \n",
       "2  A prologue in front of the curtain, suppressed...             fantasy   \n",
       "\n",
       "   split synopsis_source  \n",
       "0  train       wikipedia  \n",
       "1  train       wikipedia  \n",
       "2  train       wikipedia  "
      ]
     },
     "execution_count": 5,
     "metadata": {},
     "output_type": "execute_result"
    }
   ],
   "source": [
    "## merge all\n",
    "all = pd.merge(left=pd.merge(basics, ratings, 'inner', on='tconst'), \n",
    "               right=synopses, how='inner', left_on='tconst', right_on='imdb_id')\n",
    "all.head(3)"
   ]
  },
  {
   "cell_type": "code",
   "execution_count": 6,
   "metadata": {
    "scrolled": true
   },
   "outputs": [
    {
     "name": "stdout",
     "output_type": "stream",
     "text": [
      "Number of movies with plot data: 14828\n",
      "Number of movies after merge: 14765\n"
     ]
    }
   ],
   "source": [
    "print('Number of movies with plot data:', synopses.shape[0])\n",
    "print('Number of movies after merge:', all.shape[0])"
   ]
  },
  {
   "cell_type": "markdown",
   "metadata": {},
   "source": [
    "### Cleaning"
   ]
  },
  {
   "cell_type": "code",
   "execution_count": 52,
   "metadata": {
    "scrolled": true
   },
   "outputs": [
    {
     "data": {
      "text/html": [
       "<div>\n",
       "<style scoped>\n",
       "    .dataframe tbody tr th:only-of-type {\n",
       "        vertical-align: middle;\n",
       "    }\n",
       "\n",
       "    .dataframe tbody tr th {\n",
       "        vertical-align: top;\n",
       "    }\n",
       "\n",
       "    .dataframe thead th {\n",
       "        text-align: right;\n",
       "    }\n",
       "</style>\n",
       "<table border=\"1\" class=\"dataframe\">\n",
       "  <thead>\n",
       "    <tr style=\"text-align: right;\">\n",
       "      <th></th>\n",
       "      <th>primaryTitle</th>\n",
       "      <th>runtimeMinutes</th>\n",
       "      <th>genres</th>\n",
       "      <th>averageRating</th>\n",
       "      <th>numVotes</th>\n",
       "      <th>plot_synopsis</th>\n",
       "    </tr>\n",
       "  </thead>\n",
       "  <tbody>\n",
       "    <tr>\n",
       "      <td>756</td>\n",
       "      <td>Kate &amp; Leopold</td>\n",
       "      <td>118</td>\n",
       "      <td>Comedy,Fantasy,Romance</td>\n",
       "      <td>6.4</td>\n",
       "      <td>78334</td>\n",
       "      <td>On 28 April 1876, Leopold, His Grace the 3rd D...</td>\n",
       "    </tr>\n",
       "    <tr>\n",
       "      <td>1336</td>\n",
       "      <td>The Franchise Affair</td>\n",
       "      <td>88</td>\n",
       "      <td>Crime,Drama,Mystery</td>\n",
       "      <td>7.1</td>\n",
       "      <td>206</td>\n",
       "      <td>Robert Blair, a local solicitor, is called on ...</td>\n",
       "    </tr>\n",
       "    <tr>\n",
       "      <td>1342</td>\n",
       "      <td>Halls of Montezuma</td>\n",
       "      <td>113</td>\n",
       "      <td>Action,Adventure,Drama</td>\n",
       "      <td>6.6</td>\n",
       "      <td>2458</td>\n",
       "      <td>During World War II, a Marine battalion prepar...</td>\n",
       "    </tr>\n",
       "    <tr>\n",
       "      <td>1349</td>\n",
       "      <td>Diary of a Country Priest</td>\n",
       "      <td>115</td>\n",
       "      <td>Drama</td>\n",
       "      <td>7.9</td>\n",
       "      <td>9949</td>\n",
       "      <td>An idealistic young priest arrives at Ambricou...</td>\n",
       "    </tr>\n",
       "    <tr>\n",
       "      <td>1382</td>\n",
       "      <td>Under the Gun</td>\n",
       "      <td>83</td>\n",
       "      <td>Crime,Drama,Film-Noir</td>\n",
       "      <td>6.8</td>\n",
       "      <td>117</td>\n",
       "      <td>At a Miami nightclub, gangster Bert Galvin off...</td>\n",
       "    </tr>\n",
       "  </tbody>\n",
       "</table>\n",
       "</div>"
      ],
      "text/plain": [
       "                   primaryTitle runtimeMinutes                  genres  \\\n",
       "756              Kate & Leopold            118  Comedy,Fantasy,Romance   \n",
       "1336       The Franchise Affair             88     Crime,Drama,Mystery   \n",
       "1342         Halls of Montezuma            113  Action,Adventure,Drama   \n",
       "1349  Diary of a Country Priest            115                   Drama   \n",
       "1382              Under the Gun             83   Crime,Drama,Film-Noir   \n",
       "\n",
       "      averageRating  numVotes  \\\n",
       "756             6.4     78334   \n",
       "1336            7.1       206   \n",
       "1342            6.6      2458   \n",
       "1349            7.9      9949   \n",
       "1382            6.8       117   \n",
       "\n",
       "                                          plot_synopsis  \n",
       "756   On 28 April 1876, Leopold, His Grace the 3rd D...  \n",
       "1336  Robert Blair, a local solicitor, is called on ...  \n",
       "1342  During World War II, a Marine battalion prepar...  \n",
       "1349  An idealistic young priest arrives at Ambricou...  \n",
       "1382  At a Miami nightclub, gangster Bert Galvin off...  "
      ]
     },
     "execution_count": 52,
     "metadata": {},
     "output_type": "execute_result"
    }
   ],
   "source": [
    "## filter down to only non-adult movie content that came out after 1950\n",
    "movies = all[(all['titleType'] == 'movie') & \n",
    "             (all['isAdult'] == 0) & \n",
    "             (all['startYear'].astype(int) > 1950)]\n",
    "\n",
    "## drop unnecessary variables\n",
    "movies.drop(['tconst', 'titleType', 'originalTitle', 'isAdult', 'startYear',\n",
    "             'endYear', 'imdb_id', 'title', 'tags', 'split', 'synopsis_source'],\n",
    "            axis = 1, inplace = True)\n",
    "movies.head()"
   ]
  },
  {
   "cell_type": "markdown",
   "metadata": {},
   "source": [
    "#### Missing values"
   ]
  },
  {
   "cell_type": "markdown",
   "metadata": {},
   "source": [
    "Missing values are represented in the data by a '\\N' character. Some of these can be imputed, like `runtimeMinutes` which will be replaced with the variable mean. Others like `startYear` and `genre` should be removed (especially the oberservations that do not have data in the genre field, as that is the target variable)."
   ]
  },
  {
   "cell_type": "code",
   "execution_count": 53,
   "metadata": {},
   "outputs": [
    {
     "data": {
      "text/plain": [
       "primaryTitle       0\n",
       "runtimeMinutes    28\n",
       "genres             1\n",
       "averageRating      0\n",
       "numVotes           0\n",
       "plot_synopsis      0\n",
       "dtype: int64"
      ]
     },
     "execution_count": 53,
     "metadata": {},
     "output_type": "execute_result"
    }
   ],
   "source": [
    "## count missing values\n",
    "(movies == '\\\\N').sum()"
   ]
  },
  {
   "cell_type": "code",
   "execution_count": 54,
   "metadata": {},
   "outputs": [],
   "source": [
    "## replace \\N strings with NaNs\n",
    "movies.replace(to_replace = '\\\\N', value = np.nan, inplace = True)\n",
    "\n",
    "## make runtimeMinutes numeric, fill NAs with the mean\n",
    "movies['runtimeMinutes'] = pd.to_numeric(movies['runtimeMinutes'])\n",
    "movies['runtimeMinutes'].fillna(movies['runtimeMinutes'].mean(), inplace = True)\n",
    "\n",
    "## drop remaining NAs and any duplicate movies/plots\n",
    "movies_clean = movies.dropna().drop_duplicates(['primaryTitle', 'plot_synopsis'])\n",
    "\n",
    "## reformat\n",
    "movies_clean.reset_index(drop = True, inplace = True)"
   ]
  },
  {
   "cell_type": "markdown",
   "metadata": {},
   "source": [
    "#### Refine `genre` feature"
   ]
  },
  {
   "cell_type": "code",
   "execution_count": 55,
   "metadata": {
    "scrolled": false
   },
   "outputs": [
    {
     "name": "stdout",
     "output_type": "stream",
     "text": [
      "Number of unique primary genres: 20\n",
      "Number of movies of each genre:\n",
      "Action         2592\n",
      "Comedy         2390\n",
      "Drama          2075\n",
      "Horror          998\n",
      "Crime           978\n",
      "Adventure       778\n",
      "Biography       434\n",
      "Animation       118\n",
      "Western          95\n",
      "Fantasy          89\n",
      "Mystery          65\n",
      "Documentary      62\n",
      "Sci              37\n",
      "Thriller         34\n",
      "Romance          31\n",
      "Family           23\n",
      "Musical          15\n",
      "Music             3\n",
      "Film              1\n",
      "History           1\n",
      "Name: genre, dtype: int64\n"
     ]
    }
   ],
   "source": [
    "## extract the main genre (assume it is the first listed)\n",
    "movies_clean['genre'] = movies_clean['genres'].apply(lambda x: re.findall('\\w+', x)[0])\n",
    "movies_clean.drop(['genres'], axis = 1, inplace = True)\n",
    "movies_clean.head()\n",
    "\n",
    "print('Number of unique primary genres:', movies_clean['genre'].nunique())\n",
    "print('Number of movies of each genre:')\n",
    "print(movies_clean['genre'].value_counts())"
   ]
  },
  {
   "cell_type": "markdown",
   "metadata": {},
   "source": [
    "# Second Try - keep less genres and don't have Other group"
   ]
  },
  {
   "cell_type": "markdown",
   "metadata": {},
   "source": [
    "Three main classes:\n",
    "\n",
    "   1. Action\n",
    "   2. Comedy\n",
    "   3. Horror"
   ]
  },
  {
   "cell_type": "code",
   "execution_count": 63,
   "metadata": {
    "scrolled": false
   },
   "outputs": [
    {
     "data": {
      "text/html": [
       "<div>\n",
       "<style scoped>\n",
       "    .dataframe tbody tr th:only-of-type {\n",
       "        vertical-align: middle;\n",
       "    }\n",
       "\n",
       "    .dataframe tbody tr th {\n",
       "        vertical-align: top;\n",
       "    }\n",
       "\n",
       "    .dataframe thead th {\n",
       "        text-align: right;\n",
       "    }\n",
       "</style>\n",
       "<table border=\"1\" class=\"dataframe\">\n",
       "  <thead>\n",
       "    <tr style=\"text-align: right;\">\n",
       "      <th></th>\n",
       "      <th>primaryTitle</th>\n",
       "      <th>runtimeMinutes</th>\n",
       "      <th>averageRating</th>\n",
       "      <th>numVotes</th>\n",
       "      <th>plot_synopsis</th>\n",
       "      <th>genre</th>\n",
       "    </tr>\n",
       "  </thead>\n",
       "  <tbody>\n",
       "    <tr>\n",
       "      <td>0</td>\n",
       "      <td>Kate &amp; Leopold</td>\n",
       "      <td>118.0</td>\n",
       "      <td>6.4</td>\n",
       "      <td>78334</td>\n",
       "      <td>On 28 April 1876, Leopold, His Grace the 3rd D...</td>\n",
       "      <td>Comedy</td>\n",
       "    </tr>\n",
       "    <tr>\n",
       "      <td>1</td>\n",
       "      <td>Halls of Montezuma</td>\n",
       "      <td>113.0</td>\n",
       "      <td>6.6</td>\n",
       "      <td>2458</td>\n",
       "      <td>During World War II, a Marine battalion prepar...</td>\n",
       "      <td>Action</td>\n",
       "    </tr>\n",
       "    <tr>\n",
       "      <td>2</td>\n",
       "      <td>Anne of the Indies</td>\n",
       "      <td>81.0</td>\n",
       "      <td>6.7</td>\n",
       "      <td>1173</td>\n",
       "      <td>After seizing a British ship, the barefoot, fe...</td>\n",
       "      <td>Action</td>\n",
       "    </tr>\n",
       "    <tr>\n",
       "      <td>3</td>\n",
       "      <td>Callaway Went Thataway</td>\n",
       "      <td>81.0</td>\n",
       "      <td>6.5</td>\n",
       "      <td>593</td>\n",
       "      <td>Mike Frye (MacMurray) and Deborah Patterson (M...</td>\n",
       "      <td>Comedy</td>\n",
       "    </tr>\n",
       "    <tr>\n",
       "      <td>4</td>\n",
       "      <td>Captain Horatio Hornblower R.N.</td>\n",
       "      <td>117.0</td>\n",
       "      <td>7.3</td>\n",
       "      <td>6052</td>\n",
       "      <td>In 1807, during the Napoleonic Wars, British R...</td>\n",
       "      <td>Action</td>\n",
       "    </tr>\n",
       "  </tbody>\n",
       "</table>\n",
       "</div>"
      ],
      "text/plain": [
       "                      primaryTitle  runtimeMinutes  averageRating  numVotes  \\\n",
       "0                   Kate & Leopold           118.0            6.4     78334   \n",
       "1               Halls of Montezuma           113.0            6.6      2458   \n",
       "2               Anne of the Indies            81.0            6.7      1173   \n",
       "3           Callaway Went Thataway            81.0            6.5       593   \n",
       "4  Captain Horatio Hornblower R.N.           117.0            7.3      6052   \n",
       "\n",
       "                                       plot_synopsis   genre  \n",
       "0  On 28 April 1876, Leopold, His Grace the 3rd D...  Comedy  \n",
       "1  During World War II, a Marine battalion prepar...  Action  \n",
       "2  After seizing a British ship, the barefoot, fe...  Action  \n",
       "3  Mike Frye (MacMurray) and Deborah Patterson (M...  Comedy  \n",
       "4  In 1807, during the Napoleonic Wars, British R...  Action  "
      ]
     },
     "execution_count": 63,
     "metadata": {},
     "output_type": "execute_result"
    }
   ],
   "source": [
    "## keep only movies of the three genres of interest\n",
    "movies_keep = movies_clean[(movies_clean['genre'] == 'Action') |\n",
    "                           (movies_clean['genre'] == 'Comedy') |\n",
    "                           (movies_clean['genre'] == 'Horror')].reset_index(drop=True)\n",
    "movies_keep.head()"
   ]
  },
  {
   "cell_type": "code",
   "execution_count": 64,
   "metadata": {},
   "outputs": [
    {
     "data": {
      "text/plain": [
       "(5980, 6)"
      ]
     },
     "execution_count": 64,
     "metadata": {},
     "output_type": "execute_result"
    }
   ],
   "source": [
    "movies_keep.shape"
   ]
  },
  {
   "cell_type": "markdown",
   "metadata": {},
   "source": [
    "# Original Process - leads to too many classes to deal with"
   ]
  },
  {
   "cell_type": "markdown",
   "metadata": {},
   "source": [
    "Make **Action, Comedy, Drama, Crime, Horror, and Adventure** the five main classes. All others can be lumped together in an **Other** category."
   ]
  },
  {
   "cell_type": "code",
   "execution_count": null,
   "metadata": {},
   "outputs": [],
   "source": [
    "## lump smaller genre groups into a bigger OTHER level\n",
    "# other = ['Biography', 'Western', \n",
    "#          'Animation', 'Fantasy',\n",
    "#          'Mystery', 'Documentary',\n",
    "#          'Romance', 'Thriller',\n",
    "#          'Sci', 'Family',\n",
    "#          'Musical', 'Film',\n",
    "#          'Music', 'History']\n",
    "\n",
    "# movies_clean['genre'] = movies_clean['genre'].replace(to_replace = other, value = \"Other\")\n",
    "# movies_clean.drop(['genres'], axis = 1, inplace = True)\n",
    "# movies_clean.head()"
   ]
  },
  {
   "cell_type": "markdown",
   "metadata": {},
   "source": [
    "### Text Cleaning and Feature Engineering"
   ]
  },
  {
   "cell_type": "code",
   "execution_count": 14,
   "metadata": {},
   "outputs": [],
   "source": [
    "## stopwords\n",
    "sw = ['i', 'me', 'my', 'myself', 'we', 'our', 'ours', 'ourselves', 'you', \"you're\", \"you've\", \"you'll\", \"you'd\", \n",
    "      'your', 'yours', 'yourself', 'yourselves', 'he', 'him', 'his', 'himself', 'she', \"she's\", 'her', 'hers', \n",
    "      'herself', 'it', \"it's\", 'its', 'itself', 'they', 'them', 'their', 'theirs', 'themselves', 'what', 'which',\n",
    "      'who', 'whom', 'this', 'that', \"that'll\", 'these', 'those', 'am', 'is', 'are', 'was', 'were', 'be', 'been',\n",
    "      'being', 'have', 'has', 'had', 'having', 'do', 'does', 'did', 'doing', 'a', 'an', 'the', 'and', 'but', 'if',\n",
    "      'or', 'because', 'as', 'until', 'while', 'of', 'at', 'by', 'for', 'with', 'about', 'against', 'between',\n",
    "      'into', 'through', 'during', 'before', 'after', 'above', 'below', 'to', 'from', 'up', 'down', 'in', 'out',\n",
    "      'on', 'off', 'over', 'under', 'again', 'further', 'then', 'once', 'here', 'there', 'when', 'where', 'why',\n",
    "      'how', 'all', 'any', 'both', 'each', 'few', 'more', 'most', 'other', 'some', 'such', 'no', 'nor', 'not',\n",
    "      'only', 'own', 'same', 'so', 'than', 'too', 'very', 's', 't', 'can', 'will', 'just', 'don', \"don't\",\n",
    "      'should', \"should've\", 'now', 'd', 'll', 'm', 'o', 're', 've', 'y', 'ain', 'aren', \"aren't\", 'couldn',\n",
    "      \"couldn't\", 'didn', \"didn't\", 'doesn', \"doesn't\", 'hadn', \"hadn't\", 'hasn', \"hasn't\", 'haven', \"haven't\",'isn', \n",
    "      \"isn't\", 'ma', 'mightn', \"mightn't\", 'mustn', \"mustn't\", 'needn', \"needn't\", 'shan', \"shan't\", 'shouldn', \n",
    "      \"shouldn't\", 'wasn', \"wasn't\", 'weren', \"weren't\", 'won', \"won't\", 'wouldn', \"wouldn't\", \"from\", \"subject\"]\n",
    "\n",
    "## function to clean\n",
    "def clean_text(x):\n",
    "    x = x.lower()\n",
    "    tokens = word_tokenize(x)\n",
    "    tokens = [tok for tok in tokens if tok.isalnum()]\n",
    "    tokens = [tok for tok in tokens if tok not in sw]\n",
    "    return \" \".join(tokens)"
   ]
  },
  {
   "cell_type": "code",
   "execution_count": 124,
   "metadata": {},
   "outputs": [],
   "source": [
    "## clean all synopses\n",
    "#cleaned_movies = movies_keep['plot_synopsis'].apply(lambda x: clean_text(x))"
   ]
  },
  {
   "cell_type": "markdown",
   "metadata": {},
   "source": [
    "### Top Words by Genre"
   ]
  },
  {
   "cell_type": "code",
   "execution_count": 15,
   "metadata": {},
   "outputs": [],
   "source": [
    "## clean synopses for movies in all the individual genres, use this to determine the top words in each genre\n",
    "cleaned_action = movies_keep[movies_keep['genre'] == 'Action']['plot_synopsis'].apply(lambda x: clean_text(x))\n",
    "cleaned_comedy = movies_keep[movies_keep['genre'] == 'Comedy']['plot_synopsis'].apply(lambda x: clean_text(x))\n",
    "cleaned_horror = movies_keep[movies_keep['genre'] == 'Horror']['plot_synopsis'].apply(lambda x: clean_text(x))"
   ]
  },
  {
   "cell_type": "code",
   "execution_count": 19,
   "metadata": {},
   "outputs": [
    {
     "data": {
      "text/plain": [
       "0      one\n",
       "1    tells\n",
       "2     back\n",
       "3      two\n",
       "4      man\n",
       "5      get\n",
       "6      men\n",
       "7      car\n",
       "8     find\n",
       "9     kill\n",
       "Name: index, dtype: object"
      ]
     },
     "execution_count": 19,
     "metadata": {},
     "output_type": "execute_result"
    }
   ],
   "source": [
    "cnt = CountVectorizer(min_df=0.05)\n",
    "wrd_freq = cnt.fit_transform(cleaned_action)\n",
    "freq_df_action = pd.DataFrame(wrd_freq.toarray(), columns=cnt.get_feature_names())\n",
    "top_action = freq_df_action.sum(axis=0).sort_values(ascending=False).reset_index()\n",
    "top_action.iloc[0:10,0]\n",
    "\n",
    "# f, ax = plt.subplots(figsize=(10, 6))\n",
    "# sns.set_color_codes(\"pastel\")\n",
    "# sns.barplot(x=top_action.iloc[0:9,0], y=top_action.iloc[0:9,1],\n",
    "#             label=\"Total\", color=\"g\")\n",
    "# ax.set(ylabel=\"frequency\",\n",
    "#        xlabel=\"word\",\n",
    "#        title=\"Top 10 Most Common Words -- Action\")\n",
    "# f.show()"
   ]
  },
  {
   "cell_type": "code",
   "execution_count": 21,
   "metadata": {},
   "outputs": [
    {
     "data": {
      "text/plain": [
       "0    tells\n",
       "1      one\n",
       "2     back\n",
       "3      get\n",
       "4      two\n",
       "5       go\n",
       "6     home\n",
       "7     says\n",
       "8    house\n",
       "9      new\n",
       "Name: index, dtype: object"
      ]
     },
     "execution_count": 21,
     "metadata": {},
     "output_type": "execute_result"
    }
   ],
   "source": [
    "cnt = CountVectorizer(min_df=0.05)\n",
    "wrd_freq = cnt.fit_transform(cleaned_comedy)\n",
    "freq_df_comedy = pd.DataFrame(wrd_freq.toarray(), columns=cnt.get_feature_names())\n",
    "top_comedy = freq_df_comedy.sum(axis=0).sort_values(ascending=False).reset_index()\n",
    "top_comedy.iloc[0:10,0]\n",
    "\n",
    "# f, ax = plt.subplots(figsize=(10, 6))\n",
    "# sns.set_color_codes(\"pastel\")\n",
    "# sns.barplot(x=top_comedy.iloc[0:9,0], y=top_comedy.iloc[0:9,1],\n",
    "#             label=\"Total\", color=\"b\")\n",
    "# ax.set(ylabel=\"frequency\",\n",
    "#        xlabel=\"word\",\n",
    "#        title=\"Top 10 Most Common Words -- Comedy\")\n",
    "# f.show()"
   ]
  },
  {
   "cell_type": "code",
   "execution_count": 22,
   "metadata": {},
   "outputs": [
    {
     "data": {
      "text/plain": [
       "0    tells\n",
       "1     back\n",
       "2    house\n",
       "3      one\n",
       "4     room\n",
       "5      man\n",
       "6     goes\n",
       "7     find\n",
       "8    finds\n",
       "9     says\n",
       "Name: index, dtype: object"
      ]
     },
     "execution_count": 22,
     "metadata": {},
     "output_type": "execute_result"
    }
   ],
   "source": [
    "cnt = CountVectorizer(min_df=0.05)\n",
    "wrd_freq = cnt.fit_transform(cleaned_horror)\n",
    "freq_df_horror = pd.DataFrame(wrd_freq.toarray(), columns=cnt.get_feature_names())\n",
    "top_horror = freq_df_horror.sum(axis=0).sort_values(ascending=False).reset_index()\n",
    "top_horror.iloc[0:10,0]\n",
    "\n",
    "# f, ax = plt.subplots(figsize=(10, 6))\n",
    "# sns.set_color_codes(\"pastel\")\n",
    "# sns.barplot(x=top_horror.iloc[0:9,0], y=top_horror.iloc[0:9,1],\n",
    "#             label=\"Total\", color=\"r\")\n",
    "# ax.set(ylabel=\"frequency\",\n",
    "#        xlabel=\"word\",\n",
    "#        title=\"Top 10 Most Common Words -- Horror\")\n",
    "# f.show()"
   ]
  },
  {
   "cell_type": "markdown",
   "metadata": {},
   "source": [
    "At this point, I noticed that there are a lot of similarities in the top words for these three genres. I decided to create an additional list of words, plot stop-words in a sense, to remove in the text-cleaning process. These are words that are common to all written movie synopses."
   ]
  },
  {
   "cell_type": "code",
   "execution_count": 23,
   "metadata": {},
   "outputs": [],
   "source": [
    "## find common words between all genres\n",
    "common_pw = pd.merge(left=pd.merge(left=top_action, right=top_comedy, how='inner', on='index',\n",
    "                                   suffixes=('_action', '_comedy')),\n",
    "                     right=top_horror, how='inner', on='index')\n",
    "common_pw['total'] = common_pw.iloc[:,1] + common_pw.iloc[:,2] + common_pw.iloc[:,3]\n",
    "\n",
    "## take top 200\n",
    "most_common_pw = common_pw.sort_values(ascending=False, by='total').iloc[0:200,0]"
   ]
  },
  {
   "cell_type": "markdown",
   "metadata": {},
   "source": [
    "### A NEW Cleaning Function"
   ]
  },
  {
   "cell_type": "code",
   "execution_count": 24,
   "metadata": {},
   "outputs": [],
   "source": [
    "## list of 200 plot words that are most common between all three genres\n",
    "hifreq_pw = list(most_common_pw)\n",
    "\n",
    "## function to clean\n",
    "def new_clean_text(x):\n",
    "    x = x.lower()\n",
    "    tokens = word_tokenize(x)\n",
    "    tokens = [tok for tok in tokens if tok.isalnum()]\n",
    "    tokens = [tok for tok in tokens if tok not in sw]\n",
    "    tokens = [tok for tok in tokens if tok not in hifreq_pw]\n",
    "    return \" \".join(tokens)"
   ]
  },
  {
   "cell_type": "code",
   "execution_count": 25,
   "metadata": {},
   "outputs": [],
   "source": [
    "new_cleaned_action = movies_keep[movies_keep['genre'] == 'Action']['plot_synopsis'].apply(lambda x: new_clean_text(x))\n",
    "new_cleaned_comedy = movies_keep[movies_keep['genre'] == 'Comedy']['plot_synopsis'].apply(lambda x: new_clean_text(x))\n",
    "new_cleaned_horror = movies_keep[movies_keep['genre'] == 'Horror']['plot_synopsis'].apply(lambda x: new_clean_text(x))"
   ]
  },
  {
   "cell_type": "code",
   "execution_count": 26,
   "metadata": {},
   "outputs": [
    {
     "data": {
      "image/png": "[encoded data removed]",
      "text/plain": [
       "<Figure size 720x432 with 1 Axes>"
      ]
     },
     "metadata": {
      "needs_background": "light"
     },
     "output_type": "display_data"
    }
   ],
   "source": [
    "cnt = CountVectorizer(min_df=0.05)\n",
    "wrd_freq = cnt.fit_transform(new_cleaned_action)\n",
    "freq_df_action = pd.DataFrame(wrd_freq.toarray(), columns=cnt.get_feature_names())\n",
    "top_action = freq_df_action.sum(axis=0).sort_values(ascending=False).reset_index()\n",
    "\n",
    "f, ax = plt.subplots(figsize=(10, 6))\n",
    "sns.set_color_codes(\"pastel\")\n",
    "sns.barplot(x=top_action.iloc[0:9,0], y=top_action.iloc[0:9,1],\n",
    "            label=\"Total\", color=\"g\")\n",
    "ax.set(ylabel=\"frequency\",\n",
    "       xlabel=\"word\",\n",
    "       title=\"Top 10 Most Common Words -- Action\")\n",
    "f.show()"
   ]
  },
  {
   "cell_type": "code",
   "execution_count": 27,
   "metadata": {},
   "outputs": [
    {
     "data": {
      "image/png": "[encoded data removed]",
      "text/plain": [
       "<Figure size 720x432 with 1 Axes>"
      ]
     },
     "metadata": {
      "needs_background": "light"
     },
     "output_type": "display_data"
    }
   ],
   "source": [
    "cnt = CountVectorizer(min_df=0.05)\n",
    "wrd_freq = cnt.fit_transform(new_cleaned_comedy)\n",
    "freq_df_comedy = pd.DataFrame(wrd_freq.toarray(), columns=cnt.get_feature_names())\n",
    "top_comedy = freq_df_comedy.sum(axis=0).sort_values(ascending=False).reset_index()\n",
    "\n",
    "f, ax = plt.subplots(figsize=(10, 6))\n",
    "sns.set_color_codes(\"pastel\")\n",
    "sns.barplot(x=top_comedy.iloc[0:9,0], y=top_comedy.iloc[0:9,1],\n",
    "            label=\"Total\", color=\"b\")\n",
    "ax.set(ylabel=\"frequency\",\n",
    "       xlabel=\"word\",\n",
    "       title=\"Top 10 Most Common Words -- Comedy\")\n",
    "f.show()"
   ]
  },
  {
   "cell_type": "code",
   "execution_count": 28,
   "metadata": {
    "scrolled": false
   },
   "outputs": [
    {
     "data": {
      "image/png": "[encoded data removed]",
      "text/plain": [
       "<Figure size 720x432 with 1 Axes>"
      ]
     },
     "metadata": {
      "needs_background": "light"
     },
     "output_type": "display_data"
    }
   ],
   "source": [
    "cnt = CountVectorizer(min_df=0.05)\n",
    "wrd_freq = cnt.fit_transform(new_cleaned_horror)\n",
    "freq_df_horror = pd.DataFrame(wrd_freq.toarray(), columns=cnt.get_feature_names())\n",
    "top_horror = freq_df_horror.sum(axis=0).sort_values(ascending=False).reset_index()\n",
    "\n",
    "f, ax = plt.subplots(figsize=(10, 6))\n",
    "sns.set_color_codes(\"pastel\")\n",
    "sns.barplot(x=top_horror.iloc[0:9,0], y=top_horror.iloc[0:9,1],\n",
    "            label=\"Total\", color=\"r\")\n",
    "ax.set(ylabel=\"frequency\",\n",
    "       xlabel=\"word\",\n",
    "       title=\"Top 10 Most Common Words -- Horror\")\n",
    "f.show()"
   ]
  },
  {
   "cell_type": "markdown",
   "metadata": {},
   "source": [
    "These top 10 most common words look a lot better now!!"
   ]
  },
  {
   "cell_type": "code",
   "execution_count": 29,
   "metadata": {},
   "outputs": [],
   "source": [
    "## clean all text\n",
    "cleaned_plot = movies_keep['plot_synopsis'].apply(lambda x: new_clean_text(x))"
   ]
  },
  {
   "cell_type": "code",
   "execution_count": 34,
   "metadata": {},
   "outputs": [
    {
     "data": {
      "text/html": [
       "<div>\n",
       "<style scoped>\n",
       "    .dataframe tbody tr th:only-of-type {\n",
       "        vertical-align: middle;\n",
       "    }\n",
       "\n",
       "    .dataframe tbody tr th {\n",
       "        vertical-align: top;\n",
       "    }\n",
       "\n",
       "    .dataframe thead th {\n",
       "        text-align: right;\n",
       "    }\n",
       "</style>\n",
       "<table border=\"1\" class=\"dataframe\">\n",
       "  <thead>\n",
       "    <tr style=\"text-align: right;\">\n",
       "      <th></th>\n",
       "      <th>10</th>\n",
       "      <th>100</th>\n",
       "      <th>11</th>\n",
       "      <th>12</th>\n",
       "      <th>15</th>\n",
       "      <th>18</th>\n",
       "      <th>20</th>\n",
       "      <th>200</th>\n",
       "      <th>24</th>\n",
       "      <th>25</th>\n",
       "      <th>...</th>\n",
       "      <th>yells</th>\n",
       "      <th>yes</th>\n",
       "      <th>yet</th>\n",
       "      <th>york</th>\n",
       "      <th>younger</th>\n",
       "      <th>youngest</th>\n",
       "      <th>youth</th>\n",
       "      <th>zombie</th>\n",
       "      <th>zombies</th>\n",
       "      <th>zone</th>\n",
       "    </tr>\n",
       "  </thead>\n",
       "  <tbody>\n",
       "    <tr>\n",
       "      <td>0</td>\n",
       "      <td>0.0</td>\n",
       "      <td>0.0</td>\n",
       "      <td>0.0</td>\n",
       "      <td>0.0</td>\n",
       "      <td>0.0</td>\n",
       "      <td>0.0</td>\n",
       "      <td>0.0</td>\n",
       "      <td>0.0</td>\n",
       "      <td>0.0</td>\n",
       "      <td>0.0</td>\n",
       "      <td>...</td>\n",
       "      <td>0.0</td>\n",
       "      <td>0.0</td>\n",
       "      <td>0.0</td>\n",
       "      <td>0.071144</td>\n",
       "      <td>0.0</td>\n",
       "      <td>0.0</td>\n",
       "      <td>0.0</td>\n",
       "      <td>0.0</td>\n",
       "      <td>0.0</td>\n",
       "      <td>0.0</td>\n",
       "    </tr>\n",
       "    <tr>\n",
       "      <td>1</td>\n",
       "      <td>0.0</td>\n",
       "      <td>0.0</td>\n",
       "      <td>0.0</td>\n",
       "      <td>0.0</td>\n",
       "      <td>0.0</td>\n",
       "      <td>0.0</td>\n",
       "      <td>0.0</td>\n",
       "      <td>0.0</td>\n",
       "      <td>0.0</td>\n",
       "      <td>0.0</td>\n",
       "      <td>...</td>\n",
       "      <td>0.0</td>\n",
       "      <td>0.0</td>\n",
       "      <td>0.0</td>\n",
       "      <td>0.000000</td>\n",
       "      <td>0.0</td>\n",
       "      <td>0.0</td>\n",
       "      <td>0.0</td>\n",
       "      <td>0.0</td>\n",
       "      <td>0.0</td>\n",
       "      <td>0.0</td>\n",
       "    </tr>\n",
       "    <tr>\n",
       "      <td>2</td>\n",
       "      <td>0.0</td>\n",
       "      <td>0.0</td>\n",
       "      <td>0.0</td>\n",
       "      <td>0.0</td>\n",
       "      <td>0.0</td>\n",
       "      <td>0.0</td>\n",
       "      <td>0.0</td>\n",
       "      <td>0.0</td>\n",
       "      <td>0.0</td>\n",
       "      <td>0.0</td>\n",
       "      <td>...</td>\n",
       "      <td>0.0</td>\n",
       "      <td>0.0</td>\n",
       "      <td>0.0</td>\n",
       "      <td>0.000000</td>\n",
       "      <td>0.0</td>\n",
       "      <td>0.0</td>\n",
       "      <td>0.0</td>\n",
       "      <td>0.0</td>\n",
       "      <td>0.0</td>\n",
       "      <td>0.0</td>\n",
       "    </tr>\n",
       "    <tr>\n",
       "      <td>3</td>\n",
       "      <td>0.0</td>\n",
       "      <td>0.0</td>\n",
       "      <td>0.0</td>\n",
       "      <td>0.0</td>\n",
       "      <td>0.0</td>\n",
       "      <td>0.0</td>\n",
       "      <td>0.0</td>\n",
       "      <td>0.0</td>\n",
       "      <td>0.0</td>\n",
       "      <td>0.0</td>\n",
       "      <td>...</td>\n",
       "      <td>0.0</td>\n",
       "      <td>0.0</td>\n",
       "      <td>0.0</td>\n",
       "      <td>0.000000</td>\n",
       "      <td>0.0</td>\n",
       "      <td>0.0</td>\n",
       "      <td>0.0</td>\n",
       "      <td>0.0</td>\n",
       "      <td>0.0</td>\n",
       "      <td>0.0</td>\n",
       "    </tr>\n",
       "    <tr>\n",
       "      <td>4</td>\n",
       "      <td>0.0</td>\n",
       "      <td>0.0</td>\n",
       "      <td>0.0</td>\n",
       "      <td>0.0</td>\n",
       "      <td>0.0</td>\n",
       "      <td>0.0</td>\n",
       "      <td>0.0</td>\n",
       "      <td>0.0</td>\n",
       "      <td>0.0</td>\n",
       "      <td>0.0</td>\n",
       "      <td>...</td>\n",
       "      <td>0.0</td>\n",
       "      <td>0.0</td>\n",
       "      <td>0.0</td>\n",
       "      <td>0.000000</td>\n",
       "      <td>0.0</td>\n",
       "      <td>0.0</td>\n",
       "      <td>0.0</td>\n",
       "      <td>0.0</td>\n",
       "      <td>0.0</td>\n",
       "      <td>0.0</td>\n",
       "    </tr>\n",
       "  </tbody>\n",
       "</table>\n",
       "<p>5 rows × 5014 columns</p>\n",
       "</div>"
      ],
      "text/plain": [
       "    10  100   11   12   15   18   20  200   24   25  ...  yells  yes  yet  \\\n",
       "0  0.0  0.0  0.0  0.0  0.0  0.0  0.0  0.0  0.0  0.0  ...    0.0  0.0  0.0   \n",
       "1  0.0  0.0  0.0  0.0  0.0  0.0  0.0  0.0  0.0  0.0  ...    0.0  0.0  0.0   \n",
       "2  0.0  0.0  0.0  0.0  0.0  0.0  0.0  0.0  0.0  0.0  ...    0.0  0.0  0.0   \n",
       "3  0.0  0.0  0.0  0.0  0.0  0.0  0.0  0.0  0.0  0.0  ...    0.0  0.0  0.0   \n",
       "4  0.0  0.0  0.0  0.0  0.0  0.0  0.0  0.0  0.0  0.0  ...    0.0  0.0  0.0   \n",
       "\n",
       "       york  younger  youngest  youth  zombie  zombies  zone  \n",
       "0  0.071144      0.0       0.0    0.0     0.0      0.0   0.0  \n",
       "1  0.000000      0.0       0.0    0.0     0.0      0.0   0.0  \n",
       "2  0.000000      0.0       0.0    0.0     0.0      0.0   0.0  \n",
       "3  0.000000      0.0       0.0    0.0     0.0      0.0   0.0  \n",
       "4  0.000000      0.0       0.0    0.0     0.0      0.0   0.0  \n",
       "\n",
       "[5 rows x 5014 columns]"
      ]
     },
     "execution_count": 34,
     "metadata": {},
     "output_type": "execute_result"
    }
   ],
   "source": [
    "## calculate tf-idf scores\n",
    "tf = TfidfVectorizer(max_df=.99, min_df=.01)\n",
    "X_plot = tf.fit_transform(cleaned_plot)\n",
    "plot_tfidf = pd.DataFrame(X_plot.toarray(), columns=tf.get_feature_names())\n",
    "plot_tfidf.head()"
   ]
  },
  {
   "cell_type": "markdown",
   "metadata": {},
   "source": [
    "### Additional EDA"
   ]
  },
  {
   "cell_type": "markdown",
   "metadata": {},
   "source": [
    "#### runtimeMinutes"
   ]
  },
  {
   "cell_type": "code",
   "execution_count": 58,
   "metadata": {
    "scrolled": false
   },
   "outputs": [
    {
     "data": {
      "text/plain": [
       "<matplotlib.axes._subplots.AxesSubplot at 0x1a44170950>"
      ]
     },
     "execution_count": 58,
     "metadata": {},
     "output_type": "execute_result"
    },
    {
     "data": {
      "image/png": "[encoded data removed]",
      "text/plain": [
       "<Figure size 432x288 with 1 Axes>"
      ]
     },
     "metadata": {
      "needs_background": "light"
     },
     "output_type": "display_data"
    }
   ],
   "source": [
    "## violin plots for runtime by genre\n",
    "sns.violinplot(x=\"genre\", y=\"runtimeMinutes\", palette='hls', data=movies_keep)"
   ]
  },
  {
   "cell_type": "markdown",
   "metadata": {},
   "source": [
    "#### averageRating"
   ]
  },
  {
   "cell_type": "code",
   "execution_count": 59,
   "metadata": {},
   "outputs": [
    {
     "data": {
      "text/plain": [
       "<matplotlib.axes._subplots.AxesSubplot at 0x1a441976d0>"
      ]
     },
     "execution_count": 59,
     "metadata": {},
     "output_type": "execute_result"
    },
    {
     "data": {
      "image/png": "[encoded data removed]",
      "text/plain": [
       "<Figure size 432x288 with 1 Axes>"
      ]
     },
     "metadata": {
      "needs_background": "light"
     },
     "output_type": "display_data"
    }
   ],
   "source": [
    "sns.violinplot(x=\"genre\", y=\"averageRating\", palette='hls', data=movies_keep)"
   ]
  },
  {
   "cell_type": "markdown",
   "metadata": {},
   "source": [
    "#### numVotes"
   ]
  },
  {
   "cell_type": "code",
   "execution_count": 60,
   "metadata": {
    "scrolled": true
   },
   "outputs": [
    {
     "data": {
      "text/plain": [
       "<matplotlib.axes._subplots.AxesSubplot at 0x1a34ae60d0>"
      ]
     },
     "execution_count": 60,
     "metadata": {},
     "output_type": "execute_result"
    },
    {
     "data": {
      "image/png": "[encoded data removed]",
      "text/plain": [
       "<Figure size 432x288 with 1 Axes>"
      ]
     },
     "metadata": {
      "needs_background": "light"
     },
     "output_type": "display_data"
    }
   ],
   "source": [
    "sns.violinplot(x=\"genre\", y=\"numVotes\", palette='hls', data=movies_keep)"
   ]
  },
  {
   "cell_type": "markdown",
   "metadata": {},
   "source": [
    "### K-Means Clustering and PCA"
   ]
  },
  {
   "cell_type": "code",
   "execution_count": 65,
   "metadata": {
    "scrolled": true
   },
   "outputs": [
    {
     "data": {
      "text/html": [
       "<div>\n",
       "<style scoped>\n",
       "    .dataframe tbody tr th:only-of-type {\n",
       "        vertical-align: middle;\n",
       "    }\n",
       "\n",
       "    .dataframe tbody tr th {\n",
       "        vertical-align: top;\n",
       "    }\n",
       "\n",
       "    .dataframe thead th {\n",
       "        text-align: right;\n",
       "    }\n",
       "</style>\n",
       "<table border=\"1\" class=\"dataframe\">\n",
       "  <thead>\n",
       "    <tr style=\"text-align: right;\">\n",
       "      <th></th>\n",
       "      <th>primaryTitle</th>\n",
       "      <th>runtimeMinutes</th>\n",
       "      <th>averageRating</th>\n",
       "      <th>numVotes</th>\n",
       "      <th>plot_synopsis</th>\n",
       "      <th>genre</th>\n",
       "    </tr>\n",
       "  </thead>\n",
       "  <tbody>\n",
       "    <tr>\n",
       "      <td>0</td>\n",
       "      <td>Kate &amp; Leopold</td>\n",
       "      <td>118.0</td>\n",
       "      <td>6.4</td>\n",
       "      <td>78334</td>\n",
       "      <td>On 28 April 1876, Leopold, His Grace the 3rd D...</td>\n",
       "      <td>Comedy</td>\n",
       "    </tr>\n",
       "    <tr>\n",
       "      <td>1</td>\n",
       "      <td>Halls of Montezuma</td>\n",
       "      <td>113.0</td>\n",
       "      <td>6.6</td>\n",
       "      <td>2458</td>\n",
       "      <td>During World War II, a Marine battalion prepar...</td>\n",
       "      <td>Action</td>\n",
       "    </tr>\n",
       "    <tr>\n",
       "      <td>2</td>\n",
       "      <td>Anne of the Indies</td>\n",
       "      <td>81.0</td>\n",
       "      <td>6.7</td>\n",
       "      <td>1173</td>\n",
       "      <td>After seizing a British ship, the barefoot, fe...</td>\n",
       "      <td>Action</td>\n",
       "    </tr>\n",
       "    <tr>\n",
       "      <td>3</td>\n",
       "      <td>Callaway Went Thataway</td>\n",
       "      <td>81.0</td>\n",
       "      <td>6.5</td>\n",
       "      <td>593</td>\n",
       "      <td>Mike Frye (MacMurray) and Deborah Patterson (M...</td>\n",
       "      <td>Comedy</td>\n",
       "    </tr>\n",
       "    <tr>\n",
       "      <td>4</td>\n",
       "      <td>Captain Horatio Hornblower R.N.</td>\n",
       "      <td>117.0</td>\n",
       "      <td>7.3</td>\n",
       "      <td>6052</td>\n",
       "      <td>In 1807, during the Napoleonic Wars, British R...</td>\n",
       "      <td>Action</td>\n",
       "    </tr>\n",
       "  </tbody>\n",
       "</table>\n",
       "</div>"
      ],
      "text/plain": [
       "                      primaryTitle  runtimeMinutes  averageRating  numVotes  \\\n",
       "0                   Kate & Leopold           118.0            6.4     78334   \n",
       "1               Halls of Montezuma           113.0            6.6      2458   \n",
       "2               Anne of the Indies            81.0            6.7      1173   \n",
       "3           Callaway Went Thataway            81.0            6.5       593   \n",
       "4  Captain Horatio Hornblower R.N.           117.0            7.3      6052   \n",
       "\n",
       "                                       plot_synopsis   genre  \n",
       "0  On 28 April 1876, Leopold, His Grace the 3rd D...  Comedy  \n",
       "1  During World War II, a Marine battalion prepar...  Action  \n",
       "2  After seizing a British ship, the barefoot, fe...  Action  \n",
       "3  Mike Frye (MacMurray) and Deborah Patterson (M...  Comedy  \n",
       "4  In 1807, during the Napoleonic Wars, British R...  Action  "
      ]
     },
     "execution_count": 65,
     "metadata": {},
     "output_type": "execute_result"
    }
   ],
   "source": [
    "movies_keep.head()"
   ]
  },
  {
   "cell_type": "code",
   "execution_count": 68,
   "metadata": {},
   "outputs": [],
   "source": [
    "## instantiate, fit, and transform the minmaxscaler on runtime, rating, and votes features\n",
    "scaler = MinMaxScaler()\n",
    "scaled = scaler.fit_transform(movies_keep[['runtimeMinutes', 'averageRating', 'numVotes']])\n",
    "scaled_X = pd.DataFrame(data=scaled, columns = ['runtimeMinutes', 'averageRating', 'numVotes'])"
   ]
  },
  {
   "cell_type": "code",
   "execution_count": 71,
   "metadata": {
    "scrolled": true
   },
   "outputs": [
    {
     "data": {
      "text/html": [
       "<div>\n",
       "<style scoped>\n",
       "    .dataframe tbody tr th:only-of-type {\n",
       "        vertical-align: middle;\n",
       "    }\n",
       "\n",
       "    .dataframe tbody tr th {\n",
       "        vertical-align: top;\n",
       "    }\n",
       "\n",
       "    .dataframe thead th {\n",
       "        text-align: right;\n",
       "    }\n",
       "</style>\n",
       "<table border=\"1\" class=\"dataframe\">\n",
       "  <thead>\n",
       "    <tr style=\"text-align: right;\">\n",
       "      <th></th>\n",
       "      <th>runtimeMinutes</th>\n",
       "      <th>averageRating</th>\n",
       "      <th>numVotes</th>\n",
       "      <th>10</th>\n",
       "      <th>100</th>\n",
       "      <th>11</th>\n",
       "      <th>12</th>\n",
       "      <th>15</th>\n",
       "      <th>18</th>\n",
       "      <th>20</th>\n",
       "      <th>...</th>\n",
       "      <th>yells</th>\n",
       "      <th>yes</th>\n",
       "      <th>yet</th>\n",
       "      <th>york</th>\n",
       "      <th>younger</th>\n",
       "      <th>youngest</th>\n",
       "      <th>youth</th>\n",
       "      <th>zombie</th>\n",
       "      <th>zombies</th>\n",
       "      <th>zone</th>\n",
       "    </tr>\n",
       "  </thead>\n",
       "  <tbody>\n",
       "    <tr>\n",
       "      <td>0</td>\n",
       "      <td>0.264493</td>\n",
       "      <td>0.657895</td>\n",
       "      <td>0.034509</td>\n",
       "      <td>0.0</td>\n",
       "      <td>0.0</td>\n",
       "      <td>0.0</td>\n",
       "      <td>0.0</td>\n",
       "      <td>0.0</td>\n",
       "      <td>0.0</td>\n",
       "      <td>0.0</td>\n",
       "      <td>...</td>\n",
       "      <td>0.0</td>\n",
       "      <td>0.0</td>\n",
       "      <td>0.0</td>\n",
       "      <td>0.071144</td>\n",
       "      <td>0.0</td>\n",
       "      <td>0.0</td>\n",
       "      <td>0.0</td>\n",
       "      <td>0.0</td>\n",
       "      <td>0.0</td>\n",
       "      <td>0.0</td>\n",
       "    </tr>\n",
       "    <tr>\n",
       "      <td>1</td>\n",
       "      <td>0.246377</td>\n",
       "      <td>0.684211</td>\n",
       "      <td>0.001078</td>\n",
       "      <td>0.0</td>\n",
       "      <td>0.0</td>\n",
       "      <td>0.0</td>\n",
       "      <td>0.0</td>\n",
       "      <td>0.0</td>\n",
       "      <td>0.0</td>\n",
       "      <td>0.0</td>\n",
       "      <td>...</td>\n",
       "      <td>0.0</td>\n",
       "      <td>0.0</td>\n",
       "      <td>0.0</td>\n",
       "      <td>0.000000</td>\n",
       "      <td>0.0</td>\n",
       "      <td>0.0</td>\n",
       "      <td>0.0</td>\n",
       "      <td>0.0</td>\n",
       "      <td>0.0</td>\n",
       "      <td>0.0</td>\n",
       "    </tr>\n",
       "    <tr>\n",
       "      <td>2</td>\n",
       "      <td>0.130435</td>\n",
       "      <td>0.697368</td>\n",
       "      <td>0.000512</td>\n",
       "      <td>0.0</td>\n",
       "      <td>0.0</td>\n",
       "      <td>0.0</td>\n",
       "      <td>0.0</td>\n",
       "      <td>0.0</td>\n",
       "      <td>0.0</td>\n",
       "      <td>0.0</td>\n",
       "      <td>...</td>\n",
       "      <td>0.0</td>\n",
       "      <td>0.0</td>\n",
       "      <td>0.0</td>\n",
       "      <td>0.000000</td>\n",
       "      <td>0.0</td>\n",
       "      <td>0.0</td>\n",
       "      <td>0.0</td>\n",
       "      <td>0.0</td>\n",
       "      <td>0.0</td>\n",
       "      <td>0.0</td>\n",
       "    </tr>\n",
       "    <tr>\n",
       "      <td>3</td>\n",
       "      <td>0.130435</td>\n",
       "      <td>0.671053</td>\n",
       "      <td>0.000256</td>\n",
       "      <td>0.0</td>\n",
       "      <td>0.0</td>\n",
       "      <td>0.0</td>\n",
       "      <td>0.0</td>\n",
       "      <td>0.0</td>\n",
       "      <td>0.0</td>\n",
       "      <td>0.0</td>\n",
       "      <td>...</td>\n",
       "      <td>0.0</td>\n",
       "      <td>0.0</td>\n",
       "      <td>0.0</td>\n",
       "      <td>0.000000</td>\n",
       "      <td>0.0</td>\n",
       "      <td>0.0</td>\n",
       "      <td>0.0</td>\n",
       "      <td>0.0</td>\n",
       "      <td>0.0</td>\n",
       "      <td>0.0</td>\n",
       "    </tr>\n",
       "    <tr>\n",
       "      <td>4</td>\n",
       "      <td>0.260870</td>\n",
       "      <td>0.776316</td>\n",
       "      <td>0.002661</td>\n",
       "      <td>0.0</td>\n",
       "      <td>0.0</td>\n",
       "      <td>0.0</td>\n",
       "      <td>0.0</td>\n",
       "      <td>0.0</td>\n",
       "      <td>0.0</td>\n",
       "      <td>0.0</td>\n",
       "      <td>...</td>\n",
       "      <td>0.0</td>\n",
       "      <td>0.0</td>\n",
       "      <td>0.0</td>\n",
       "      <td>0.000000</td>\n",
       "      <td>0.0</td>\n",
       "      <td>0.0</td>\n",
       "      <td>0.0</td>\n",
       "      <td>0.0</td>\n",
       "      <td>0.0</td>\n",
       "      <td>0.0</td>\n",
       "    </tr>\n",
       "  </tbody>\n",
       "</table>\n",
       "<p>5 rows × 5017 columns</p>\n",
       "</div>"
      ],
      "text/plain": [
       "   runtimeMinutes  averageRating  numVotes   10  100   11   12   15   18   20  \\\n",
       "0        0.264493       0.657895  0.034509  0.0  0.0  0.0  0.0  0.0  0.0  0.0   \n",
       "1        0.246377       0.684211  0.001078  0.0  0.0  0.0  0.0  0.0  0.0  0.0   \n",
       "2        0.130435       0.697368  0.000512  0.0  0.0  0.0  0.0  0.0  0.0  0.0   \n",
       "3        0.130435       0.671053  0.000256  0.0  0.0  0.0  0.0  0.0  0.0  0.0   \n",
       "4        0.260870       0.776316  0.002661  0.0  0.0  0.0  0.0  0.0  0.0  0.0   \n",
       "\n",
       "   ...  yells  yes  yet      york  younger  youngest  youth  zombie  zombies  \\\n",
       "0  ...    0.0  0.0  0.0  0.071144      0.0       0.0    0.0     0.0      0.0   \n",
       "1  ...    0.0  0.0  0.0  0.000000      0.0       0.0    0.0     0.0      0.0   \n",
       "2  ...    0.0  0.0  0.0  0.000000      0.0       0.0    0.0     0.0      0.0   \n",
       "3  ...    0.0  0.0  0.0  0.000000      0.0       0.0    0.0     0.0      0.0   \n",
       "4  ...    0.0  0.0  0.0  0.000000      0.0       0.0    0.0     0.0      0.0   \n",
       "\n",
       "   zone  \n",
       "0   0.0  \n",
       "1   0.0  \n",
       "2   0.0  \n",
       "3   0.0  \n",
       "4   0.0  \n",
       "\n",
       "[5 rows x 5017 columns]"
      ]
     },
     "execution_count": 71,
     "metadata": {},
     "output_type": "execute_result"
    }
   ],
   "source": [
    "## combine scaled features with tf-idf scores from the synopsis text\n",
    "X_df = pd.concat([scaled_X, plot_tfidf], axis=1, join_axes=[scaled_X.index])\n",
    "X_df.head()"
   ]
  },
  {
   "cell_type": "code",
   "execution_count": 72,
   "metadata": {},
   "outputs": [],
   "source": [
    "## k-means cluster analysis for multiple values of k\n",
    "wcss = []\n",
    "for k in range(1,10):\n",
    "    kmeans = KMeans(n_clusters=k)\n",
    "    kmeans.fit(X_df)\n",
    "    wcss.append(kmeans.inertia_)"
   ]
  },
  {
   "cell_type": "code",
   "execution_count": 74,
   "metadata": {
    "scrolled": true
   },
   "outputs": [
    {
     "data": {
      "text/plain": [
       "Text(0, 0.5, 'WCSS')"
      ]
     },
     "execution_count": 74,
     "metadata": {},
     "output_type": "execute_result"
    },
    {
     "data": {
      "image/png": "[encoded data removed]",
      "text/plain": [
       "<Figure size 432x288 with 1 Axes>"
      ]
     },
     "metadata": {
      "needs_background": "light"
     },
     "output_type": "display_data"
    }
   ],
   "source": [
    "## make elbow plot (theoretically, the optimal value of k should be at 3)\n",
    "plt.plot(np.arange(1,10), wcss, 'ok-')\n",
    "plt.xlabel('Number of Clusters, K')\n",
    "plt.ylabel('WCSS')"
   ]
  },
  {
   "cell_type": "markdown",
   "metadata": {},
   "source": [
    "There is a local elbow at `k = 2`, but because I know that the data has 3 genre categories, I'm going to go with 3 clusters. It's not unreasonable."
   ]
  },
  {
   "cell_type": "code",
   "execution_count": 87,
   "metadata": {
    "scrolled": false
   },
   "outputs": [
    {
     "name": "stdout",
     "output_type": "stream",
     "text": [
      "Cluster 0:\n",
      " averageRating: 0.763\n",
      " runtimeMinutes: 0.262\n",
      " numVotes: 0.053\n",
      " bond: 0.013\n",
      " gang: 0.012\n",
      " frank: 0.012\n",
      " train: 0.012\n",
      " harry: 0.011\n",
      " ship: 0.011\n",
      " sam: 0.011\n",
      "\n",
      "Cluster 1:\n",
      " averageRating: 0.383\n",
      " runtimeMinutes: 0.177\n",
      " girls: 0.011\n",
      " johnny: 0.01\n",
      " attacked: 0.01\n",
      " creature: 0.009\n",
      " zombies: 0.009\n",
      " sister: 0.009\n",
      " vampire: 0.009\n",
      " blood: 0.009\n",
      "\n",
      "Cluster 2:\n",
      " averageRating: 0.608\n",
      " runtimeMinutes: 0.194\n",
      " numVotes: 0.015\n",
      " joe: 0.011\n",
      " paul: 0.011\n",
      " sam: 0.01\n",
      " nick: 0.01\n",
      " gang: 0.01\n",
      " mike: 0.01\n",
      " ben: 0.009\n",
      "\n"
     ]
    }
   ],
   "source": [
    "## fit k-means and determine the cluster centers\n",
    "km = KMeans(n_clusters=3, random_state=80109)\n",
    "km.fit(X_df)\n",
    "centers = pd.DataFrame(km.cluster_centers_, columns=X_df.columns)\n",
    "\n",
    "## determine top features from each cluster\n",
    "order_centroids = km.cluster_centers_.argsort()[:,::-1]\n",
    "\n",
    "for i in range(3):\n",
    "    print(\"Cluster %d:\" % i, end='\\n')\n",
    "    for ind in order_centroids[i, :10]:\n",
    "        print(' %s' % X_df.columns[ind] + ': ' + \n",
    "              str(round(centers.loc[i, X_df.columns[ind]], 3)), end='\\n')\n",
    "    print()"
   ]
  },
  {
   "cell_type": "markdown",
   "metadata": {},
   "source": []
  },
  {
   "cell_type": "code",
   "execution_count": 86,
   "metadata": {
    "scrolled": true
   },
   "outputs": [
    {
     "data": {
      "text/plain": [
       "<matplotlib.collections.PathCollection at 0x1a46e26550>"
      ]
     },
     "execution_count": 86,
     "metadata": {},
     "output_type": "execute_result"
    },
    {
     "data": {
      "image/png": "[encoded data removed]",
      "text/plain": [
       "<Figure size 432x288 with 1 Axes>"
      ]
     },
     "metadata": {
      "needs_background": "light"
     },
     "output_type": "display_data"
    }
   ],
   "source": [
    "## look at first 2 principle components colored by cluster label\n",
    "pca = PCA(n_components=2, random_state=80109)\n",
    "pca.fit(X_df)\n",
    "prnc_comp = pca.transform(X_df)\n",
    "plt.scatter(prnc_comp[:,0], prnc_comp[:,1], c=km.labels_)"
   ]
  },
  {
   "cell_type": "markdown",
   "metadata": {},
   "source": [
    "A quick look at the first two principal components of the fully processed data indicates that there is clear separation between clusters (the three genres that make up the target variable). That being said, there aren't clear clusters. The plot above just looks like one big blob. \n",
    "\n",
    "Throughout the data cleaning process, I made an effort to select genres that would seem to be naturally distinct from each other. This could be argued and I of course acknowledge the overlap of themes or events in these types of movies; but Action, Comedy, and Horror films are different enough from each other in nature to perhaps lend themselves to analysis (instead of something like Action, Adventure, and Drama). Additionally, creating an expansive list of plot \"stop words,\" which are words that are common in storywriting, reinforced the already present differences between these genres. \n",
    "\n",
    "I feel comfortable proceeding with the model section of this project, knowing that effort was made to make the target categories as distinct as possible."
   ]
  },
  {
   "cell_type": "markdown",
   "metadata": {},
   "source": [
    "(it could be possible that adding in the extra variables runtime, average rating, and votes adds too much noise to the information derived from the text of the plot. in a quick exploration of those three variables, they didn't appear to be very different between genres and it is likely that they aren't very helpful in making classifications. it could be worth exploring how well the genres separate, and how well my models can predict, with just the movie synopses.)"
   ]
  },
  {
   "cell_type": "markdown",
   "metadata": {},
   "source": [
    "## Methods and Results"
   ]
  },
  {
   "cell_type": "markdown",
   "metadata": {},
   "source": [
    "### Random Forest"
   ]
  },
  {
   "cell_type": "code",
   "execution_count": null,
   "metadata": {},
   "outputs": [],
   "source": []
  },
  {
   "cell_type": "markdown",
   "metadata": {},
   "source": [
    "### Extreme Gradient Boosting"
   ]
  },
  {
   "cell_type": "code",
   "execution_count": null,
   "metadata": {},
   "outputs": [],
   "source": []
  },
  {
   "cell_type": "markdown",
   "metadata": {},
   "source": [
    "### Naive Bayes"
   ]
  },
  {
   "cell_type": "code",
   "execution_count": null,
   "metadata": {},
   "outputs": [],
   "source": []
  }
 ],
 "metadata": {
  "kernelspec": {
   "display_name": "Python 3",
   "language": "python",
   "name": "python3"
  },
  "language_info": {
   "codemirror_mode": {
    "name": "ipython",
    "version": 3
   },
   "file_extension": ".py",
   "mimetype": "text/x-python",
   "name": "python",
   "nbconvert_exporter": "python",
   "pygments_lexer": "ipython3",
   "version": "3.7.4"
  }
 },
 "nbformat": 4,
 "nbformat_minor": 2
}
