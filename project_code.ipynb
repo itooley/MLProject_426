{
 "cells": [
  {
   "cell_type": "markdown",
   "metadata": {},
   "source": [
    "# Final Project\n",
    "Using plot synopses of movies to predict the genre of the film."
   ]
  },
  {
   "cell_type": "code",
   "execution_count": 1,
   "metadata": {},
   "outputs": [],
   "source": [
    "import pandas as pd\n",
    "import numpy as np\n",
    "import matplotlib.pyplot as plt\n",
    "import seaborn as sns\n",
    "import re\n",
    "import warnings\n",
    "warnings.filterwarnings('ignore')"
   ]
  },
  {
   "cell_type": "code",
   "execution_count": 2,
   "metadata": {},
   "outputs": [],
   "source": [
    "from nltk import word_tokenize\n",
    "from sklearn.feature_extraction.text import CountVectorizer\n",
    "from sklearn.feature_extraction.text import TfidfVectorizer"
   ]
  },
  {
   "cell_type": "markdown",
   "metadata": {},
   "source": [
    "## Data Collection and Cleaning"
   ]
  },
  {
   "cell_type": "markdown",
   "metadata": {},
   "source": [
    "### Import Datasets"
   ]
  },
  {
   "cell_type": "code",
   "execution_count": 3,
   "metadata": {},
   "outputs": [],
   "source": [
    "## read in data\n",
    "basics = pd.read_csv('title.basics.tsv', sep='\\t')\n",
    "ratings = pd.read_csv('title.ratings.tsv', sep='\\t')\n",
    "synopses = pd.read_csv('mpst_full_data.csv')"
   ]
  },
  {
   "cell_type": "code",
   "execution_count": 93,
   "metadata": {
    "scrolled": true
   },
   "outputs": [],
   "source": [
    "#basics.head()"
   ]
  },
  {
   "cell_type": "code",
   "execution_count": 94,
   "metadata": {},
   "outputs": [],
   "source": [
    "#ratings.head()"
   ]
  },
  {
   "cell_type": "code",
   "execution_count": 95,
   "metadata": {
    "scrolled": true
   },
   "outputs": [],
   "source": [
    "#synopses.head()"
   ]
  },
  {
   "cell_type": "code",
   "execution_count": 96,
   "metadata": {},
   "outputs": [
    {
     "data": {
      "text/html": [
       "<div>\n",
       "<style scoped>\n",
       "    .dataframe tbody tr th:only-of-type {\n",
       "        vertical-align: middle;\n",
       "    }\n",
       "\n",
       "    .dataframe tbody tr th {\n",
       "        vertical-align: top;\n",
       "    }\n",
       "\n",
       "    .dataframe thead th {\n",
       "        text-align: right;\n",
       "    }\n",
       "</style>\n",
       "<table border=\"1\" class=\"dataframe\">\n",
       "  <thead>\n",
       "    <tr style=\"text-align: right;\">\n",
       "      <th></th>\n",
       "      <th>tconst</th>\n",
       "      <th>titleType</th>\n",
       "      <th>primaryTitle</th>\n",
       "      <th>originalTitle</th>\n",
       "      <th>isAdult</th>\n",
       "      <th>startYear</th>\n",
       "      <th>endYear</th>\n",
       "      <th>runtimeMinutes</th>\n",
       "      <th>genres</th>\n",
       "      <th>averageRating</th>\n",
       "      <th>numVotes</th>\n",
       "      <th>imdb_id</th>\n",
       "      <th>title</th>\n",
       "      <th>plot_synopsis</th>\n",
       "      <th>tags</th>\n",
       "      <th>split</th>\n",
       "      <th>synopsis_source</th>\n",
       "    </tr>\n",
       "  </thead>\n",
       "  <tbody>\n",
       "    <tr>\n",
       "      <td>0</td>\n",
       "      <td>tt0000091</td>\n",
       "      <td>short</td>\n",
       "      <td>The House of the Devil</td>\n",
       "      <td>Le manoir du diable</td>\n",
       "      <td>0</td>\n",
       "      <td>1896</td>\n",
       "      <td>\\N</td>\n",
       "      <td>3</td>\n",
       "      <td>Horror,Short</td>\n",
       "      <td>6.7</td>\n",
       "      <td>2859</td>\n",
       "      <td>tt0000091</td>\n",
       "      <td>Le manoir du diable</td>\n",
       "      <td>The film opens with a large bat flying into a ...</td>\n",
       "      <td>paranormal, gothic</td>\n",
       "      <td>train</td>\n",
       "      <td>wikipedia</td>\n",
       "    </tr>\n",
       "    <tr>\n",
       "      <td>1</td>\n",
       "      <td>tt0000225</td>\n",
       "      <td>short</td>\n",
       "      <td>Beauty and the Beast</td>\n",
       "      <td>La belle et la bête</td>\n",
       "      <td>0</td>\n",
       "      <td>1899</td>\n",
       "      <td>\\N</td>\n",
       "      <td>\\N</td>\n",
       "      <td>Family,Fantasy,Romance</td>\n",
       "      <td>5.1</td>\n",
       "      <td>18</td>\n",
       "      <td>tt0000225</td>\n",
       "      <td>La belle et la bête</td>\n",
       "      <td>A widower merchant lives in a mansion with his...</td>\n",
       "      <td>fantasy</td>\n",
       "      <td>train</td>\n",
       "      <td>wikipedia</td>\n",
       "    </tr>\n",
       "    <tr>\n",
       "      <td>2</td>\n",
       "      <td>tt0000230</td>\n",
       "      <td>short</td>\n",
       "      <td>Cinderella</td>\n",
       "      <td>Cendrillon</td>\n",
       "      <td>0</td>\n",
       "      <td>1899</td>\n",
       "      <td>\\N</td>\n",
       "      <td>6</td>\n",
       "      <td>Drama,Family,Fantasy</td>\n",
       "      <td>6.5</td>\n",
       "      <td>1358</td>\n",
       "      <td>tt0000230</td>\n",
       "      <td>Cendrillon</td>\n",
       "      <td>A prologue in front of the curtain, suppressed...</td>\n",
       "      <td>fantasy</td>\n",
       "      <td>train</td>\n",
       "      <td>wikipedia</td>\n",
       "    </tr>\n",
       "  </tbody>\n",
       "</table>\n",
       "</div>"
      ],
      "text/plain": [
       "      tconst titleType            primaryTitle        originalTitle  isAdult  \\\n",
       "0  tt0000091     short  The House of the Devil  Le manoir du diable        0   \n",
       "1  tt0000225     short    Beauty and the Beast  La belle et la bête        0   \n",
       "2  tt0000230     short              Cinderella           Cendrillon        0   \n",
       "\n",
       "  startYear endYear runtimeMinutes                  genres  averageRating  \\\n",
       "0      1896      \\N              3            Horror,Short            6.7   \n",
       "1      1899      \\N             \\N  Family,Fantasy,Romance            5.1   \n",
       "2      1899      \\N              6    Drama,Family,Fantasy            6.5   \n",
       "\n",
       "   numVotes    imdb_id                title  \\\n",
       "0      2859  tt0000091  Le manoir du diable   \n",
       "1        18  tt0000225  La belle et la bête   \n",
       "2      1358  tt0000230           Cendrillon   \n",
       "\n",
       "                                       plot_synopsis                tags  \\\n",
       "0  The film opens with a large bat flying into a ...  paranormal, gothic   \n",
       "1  A widower merchant lives in a mansion with his...             fantasy   \n",
       "2  A prologue in front of the curtain, suppressed...             fantasy   \n",
       "\n",
       "   split synopsis_source  \n",
       "0  train       wikipedia  \n",
       "1  train       wikipedia  \n",
       "2  train       wikipedia  "
      ]
     },
     "execution_count": 96,
     "metadata": {},
     "output_type": "execute_result"
    }
   ],
   "source": [
    "## merge all\n",
    "all = pd.merge(left=pd.merge(basics, ratings, 'inner', on='tconst'), \n",
    "               right=synopses, how='inner', left_on='tconst', right_on='imdb_id')\n",
    "all.head(3)"
   ]
  },
  {
   "cell_type": "code",
   "execution_count": 97,
   "metadata": {
    "scrolled": true
   },
   "outputs": [
    {
     "name": "stdout",
     "output_type": "stream",
     "text": [
      "Number of movies with plot data: 14828\n",
      "Number of movies after merge: 14765\n"
     ]
    }
   ],
   "source": [
    "print('Number of movies with plot data:', synopses.shape[0])\n",
    "print('Number of movies after merge:', all.shape[0])"
   ]
  },
  {
   "cell_type": "markdown",
   "metadata": {},
   "source": [
    "The IMDb basics dataset is quite large, containing a lot of information about all IMDb tracked digital media content. Including **`genre`**, which is the response variable that I'm hope to be able to predict using a multinomial classification approach. Some other variables in this dataset could also be useful (like `runtime` and `release year`). Each movie has an ID under the `tconst` variable.\n",
    "\n",
    "The second IMDb dataset includes rating information and the unique identifier under the `tconst` variable. The only other features in this dataset are `averageRating` and `numVotes`. These are the average of all user ratings and the number of user votes the film received.\n",
    "\n",
    "The MPST Kaggle dataset is much smaller, containing plot descriptions and summaries that were collected from IMDb and Wikipedia pages. There is also an `imdb_id`, which corresponds directly to the `tconst` variable that uniquely identifies each film in the IMDb datasets. This made it possible to merge the IMDb data with the Kaggle plot synopsis data. The resulting dataframe has a total of 14,765 observations, for which the movie had both plot and IMDb information.\n",
    "\n",
    "At this point, what's left over are movies for which there is an available plot summary. Additional filtering and cleaning will be performed in the next section."
   ]
  },
  {
   "cell_type": "markdown",
   "metadata": {},
   "source": [
    "### Data Cleaning"
   ]
  },
  {
   "cell_type": "code",
   "execution_count": 110,
   "metadata": {
    "scrolled": true
   },
   "outputs": [
    {
     "data": {
      "text/html": [
       "<div>\n",
       "<style scoped>\n",
       "    .dataframe tbody tr th:only-of-type {\n",
       "        vertical-align: middle;\n",
       "    }\n",
       "\n",
       "    .dataframe tbody tr th {\n",
       "        vertical-align: top;\n",
       "    }\n",
       "\n",
       "    .dataframe thead th {\n",
       "        text-align: right;\n",
       "    }\n",
       "</style>\n",
       "<table border=\"1\" class=\"dataframe\">\n",
       "  <thead>\n",
       "    <tr style=\"text-align: right;\">\n",
       "      <th></th>\n",
       "      <th>tconst</th>\n",
       "      <th>primaryTitle</th>\n",
       "      <th>startYear</th>\n",
       "      <th>runtimeMinutes</th>\n",
       "      <th>genres</th>\n",
       "      <th>averageRating</th>\n",
       "      <th>numVotes</th>\n",
       "      <th>plot_synopsis</th>\n",
       "    </tr>\n",
       "  </thead>\n",
       "  <tbody>\n",
       "    <tr>\n",
       "      <td>756</td>\n",
       "      <td>tt0035423</td>\n",
       "      <td>Kate &amp; Leopold</td>\n",
       "      <td>2001</td>\n",
       "      <td>118</td>\n",
       "      <td>Comedy,Fantasy,Romance</td>\n",
       "      <td>6.4</td>\n",
       "      <td>78334</td>\n",
       "      <td>On 28 April 1876, Leopold, His Grace the 3rd D...</td>\n",
       "    </tr>\n",
       "    <tr>\n",
       "      <td>1336</td>\n",
       "      <td>tt0042478</td>\n",
       "      <td>The Franchise Affair</td>\n",
       "      <td>1951</td>\n",
       "      <td>88</td>\n",
       "      <td>Crime,Drama,Mystery</td>\n",
       "      <td>7.1</td>\n",
       "      <td>206</td>\n",
       "      <td>Robert Blair, a local solicitor, is called on ...</td>\n",
       "    </tr>\n",
       "    <tr>\n",
       "      <td>1342</td>\n",
       "      <td>tt0042539</td>\n",
       "      <td>Halls of Montezuma</td>\n",
       "      <td>1951</td>\n",
       "      <td>113</td>\n",
       "      <td>Action,Adventure,Drama</td>\n",
       "      <td>6.6</td>\n",
       "      <td>2458</td>\n",
       "      <td>During World War II, a Marine battalion prepar...</td>\n",
       "    </tr>\n",
       "    <tr>\n",
       "      <td>1349</td>\n",
       "      <td>tt0042619</td>\n",
       "      <td>Diary of a Country Priest</td>\n",
       "      <td>1951</td>\n",
       "      <td>115</td>\n",
       "      <td>Drama</td>\n",
       "      <td>7.9</td>\n",
       "      <td>9949</td>\n",
       "      <td>An idealistic young priest arrives at Ambricou...</td>\n",
       "    </tr>\n",
       "    <tr>\n",
       "      <td>1382</td>\n",
       "      <td>tt0043086</td>\n",
       "      <td>Under the Gun</td>\n",
       "      <td>1951</td>\n",
       "      <td>83</td>\n",
       "      <td>Crime,Drama,Film-Noir</td>\n",
       "      <td>6.8</td>\n",
       "      <td>117</td>\n",
       "      <td>At a Miami nightclub, gangster Bert Galvin off...</td>\n",
       "    </tr>\n",
       "  </tbody>\n",
       "</table>\n",
       "</div>"
      ],
      "text/plain": [
       "         tconst               primaryTitle startYear runtimeMinutes  \\\n",
       "756   tt0035423             Kate & Leopold      2001            118   \n",
       "1336  tt0042478       The Franchise Affair      1951             88   \n",
       "1342  tt0042539         Halls of Montezuma      1951            113   \n",
       "1349  tt0042619  Diary of a Country Priest      1951            115   \n",
       "1382  tt0043086              Under the Gun      1951             83   \n",
       "\n",
       "                      genres  averageRating  numVotes  \\\n",
       "756   Comedy,Fantasy,Romance            6.4     78334   \n",
       "1336     Crime,Drama,Mystery            7.1       206   \n",
       "1342  Action,Adventure,Drama            6.6      2458   \n",
       "1349                   Drama            7.9      9949   \n",
       "1382   Crime,Drama,Film-Noir            6.8       117   \n",
       "\n",
       "                                          plot_synopsis  \n",
       "756   On 28 April 1876, Leopold, His Grace the 3rd D...  \n",
       "1336  Robert Blair, a local solicitor, is called on ...  \n",
       "1342  During World War II, a Marine battalion prepar...  \n",
       "1349  An idealistic young priest arrives at Ambricou...  \n",
       "1382  At a Miami nightclub, gangster Bert Galvin off...  "
      ]
     },
     "execution_count": 110,
     "metadata": {},
     "output_type": "execute_result"
    }
   ],
   "source": [
    "## filter down to only non-adult movie content that came out after 1950\n",
    "movies = all[(all['titleType'] == 'movie') & \n",
    "             (all['isAdult'] == 0) & \n",
    "             (all['startYear'].astype(int) > 1950)]\n",
    "\n",
    "## drop unnecessary variables\n",
    "movies.drop(['titleType', 'originalTitle', 'isAdult', 'endYear', 'imdb_id', \n",
    "             'title', 'tags', 'split', 'synopsis_source'],\n",
    "            axis = 1, inplace = True)\n",
    "movies.head()"
   ]
  },
  {
   "cell_type": "markdown",
   "metadata": {},
   "source": [
    "#### Missing values"
   ]
  },
  {
   "cell_type": "markdown",
   "metadata": {},
   "source": [
    "Missing values are represented in the data by a '\\N' character. Some of these can be imputed, like `runtimeMinutes` which will be replaced with the variable mean. Others like `startYear` and `genre` should be removed (especially the oberservations that do not have data in the genre field, as that is the target variable)."
   ]
  },
  {
   "cell_type": "code",
   "execution_count": 112,
   "metadata": {},
   "outputs": [
    {
     "data": {
      "text/html": [
       "<div>\n",
       "<style scoped>\n",
       "    .dataframe tbody tr th:only-of-type {\n",
       "        vertical-align: middle;\n",
       "    }\n",
       "\n",
       "    .dataframe tbody tr th {\n",
       "        vertical-align: top;\n",
       "    }\n",
       "\n",
       "    .dataframe thead th {\n",
       "        text-align: right;\n",
       "    }\n",
       "</style>\n",
       "<table border=\"1\" class=\"dataframe\">\n",
       "  <thead>\n",
       "    <tr style=\"text-align: right;\">\n",
       "      <th></th>\n",
       "      <th>tconst</th>\n",
       "      <th>primaryTitle</th>\n",
       "      <th>startYear</th>\n",
       "      <th>runtimeMinutes</th>\n",
       "      <th>genres</th>\n",
       "      <th>averageRating</th>\n",
       "      <th>numVotes</th>\n",
       "      <th>plot_synopsis</th>\n",
       "    </tr>\n",
       "  </thead>\n",
       "  <tbody>\n",
       "    <tr>\n",
       "      <td>0</td>\n",
       "      <td>tt0035423</td>\n",
       "      <td>Kate &amp; Leopold</td>\n",
       "      <td>2001</td>\n",
       "      <td>118.0</td>\n",
       "      <td>Comedy,Fantasy,Romance</td>\n",
       "      <td>6.4</td>\n",
       "      <td>78334</td>\n",
       "      <td>On 28 April 1876, Leopold, His Grace the 3rd D...</td>\n",
       "    </tr>\n",
       "    <tr>\n",
       "      <td>1</td>\n",
       "      <td>tt0042478</td>\n",
       "      <td>The Franchise Affair</td>\n",
       "      <td>1951</td>\n",
       "      <td>88.0</td>\n",
       "      <td>Crime,Drama,Mystery</td>\n",
       "      <td>7.1</td>\n",
       "      <td>206</td>\n",
       "      <td>Robert Blair, a local solicitor, is called on ...</td>\n",
       "    </tr>\n",
       "    <tr>\n",
       "      <td>2</td>\n",
       "      <td>tt0042539</td>\n",
       "      <td>Halls of Montezuma</td>\n",
       "      <td>1951</td>\n",
       "      <td>113.0</td>\n",
       "      <td>Action,Adventure,Drama</td>\n",
       "      <td>6.6</td>\n",
       "      <td>2458</td>\n",
       "      <td>During World War II, a Marine battalion prepar...</td>\n",
       "    </tr>\n",
       "    <tr>\n",
       "      <td>3</td>\n",
       "      <td>tt0042619</td>\n",
       "      <td>Diary of a Country Priest</td>\n",
       "      <td>1951</td>\n",
       "      <td>115.0</td>\n",
       "      <td>Drama</td>\n",
       "      <td>7.9</td>\n",
       "      <td>9949</td>\n",
       "      <td>An idealistic young priest arrives at Ambricou...</td>\n",
       "    </tr>\n",
       "    <tr>\n",
       "      <td>4</td>\n",
       "      <td>tt0043086</td>\n",
       "      <td>Under the Gun</td>\n",
       "      <td>1951</td>\n",
       "      <td>83.0</td>\n",
       "      <td>Crime,Drama,Film-Noir</td>\n",
       "      <td>6.8</td>\n",
       "      <td>117</td>\n",
       "      <td>At a Miami nightclub, gangster Bert Galvin off...</td>\n",
       "    </tr>\n",
       "  </tbody>\n",
       "</table>\n",
       "</div>"
      ],
      "text/plain": [
       "      tconst               primaryTitle startYear  runtimeMinutes  \\\n",
       "0  tt0035423             Kate & Leopold      2001           118.0   \n",
       "1  tt0042478       The Franchise Affair      1951            88.0   \n",
       "2  tt0042539         Halls of Montezuma      1951           113.0   \n",
       "3  tt0042619  Diary of a Country Priest      1951           115.0   \n",
       "4  tt0043086              Under the Gun      1951            83.0   \n",
       "\n",
       "                   genres  averageRating  numVotes  \\\n",
       "0  Comedy,Fantasy,Romance            6.4     78334   \n",
       "1     Crime,Drama,Mystery            7.1       206   \n",
       "2  Action,Adventure,Drama            6.6      2458   \n",
       "3                   Drama            7.9      9949   \n",
       "4   Crime,Drama,Film-Noir            6.8       117   \n",
       "\n",
       "                                       plot_synopsis  \n",
       "0  On 28 April 1876, Leopold, His Grace the 3rd D...  \n",
       "1  Robert Blair, a local solicitor, is called on ...  \n",
       "2  During World War II, a Marine battalion prepar...  \n",
       "3  An idealistic young priest arrives at Ambricou...  \n",
       "4  At a Miami nightclub, gangster Bert Galvin off...  "
      ]
     },
     "execution_count": 112,
     "metadata": {},
     "output_type": "execute_result"
    }
   ],
   "source": [
    "## replace \\N strings with NaNs\n",
    "movies.replace(to_replace = '\\\\N', value = np.nan, inplace = True)\n",
    "\n",
    "## make runtimeMinutes numeric, fill NAs with the mean\n",
    "movies['runtimeMinutes'] = pd.to_numeric(movies['runtimeMinutes'])\n",
    "movies['runtimeMinutes'].fillna(movies['runtimeMinutes'].mean(), inplace = True)\n",
    "\n",
    "## drop remaining NAs and any duplicate movies/plots\n",
    "movies_clean = movies.dropna().drop_duplicates(['primaryTitle', 'plot_synopsis'])\n",
    "\n",
    "## reformat\n",
    "movies_clean.reset_index(drop = True, inplace = True)\n",
    "movies_clean.head()"
   ]
  },
  {
   "cell_type": "markdown",
   "metadata": {},
   "source": [
    "#### Refine `genre` feature"
   ]
  },
  {
   "cell_type": "code",
   "execution_count": 115,
   "metadata": {
    "scrolled": false
   },
   "outputs": [
    {
     "name": "stdout",
     "output_type": "stream",
     "text": [
      "Number of unique primary genres: 20\n",
      "Number of movies of each genre:\n",
      "Action         2592\n",
      "Comedy         2390\n",
      "Drama          2075\n",
      "Horror          998\n",
      "Crime           978\n",
      "Adventure       778\n",
      "Biography       434\n",
      "Animation       118\n",
      "Western          95\n",
      "Fantasy          89\n",
      "Mystery          65\n",
      "Documentary      62\n",
      "Sci              37\n",
      "Thriller         34\n",
      "Romance          31\n",
      "Family           23\n",
      "Musical          15\n",
      "Music             3\n",
      "History           1\n",
      "Film              1\n",
      "Name: genre, dtype: int64\n"
     ]
    }
   ],
   "source": [
    "## extract the main genre (assume it is the first listed)\n",
    "movies_clean['genre'] = movies_clean['genres'].apply(lambda x: re.findall('\\w+', x)[0])\n",
    "movies_clean.drop(['genres'], axis = 1, inplace = True)\n",
    "movies_clean.head()\n",
    "\n",
    "print('Number of unique primary genres:', movies_clean['genre'].nunique())\n",
    "print('Number of movies of each genre:')\n",
    "print(movies_clean['genre'].value_counts())"
   ]
  },
  {
   "cell_type": "markdown",
   "metadata": {},
   "source": [
    "# Second Try - keep less genres and don't have Other group"
   ]
  },
  {
   "cell_type": "markdown",
   "metadata": {},
   "source": [
    "Three main classes:\n",
    "\n",
    "   1. Action\n",
    "   2. Comedy\n",
    "   3. Horror"
   ]
  },
  {
   "cell_type": "code",
   "execution_count": 122,
   "metadata": {},
   "outputs": [
    {
     "data": {
      "text/html": [
       "<div>\n",
       "<style scoped>\n",
       "    .dataframe tbody tr th:only-of-type {\n",
       "        vertical-align: middle;\n",
       "    }\n",
       "\n",
       "    .dataframe tbody tr th {\n",
       "        vertical-align: top;\n",
       "    }\n",
       "\n",
       "    .dataframe thead th {\n",
       "        text-align: right;\n",
       "    }\n",
       "</style>\n",
       "<table border=\"1\" class=\"dataframe\">\n",
       "  <thead>\n",
       "    <tr style=\"text-align: right;\">\n",
       "      <th></th>\n",
       "      <th>tconst</th>\n",
       "      <th>primaryTitle</th>\n",
       "      <th>startYear</th>\n",
       "      <th>runtimeMinutes</th>\n",
       "      <th>averageRating</th>\n",
       "      <th>numVotes</th>\n",
       "      <th>plot_synopsis</th>\n",
       "      <th>genre</th>\n",
       "    </tr>\n",
       "  </thead>\n",
       "  <tbody>\n",
       "    <tr>\n",
       "      <td>0</td>\n",
       "      <td>tt0035423</td>\n",
       "      <td>Kate &amp; Leopold</td>\n",
       "      <td>2001</td>\n",
       "      <td>118.0</td>\n",
       "      <td>6.4</td>\n",
       "      <td>78334</td>\n",
       "      <td>On 28 April 1876, Leopold, His Grace the 3rd D...</td>\n",
       "      <td>Comedy</td>\n",
       "    </tr>\n",
       "    <tr>\n",
       "      <td>2</td>\n",
       "      <td>tt0042539</td>\n",
       "      <td>Halls of Montezuma</td>\n",
       "      <td>1951</td>\n",
       "      <td>113.0</td>\n",
       "      <td>6.6</td>\n",
       "      <td>2458</td>\n",
       "      <td>During World War II, a Marine battalion prepar...</td>\n",
       "      <td>Action</td>\n",
       "    </tr>\n",
       "    <tr>\n",
       "      <td>9</td>\n",
       "      <td>tt0043288</td>\n",
       "      <td>Anne of the Indies</td>\n",
       "      <td>1951</td>\n",
       "      <td>81.0</td>\n",
       "      <td>6.7</td>\n",
       "      <td>1173</td>\n",
       "      <td>After seizing a British ship, the barefoot, fe...</td>\n",
       "      <td>Action</td>\n",
       "    </tr>\n",
       "    <tr>\n",
       "      <td>16</td>\n",
       "      <td>tt0043371</td>\n",
       "      <td>Callaway Went Thataway</td>\n",
       "      <td>1951</td>\n",
       "      <td>81.0</td>\n",
       "      <td>6.5</td>\n",
       "      <td>593</td>\n",
       "      <td>Mike Frye (MacMurray) and Deborah Patterson (M...</td>\n",
       "      <td>Comedy</td>\n",
       "    </tr>\n",
       "    <tr>\n",
       "      <td>17</td>\n",
       "      <td>tt0043379</td>\n",
       "      <td>Captain Horatio Hornblower R.N.</td>\n",
       "      <td>1951</td>\n",
       "      <td>117.0</td>\n",
       "      <td>7.3</td>\n",
       "      <td>6052</td>\n",
       "      <td>In 1807, during the Napoleonic Wars, British R...</td>\n",
       "      <td>Action</td>\n",
       "    </tr>\n",
       "  </tbody>\n",
       "</table>\n",
       "</div>"
      ],
      "text/plain": [
       "       tconst                     primaryTitle startYear  runtimeMinutes  \\\n",
       "0   tt0035423                   Kate & Leopold      2001           118.0   \n",
       "2   tt0042539               Halls of Montezuma      1951           113.0   \n",
       "9   tt0043288               Anne of the Indies      1951            81.0   \n",
       "16  tt0043371           Callaway Went Thataway      1951            81.0   \n",
       "17  tt0043379  Captain Horatio Hornblower R.N.      1951           117.0   \n",
       "\n",
       "    averageRating  numVotes  \\\n",
       "0             6.4     78334   \n",
       "2             6.6      2458   \n",
       "9             6.7      1173   \n",
       "16            6.5       593   \n",
       "17            7.3      6052   \n",
       "\n",
       "                                        plot_synopsis   genre  \n",
       "0   On 28 April 1876, Leopold, His Grace the 3rd D...  Comedy  \n",
       "2   During World War II, a Marine battalion prepar...  Action  \n",
       "9   After seizing a British ship, the barefoot, fe...  Action  \n",
       "16  Mike Frye (MacMurray) and Deborah Patterson (M...  Comedy  \n",
       "17  In 1807, during the Napoleonic Wars, British R...  Action  "
      ]
     },
     "execution_count": 122,
     "metadata": {},
     "output_type": "execute_result"
    }
   ],
   "source": [
    "## keep only movies of the three genres of interest\n",
    "movies_keep = movies_clean[(movies_clean['genre'] == 'Action') |\n",
    "                           (movies_clean['genre'] == 'Comedy') |\n",
    "                           (movies_clean['genre'] == 'Horror')]\n",
    "movies_keep.head()"
   ]
  },
  {
   "cell_type": "markdown",
   "metadata": {},
   "source": [
    "# Original Process - leads to too many classes to deal with"
   ]
  },
  {
   "cell_type": "markdown",
   "metadata": {},
   "source": [
    "Make **Action, Comedy, Drama, Crime, Horror, and Adventure** the five main classes. All others can be lumped together in an **Other** category."
   ]
  },
  {
   "cell_type": "code",
   "execution_count": 125,
   "metadata": {},
   "outputs": [],
   "source": [
    "## lump smaller genre groups into a bigger OTHER level\n",
    "# other = ['Biography', 'Western', \n",
    "#          'Animation', 'Fantasy',\n",
    "#          'Mystery', 'Documentary',\n",
    "#          'Romance', 'Thriller',\n",
    "#          'Sci', 'Family',\n",
    "#          'Musical', 'Film',\n",
    "#          'Music', 'History']\n",
    "\n",
    "# movies_clean['genre'] = movies_clean['genre'].replace(to_replace = other, value = \"Other\")\n",
    "# movies_clean.drop(['genres'], axis = 1, inplace = True)\n",
    "# movies_clean.head()"
   ]
  },
  {
   "cell_type": "markdown",
   "metadata": {},
   "source": [
    "#### Text Cleaning"
   ]
  },
  {
   "cell_type": "code",
   "execution_count": 178,
   "metadata": {},
   "outputs": [],
   "source": [
    "## stopwords\n",
    "sw = ['i', 'me', 'my', 'myself', 'we', 'our', 'ours', 'ourselves', 'you', \"you're\", \"you've\", \"you'll\", \"you'd\", \n",
    "      'your', 'yours', 'yourself', 'yourselves', 'he', 'him', 'his', 'himself', 'she', \"she's\", 'her', 'hers', \n",
    "      'herself', 'it', \"it's\", 'its', 'itself', 'they', 'them', 'their', 'theirs', 'themselves', 'what', 'which',\n",
    "      'who', 'whom', 'this', 'that', \"that'll\", 'these', 'those', 'am', 'is', 'are', 'was', 'were', 'be', 'been',\n",
    "      'being', 'have', 'has', 'had', 'having', 'do', 'does', 'did', 'doing', 'a', 'an', 'the', 'and', 'but', 'if',\n",
    "      'or', 'because', 'as', 'until', 'while', 'of', 'at', 'by', 'for', 'with', 'about', 'against', 'between',\n",
    "      'into', 'through', 'during', 'before', 'after', 'above', 'below', 'to', 'from', 'up', 'down', 'in', 'out',\n",
    "      'on', 'off', 'over', 'under', 'again', 'further', 'then', 'once', 'here', 'there', 'when', 'where', 'why',\n",
    "      'how', 'all', 'any', 'both', 'each', 'few', 'more', 'most', 'other', 'some', 'such', 'no', 'nor', 'not',\n",
    "      'only', 'own', 'same', 'so', 'than', 'too', 'very', 's', 't', 'can', 'will', 'just', 'don', \"don't\",\n",
    "      'should', \"should've\", 'now', 'd', 'll', 'm', 'o', 're', 've', 'y', 'ain', 'aren', \"aren't\", 'couldn',\n",
    "      \"couldn't\", 'didn', \"didn't\", 'doesn', \"doesn't\", 'hadn', \"hadn't\", 'hasn', \"hasn't\", 'haven', \"haven't\",'isn', \n",
    "      \"isn't\", 'ma', 'mightn', \"mightn't\", 'mustn', \"mustn't\", 'needn', \"needn't\", 'shan', \"shan't\", 'shouldn', \n",
    "      \"shouldn't\", 'wasn', \"wasn't\", 'weren', \"weren't\", 'won', \"won't\", 'wouldn', \"wouldn't\", \"from\", \"subject\"]\n",
    "\n",
    "## list of 200 plot words that are most common between all three genres\n",
    "hifreq_pw = list(common_pw)\n",
    "\n",
    "## function to clean\n",
    "def clean_text(x):\n",
    "    x = x.lower()\n",
    "    tokens = word_tokenize(x)\n",
    "    tokens = [tok for tok in tokens if tok.isalnum()]\n",
    "    tokens = [tok for tok in tokens if tok not in sw]\n",
    "    #tokens = [tok for tok in tokens if tok not in common_plot_w]\n",
    "    return \" \".join(tokens)"
   ]
  },
  {
   "cell_type": "code",
   "execution_count": 124,
   "metadata": {},
   "outputs": [],
   "source": [
    "## clean all synopses\n",
    "cleaned_movies = movies_keep['plot_synopsis'].apply(lambda x: clean_text(x))"
   ]
  },
  {
   "cell_type": "markdown",
   "metadata": {},
   "source": [
    "### Top Words by Genre"
   ]
  },
  {
   "cell_type": "code",
   "execution_count": 126,
   "metadata": {},
   "outputs": [],
   "source": [
    "## clean synopses for movies in all the individual genres, use this to determine the top words in each genre\n",
    "cleaned_action = movies_keep[movies_keep['genre'] == 'Action']['plot_synopsis'].apply(lambda x: clean_text(x))\n",
    "cleaned_comedy = movies_keep[movies_keep['genre'] == 'Comedy']['plot_synopsis'].apply(lambda x: clean_text(x))\n",
    "cleaned_horror = movies_keep[movies_keep['genre'] == 'Horror']['plot_synopsis'].apply(lambda x: clean_text(x))"
   ]
  },
  {
   "cell_type": "code",
   "execution_count": 131,
   "metadata": {},
   "outputs": [
    {
     "data": {
      "image/png": "[encoded data removed]",
      "text/plain": [
       "<Figure size 720x432 with 1 Axes>"
      ]
     },
     "metadata": {
      "needs_background": "light"
     },
     "output_type": "display_data"
    }
   ],
   "source": [
    "cnt = CountVectorizer(min_df=0.05)\n",
    "wrd_freq = cnt.fit_transform(cleaned_action)\n",
    "freq_df_action = pd.DataFrame(wrd_freq.toarray(), columns=cnt.get_feature_names())\n",
    "top_action = freq_df_action.sum(axis=0).sort_values(ascending=False).reset_index()\n",
    "\n",
    "f, ax = plt.subplots(figsize=(10, 6))\n",
    "sns.set_color_codes(\"pastel\")\n",
    "sns.barplot(x=top_action.iloc[0:9,0], y=top_action.iloc[0:9,1],\n",
    "            label=\"Total\", color=\"g\")\n",
    "ax.set(ylabel=\"frequency\",\n",
    "       xlabel=\"word\",\n",
    "       title=\"Top 10 Most Common Words -- Action\")\n",
    "f.show()"
   ]
  },
  {
   "cell_type": "code",
   "execution_count": 133,
   "metadata": {},
   "outputs": [
    {
     "data": {
      "image/png": "[encoded data removed]",
      "text/plain": [
       "<Figure size 720x432 with 1 Axes>"
      ]
     },
     "metadata": {
      "needs_background": "light"
     },
     "output_type": "display_data"
    }
   ],
   "source": [
    "cnt = CountVectorizer(min_df=0.05)\n",
    "wrd_freq = cnt.fit_transform(comedy_cleaned)\n",
    "freq_df_comedy = pd.DataFrame(wrd_freq.toarray(), columns=cnt.get_feature_names())\n",
    "top_comedy = freq_df_comedy.sum(axis=0).sort_values(ascending=False).reset_index()\n",
    "\n",
    "f, ax = plt.subplots(figsize=(10, 6))\n",
    "sns.set_color_codes(\"pastel\")\n",
    "sns.barplot(x=top_comedy.iloc[0:9,0], y=top_comedy.iloc[0:9,1],\n",
    "            label=\"Total\", color=\"b\")\n",
    "ax.set(ylabel=\"frequency\",\n",
    "       xlabel=\"word\",\n",
    "       title=\"Top 10 Most Common Words -- Comedy\")\n",
    "f.show()"
   ]
  },
  {
   "cell_type": "code",
   "execution_count": 134,
   "metadata": {},
   "outputs": [
    {
     "data": {
      "image/png": "[encoded data removed]",
      "text/plain": [
       "<Figure size 720x432 with 1 Axes>"
      ]
     },
     "metadata": {
      "needs_background": "light"
     },
     "output_type": "display_data"
    }
   ],
   "source": [
    "cnt = CountVectorizer(min_df=0.05)\n",
    "wrd_freq = cnt.fit_transform(cleaned_horror)\n",
    "freq_df_horror = pd.DataFrame(wrd_freq.toarray(), columns=cnt.get_feature_names())\n",
    "top_horror = freq_df_horror.sum(axis=0).sort_values(ascending=False).reset_index()\n",
    "\n",
    "f, ax = plt.subplots(figsize=(10, 6))\n",
    "sns.set_color_codes(\"pastel\")\n",
    "sns.barplot(x=top_horror.iloc[0:9,0], y=top_horror.iloc[0:9,1],\n",
    "            label=\"Total\", color=\"r\")\n",
    "ax.set(ylabel=\"frequency\",\n",
    "       xlabel=\"word\",\n",
    "       title=\"Top 10 Most Common Words -- Horror\")\n",
    "f.show()"
   ]
  },
  {
   "cell_type": "markdown",
   "metadata": {},
   "source": [
    "At this point, I noticed that there are a lot of similarities in the top words for these three genres. I decided to create an additional list of words, plot stop-words in a sense, to remove in the text-cleaning process. These are words that are common to all written movie synopses."
   ]
  },
  {
   "cell_type": "code",
   "execution_count": 166,
   "metadata": {},
   "outputs": [],
   "source": [
    "## find common words between all genres\n",
    "common_pw = pd.merge(left=pd.merge(left=top_action, right=top_comedy, how='inner', on='index',\n",
    "                                   suffixes=('_action', '_comedy')),\n",
    "                     right=top_horror, how='inner', on='index')\n",
    "common_pw['total'] = common_pw.iloc[:,1] + common_pw.iloc[:,2] + common_pw.iloc[:,3]\n",
    "\n",
    "## take top 200\n",
    "most_common_pw = common_pw.sort_values(ascending=False, by='total').iloc[0:200,0]"
   ]
  },
  {
   "cell_type": "code",
   "execution_count": 181,
   "metadata": {},
   "outputs": [],
   "source": [
    "## list of 200 plot words that are most common between all three genres\n",
    "hifreq_pw = list(most_common_pw)\n",
    "\n",
    "## function to clean\n",
    "def new_clean_text(x):\n",
    "    x = x.lower()\n",
    "    tokens = word_tokenize(x)\n",
    "    tokens = [tok for tok in tokens if tok.isalnum()]\n",
    "    tokens = [tok for tok in tokens if tok not in sw]\n",
    "    tokens = [tok for tok in tokens if tok not in hifreq_pw]\n",
    "    return \" \".join(tokens)"
   ]
  },
  {
   "cell_type": "code",
   "execution_count": 182,
   "metadata": {},
   "outputs": [],
   "source": [
    "new_cleaned_action = movies_keep[movies_keep['genre'] == 'Action']['plot_synopsis'].apply(lambda x: new_clean_text(x))\n",
    "new_cleaned_comedy = movies_keep[movies_keep['genre'] == 'Comedy']['plot_synopsis'].apply(lambda x: new_clean_text(x))\n",
    "new_cleaned_horror = movies_keep[movies_keep['genre'] == 'Horror']['plot_synopsis'].apply(lambda x: new_clean_text(x))"
   ]
  },
  {
   "cell_type": "code",
   "execution_count": 183,
   "metadata": {},
   "outputs": [
    {
     "data": {
      "image/png": "[encoded data removed]",
      "text/plain": [
       "<Figure size 720x432 with 1 Axes>"
      ]
     },
     "metadata": {
      "needs_background": "light"
     },
     "output_type": "display_data"
    }
   ],
   "source": [
    "cnt = CountVectorizer(min_df=0.05)\n",
    "wrd_freq = cnt.fit_transform(new_cleaned_action)\n",
    "freq_df_action = pd.DataFrame(wrd_freq.toarray(), columns=cnt.get_feature_names())\n",
    "top_action = freq_df_action.sum(axis=0).sort_values(ascending=False).reset_index()\n",
    "\n",
    "f, ax = plt.subplots(figsize=(10, 6))\n",
    "sns.set_color_codes(\"pastel\")\n",
    "sns.barplot(x=top_action.iloc[0:9,0], y=top_action.iloc[0:9,1],\n",
    "            label=\"Total\", color=\"g\")\n",
    "ax.set(ylabel=\"frequency\",\n",
    "       xlabel=\"word\",\n",
    "       title=\"Top 10 Most Common Words -- Action\")\n",
    "f.show()"
   ]
  },
  {
   "cell_type": "code",
   "execution_count": 185,
   "metadata": {},
   "outputs": [
    {
     "data": {
      "image/png": "[encoded data removed]",
      "text/plain": [
       "<Figure size 720x432 with 1 Axes>"
      ]
     },
     "metadata": {
      "needs_background": "light"
     },
     "output_type": "display_data"
    }
   ],
   "source": [
    "cnt = CountVectorizer(min_df=0.05)\n",
    "wrd_freq = cnt.fit_transform(new_cleaned_comedy)\n",
    "freq_df_comedy = pd.DataFrame(wrd_freq.toarray(), columns=cnt.get_feature_names())\n",
    "top_comedy = freq_df_comedy.sum(axis=0).sort_values(ascending=False).reset_index()\n",
    "\n",
    "f, ax = plt.subplots(figsize=(10, 6))\n",
    "sns.set_color_codes(\"pastel\")\n",
    "sns.barplot(x=top_comedy.iloc[0:9,0], y=top_comedy.iloc[0:9,1],\n",
    "            label=\"Total\", color=\"b\")\n",
    "ax.set(ylabel=\"frequency\",\n",
    "       xlabel=\"word\",\n",
    "       title=\"Top 10 Most Common Words -- Comedy\")\n",
    "f.show()"
   ]
  },
  {
   "cell_type": "code",
   "execution_count": 186,
   "metadata": {
    "scrolled": false
   },
   "outputs": [
    {
     "data": {
      "image/png": "[encoded data removed]",
      "text/plain": [
       "<Figure size 720x432 with 1 Axes>"
      ]
     },
     "metadata": {
      "needs_background": "light"
     },
     "output_type": "display_data"
    }
   ],
   "source": [
    "cnt = CountVectorizer(min_df=0.05)\n",
    "wrd_freq = cnt.fit_transform(new_cleaned_horror)\n",
    "freq_df_horror = pd.DataFrame(wrd_freq.toarray(), columns=cnt.get_feature_names())\n",
    "top_horror = freq_df_horror.sum(axis=0).sort_values(ascending=False).reset_index()\n",
    "\n",
    "f, ax = plt.subplots(figsize=(10, 6))\n",
    "sns.set_color_codes(\"pastel\")\n",
    "sns.barplot(x=top_horror.iloc[0:9,0], y=top_horror.iloc[0:9,1],\n",
    "            label=\"Total\", color=\"r\")\n",
    "ax.set(ylabel=\"frequency\",\n",
    "       xlabel=\"word\",\n",
    "       title=\"Top 10 Most Common Words -- Horror\")\n",
    "f.show()"
   ]
  },
  {
   "cell_type": "markdown",
   "metadata": {},
   "source": [
    "These top 10 most common words look a lot better now!!"
   ]
  },
  {
   "cell_type": "markdown",
   "metadata": {},
   "source": [
    "### TF-IDF"
   ]
  },
  {
   "cell_type": "code",
   "execution_count": null,
   "metadata": {},
   "outputs": [],
   "source": []
  }
 ],
 "metadata": {
  "kernelspec": {
   "display_name": "Python 3",
   "language": "python",
   "name": "python3"
  },
  "language_info": {
   "codemirror_mode": {
    "name": "ipython",
    "version": 3
   },
   "file_extension": ".py",
   "mimetype": "text/x-python",
   "name": "python",
   "nbconvert_exporter": "python",
   "pygments_lexer": "ipython3",
   "version": "3.7.4"
  }
 },
 "nbformat": 4,
 "nbformat_minor": 2
}
