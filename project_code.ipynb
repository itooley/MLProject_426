{
 "cells": [
  {
   "cell_type": "markdown",
   "metadata": {},
   "source": [
    "# Final Project"
   ]
  },
  {
   "cell_type": "markdown",
   "metadata": {},
   "source": [
    "**Use plot synopses of movies to predict the genre of the film.**"
   ]
  },
  {
   "cell_type": "code",
   "execution_count": 1,
   "metadata": {},
   "outputs": [],
   "source": [
    "import pandas as pd\n",
    "import numpy as np\n",
    "import matplotlib.pyplot as plt\n",
    "import seaborn as sns\n",
    "import re\n",
    "import warnings\n",
    "warnings.filterwarnings('ignore')"
   ]
  },
  {
   "cell_type": "markdown",
   "metadata": {},
   "source": [
    "## Data"
   ]
  },
  {
   "cell_type": "markdown",
   "metadata": {},
   "source": [
    "### Import Datasets"
   ]
  },
  {
   "cell_type": "code",
   "execution_count": 2,
   "metadata": {},
   "outputs": [],
   "source": [
    "basics = pd.read_csv('title.basics.tsv', sep='\\t')\n",
    "synopses = pd.read_csv('mpst_full_data.csv')"
   ]
  },
  {
   "cell_type": "code",
   "execution_count": 3,
   "metadata": {},
   "outputs": [
    {
     "data": {
      "text/html": [
       "<div>\n",
       "<style scoped>\n",
       "    .dataframe tbody tr th:only-of-type {\n",
       "        vertical-align: middle;\n",
       "    }\n",
       "\n",
       "    .dataframe tbody tr th {\n",
       "        vertical-align: top;\n",
       "    }\n",
       "\n",
       "    .dataframe thead th {\n",
       "        text-align: right;\n",
       "    }\n",
       "</style>\n",
       "<table border=\"1\" class=\"dataframe\">\n",
       "  <thead>\n",
       "    <tr style=\"text-align: right;\">\n",
       "      <th></th>\n",
       "      <th>tconst</th>\n",
       "      <th>titleType</th>\n",
       "      <th>primaryTitle</th>\n",
       "      <th>originalTitle</th>\n",
       "      <th>isAdult</th>\n",
       "      <th>startYear</th>\n",
       "      <th>endYear</th>\n",
       "      <th>runtimeMinutes</th>\n",
       "      <th>genres</th>\n",
       "    </tr>\n",
       "  </thead>\n",
       "  <tbody>\n",
       "    <tr>\n",
       "      <td>0</td>\n",
       "      <td>tt0000001</td>\n",
       "      <td>short</td>\n",
       "      <td>Carmencita</td>\n",
       "      <td>Carmencita</td>\n",
       "      <td>0</td>\n",
       "      <td>1894</td>\n",
       "      <td>\\N</td>\n",
       "      <td>1</td>\n",
       "      <td>Documentary,Short</td>\n",
       "    </tr>\n",
       "    <tr>\n",
       "      <td>1</td>\n",
       "      <td>tt0000002</td>\n",
       "      <td>short</td>\n",
       "      <td>Le clown et ses chiens</td>\n",
       "      <td>Le clown et ses chiens</td>\n",
       "      <td>0</td>\n",
       "      <td>1892</td>\n",
       "      <td>\\N</td>\n",
       "      <td>5</td>\n",
       "      <td>Animation,Short</td>\n",
       "    </tr>\n",
       "    <tr>\n",
       "      <td>2</td>\n",
       "      <td>tt0000003</td>\n",
       "      <td>short</td>\n",
       "      <td>Pauvre Pierrot</td>\n",
       "      <td>Pauvre Pierrot</td>\n",
       "      <td>0</td>\n",
       "      <td>1892</td>\n",
       "      <td>\\N</td>\n",
       "      <td>4</td>\n",
       "      <td>Animation,Comedy,Romance</td>\n",
       "    </tr>\n",
       "    <tr>\n",
       "      <td>3</td>\n",
       "      <td>tt0000004</td>\n",
       "      <td>short</td>\n",
       "      <td>Un bon bock</td>\n",
       "      <td>Un bon bock</td>\n",
       "      <td>0</td>\n",
       "      <td>1892</td>\n",
       "      <td>\\N</td>\n",
       "      <td>12</td>\n",
       "      <td>Animation,Short</td>\n",
       "    </tr>\n",
       "    <tr>\n",
       "      <td>4</td>\n",
       "      <td>tt0000005</td>\n",
       "      <td>short</td>\n",
       "      <td>Blacksmith Scene</td>\n",
       "      <td>Blacksmith Scene</td>\n",
       "      <td>0</td>\n",
       "      <td>1893</td>\n",
       "      <td>\\N</td>\n",
       "      <td>1</td>\n",
       "      <td>Comedy,Short</td>\n",
       "    </tr>\n",
       "  </tbody>\n",
       "</table>\n",
       "</div>"
      ],
      "text/plain": [
       "      tconst titleType            primaryTitle           originalTitle  \\\n",
       "0  tt0000001     short              Carmencita              Carmencita   \n",
       "1  tt0000002     short  Le clown et ses chiens  Le clown et ses chiens   \n",
       "2  tt0000003     short          Pauvre Pierrot          Pauvre Pierrot   \n",
       "3  tt0000004     short             Un bon bock             Un bon bock   \n",
       "4  tt0000005     short        Blacksmith Scene        Blacksmith Scene   \n",
       "\n",
       "   isAdult startYear endYear runtimeMinutes                    genres  \n",
       "0        0      1894      \\N              1         Documentary,Short  \n",
       "1        0      1892      \\N              5           Animation,Short  \n",
       "2        0      1892      \\N              4  Animation,Comedy,Romance  \n",
       "3        0      1892      \\N             12           Animation,Short  \n",
       "4        0      1893      \\N              1              Comedy,Short  "
      ]
     },
     "execution_count": 3,
     "metadata": {},
     "output_type": "execute_result"
    }
   ],
   "source": [
    "basics.head()"
   ]
  },
  {
   "cell_type": "code",
   "execution_count": 4,
   "metadata": {
    "scrolled": true
   },
   "outputs": [
    {
     "data": {
      "text/html": [
       "<div>\n",
       "<style scoped>\n",
       "    .dataframe tbody tr th:only-of-type {\n",
       "        vertical-align: middle;\n",
       "    }\n",
       "\n",
       "    .dataframe tbody tr th {\n",
       "        vertical-align: top;\n",
       "    }\n",
       "\n",
       "    .dataframe thead th {\n",
       "        text-align: right;\n",
       "    }\n",
       "</style>\n",
       "<table border=\"1\" class=\"dataframe\">\n",
       "  <thead>\n",
       "    <tr style=\"text-align: right;\">\n",
       "      <th></th>\n",
       "      <th>imdb_id</th>\n",
       "      <th>title</th>\n",
       "      <th>plot_synopsis</th>\n",
       "      <th>tags</th>\n",
       "      <th>split</th>\n",
       "      <th>synopsis_source</th>\n",
       "    </tr>\n",
       "  </thead>\n",
       "  <tbody>\n",
       "    <tr>\n",
       "      <td>0</td>\n",
       "      <td>tt0057603</td>\n",
       "      <td>I tre volti della paura</td>\n",
       "      <td>Note: this synopsis is for the orginal Italian...</td>\n",
       "      <td>cult, horror, gothic, murder, atmospheric</td>\n",
       "      <td>train</td>\n",
       "      <td>imdb</td>\n",
       "    </tr>\n",
       "    <tr>\n",
       "      <td>1</td>\n",
       "      <td>tt1733125</td>\n",
       "      <td>Dungeons &amp; Dragons: The Book of Vile Darkness</td>\n",
       "      <td>Two thousand years ago, Nhagruul the Foul, a s...</td>\n",
       "      <td>violence</td>\n",
       "      <td>train</td>\n",
       "      <td>imdb</td>\n",
       "    </tr>\n",
       "    <tr>\n",
       "      <td>2</td>\n",
       "      <td>tt0033045</td>\n",
       "      <td>The Shop Around the Corner</td>\n",
       "      <td>Matuschek's, a gift store in Budapest, is the ...</td>\n",
       "      <td>romantic</td>\n",
       "      <td>test</td>\n",
       "      <td>imdb</td>\n",
       "    </tr>\n",
       "    <tr>\n",
       "      <td>3</td>\n",
       "      <td>tt0113862</td>\n",
       "      <td>Mr. Holland's Opus</td>\n",
       "      <td>Glenn Holland, not a morning person by anyone'...</td>\n",
       "      <td>inspiring, romantic, stupid, feel-good</td>\n",
       "      <td>train</td>\n",
       "      <td>imdb</td>\n",
       "    </tr>\n",
       "    <tr>\n",
       "      <td>4</td>\n",
       "      <td>tt0086250</td>\n",
       "      <td>Scarface</td>\n",
       "      <td>In May 1980, a Cuban man named Tony Montana (A...</td>\n",
       "      <td>cruelty, murder, dramatic, cult, violence, atm...</td>\n",
       "      <td>val</td>\n",
       "      <td>imdb</td>\n",
       "    </tr>\n",
       "  </tbody>\n",
       "</table>\n",
       "</div>"
      ],
      "text/plain": [
       "     imdb_id                                          title  \\\n",
       "0  tt0057603                        I tre volti della paura   \n",
       "1  tt1733125  Dungeons & Dragons: The Book of Vile Darkness   \n",
       "2  tt0033045                     The Shop Around the Corner   \n",
       "3  tt0113862                             Mr. Holland's Opus   \n",
       "4  tt0086250                                       Scarface   \n",
       "\n",
       "                                       plot_synopsis  \\\n",
       "0  Note: this synopsis is for the orginal Italian...   \n",
       "1  Two thousand years ago, Nhagruul the Foul, a s...   \n",
       "2  Matuschek's, a gift store in Budapest, is the ...   \n",
       "3  Glenn Holland, not a morning person by anyone'...   \n",
       "4  In May 1980, a Cuban man named Tony Montana (A...   \n",
       "\n",
       "                                                tags  split synopsis_source  \n",
       "0          cult, horror, gothic, murder, atmospheric  train            imdb  \n",
       "1                                           violence  train            imdb  \n",
       "2                                           romantic   test            imdb  \n",
       "3             inspiring, romantic, stupid, feel-good  train            imdb  \n",
       "4  cruelty, murder, dramatic, cult, violence, atm...    val            imdb  "
      ]
     },
     "execution_count": 4,
     "metadata": {},
     "output_type": "execute_result"
    }
   ],
   "source": [
    "synopses.head()"
   ]
  },
  {
   "cell_type": "markdown",
   "metadata": {},
   "source": [
    "### Combine Data"
   ]
  },
  {
   "cell_type": "code",
   "execution_count": 5,
   "metadata": {},
   "outputs": [
    {
     "data": {
      "text/html": [
       "<div>\n",
       "<style scoped>\n",
       "    .dataframe tbody tr th:only-of-type {\n",
       "        vertical-align: middle;\n",
       "    }\n",
       "\n",
       "    .dataframe tbody tr th {\n",
       "        vertical-align: top;\n",
       "    }\n",
       "\n",
       "    .dataframe thead th {\n",
       "        text-align: right;\n",
       "    }\n",
       "</style>\n",
       "<table border=\"1\" class=\"dataframe\">\n",
       "  <thead>\n",
       "    <tr style=\"text-align: right;\">\n",
       "      <th></th>\n",
       "      <th>tconst</th>\n",
       "      <th>titleType</th>\n",
       "      <th>primaryTitle</th>\n",
       "      <th>originalTitle</th>\n",
       "      <th>isAdult</th>\n",
       "      <th>startYear</th>\n",
       "      <th>endYear</th>\n",
       "      <th>runtimeMinutes</th>\n",
       "      <th>genres</th>\n",
       "      <th>imdb_id</th>\n",
       "      <th>title</th>\n",
       "      <th>plot_synopsis</th>\n",
       "      <th>tags</th>\n",
       "      <th>split</th>\n",
       "      <th>synopsis_source</th>\n",
       "    </tr>\n",
       "  </thead>\n",
       "  <tbody>\n",
       "    <tr>\n",
       "      <td>0</td>\n",
       "      <td>tt0000091</td>\n",
       "      <td>short</td>\n",
       "      <td>The House of the Devil</td>\n",
       "      <td>Le manoir du diable</td>\n",
       "      <td>0</td>\n",
       "      <td>1896</td>\n",
       "      <td>\\N</td>\n",
       "      <td>3</td>\n",
       "      <td>Horror,Short</td>\n",
       "      <td>tt0000091</td>\n",
       "      <td>Le manoir du diable</td>\n",
       "      <td>The film opens with a large bat flying into a ...</td>\n",
       "      <td>paranormal, gothic</td>\n",
       "      <td>train</td>\n",
       "      <td>wikipedia</td>\n",
       "    </tr>\n",
       "    <tr>\n",
       "      <td>1</td>\n",
       "      <td>tt0000225</td>\n",
       "      <td>short</td>\n",
       "      <td>Beauty and the Beast</td>\n",
       "      <td>La belle et la bête</td>\n",
       "      <td>0</td>\n",
       "      <td>1899</td>\n",
       "      <td>\\N</td>\n",
       "      <td>\\N</td>\n",
       "      <td>Family,Fantasy,Romance</td>\n",
       "      <td>tt0000225</td>\n",
       "      <td>La belle et la bête</td>\n",
       "      <td>A widower merchant lives in a mansion with his...</td>\n",
       "      <td>fantasy</td>\n",
       "      <td>train</td>\n",
       "      <td>wikipedia</td>\n",
       "    </tr>\n",
       "    <tr>\n",
       "      <td>2</td>\n",
       "      <td>tt0000230</td>\n",
       "      <td>short</td>\n",
       "      <td>Cinderella</td>\n",
       "      <td>Cendrillon</td>\n",
       "      <td>0</td>\n",
       "      <td>1899</td>\n",
       "      <td>\\N</td>\n",
       "      <td>6</td>\n",
       "      <td>Drama,Family,Fantasy</td>\n",
       "      <td>tt0000230</td>\n",
       "      <td>Cendrillon</td>\n",
       "      <td>A prologue in front of the curtain, suppressed...</td>\n",
       "      <td>fantasy</td>\n",
       "      <td>train</td>\n",
       "      <td>wikipedia</td>\n",
       "    </tr>\n",
       "  </tbody>\n",
       "</table>\n",
       "</div>"
      ],
      "text/plain": [
       "      tconst titleType            primaryTitle        originalTitle  isAdult  \\\n",
       "0  tt0000091     short  The House of the Devil  Le manoir du diable        0   \n",
       "1  tt0000225     short    Beauty and the Beast  La belle et la bête        0   \n",
       "2  tt0000230     short              Cinderella           Cendrillon        0   \n",
       "\n",
       "  startYear endYear runtimeMinutes                  genres    imdb_id  \\\n",
       "0      1896      \\N              3            Horror,Short  tt0000091   \n",
       "1      1899      \\N             \\N  Family,Fantasy,Romance  tt0000225   \n",
       "2      1899      \\N              6    Drama,Family,Fantasy  tt0000230   \n",
       "\n",
       "                 title                                      plot_synopsis  \\\n",
       "0  Le manoir du diable  The film opens with a large bat flying into a ...   \n",
       "1  La belle et la bête  A widower merchant lives in a mansion with his...   \n",
       "2           Cendrillon  A prologue in front of the curtain, suppressed...   \n",
       "\n",
       "                 tags  split synopsis_source  \n",
       "0  paranormal, gothic  train       wikipedia  \n",
       "1             fantasy  train       wikipedia  \n",
       "2             fantasy  train       wikipedia  "
      ]
     },
     "execution_count": 5,
     "metadata": {},
     "output_type": "execute_result"
    }
   ],
   "source": [
    "all = pd.merge(left = basics, right = synopses, how = 'inner', left_on = 'tconst', right_on = 'imdb_id')\n",
    "all.head(3)"
   ]
  },
  {
   "cell_type": "code",
   "execution_count": 6,
   "metadata": {
    "scrolled": true
   },
   "outputs": [
    {
     "name": "stdout",
     "output_type": "stream",
     "text": [
      "Number of movies with plot data: 14828\n",
      "Number of movies after merge: 14820\n"
     ]
    }
   ],
   "source": [
    "print('Number of movies with plot data:', synopses.shape[0])\n",
    "print('Number of movies after merge:', all.shape[0])"
   ]
  },
  {
   "cell_type": "markdown",
   "metadata": {},
   "source": [
    "The IMDb basics dataset is quite large, containing a lot of information about all IMDb tracked digital media content. Including **`genre`**, which is the response variable that I'm hope to be able to predict using a multinomial classification approach. Some other variables in this dataset could also be useful (like `runtime` and `release year`).\n",
    "\n",
    "The MPST Kaggle dataset is much smaller, containing plot descriptions and summaries that were collected from IMDb and Wikipedia pages. There is also an `imdb_id`, which corresponds directly to the `tconst` variable that uniquely identifies each film in the IMDb dataset. This made it possible to merge the IMDb data with the Kaggle plot synopsis data, keeping only the movies that were common between those two datasets. There was a very small loss of plot data, only 8 observations did not have a match with a movie in the IMDb dataset.\n",
    "\n",
    "At this point, what's left over are movies for which there is an available plot summary. Additional filtering and cleaning will be performed in the next section."
   ]
  },
  {
   "cell_type": "markdown",
   "metadata": {},
   "source": [
    "### Data Cleaning"
   ]
  },
  {
   "cell_type": "markdown",
   "metadata": {},
   "source": [
    "####  Filter where `titleType == 'movie'` and `isAdult == 0`"
   ]
  },
  {
   "cell_type": "code",
   "execution_count": 7,
   "metadata": {},
   "outputs": [
    {
     "data": {
      "text/html": [
       "<div>\n",
       "<style scoped>\n",
       "    .dataframe tbody tr th:only-of-type {\n",
       "        vertical-align: middle;\n",
       "    }\n",
       "\n",
       "    .dataframe tbody tr th {\n",
       "        vertical-align: top;\n",
       "    }\n",
       "\n",
       "    .dataframe thead th {\n",
       "        text-align: right;\n",
       "    }\n",
       "</style>\n",
       "<table border=\"1\" class=\"dataframe\">\n",
       "  <thead>\n",
       "    <tr style=\"text-align: right;\">\n",
       "      <th></th>\n",
       "      <th>tconst</th>\n",
       "      <th>titleType</th>\n",
       "      <th>primaryTitle</th>\n",
       "      <th>originalTitle</th>\n",
       "      <th>isAdult</th>\n",
       "      <th>startYear</th>\n",
       "      <th>endYear</th>\n",
       "      <th>runtimeMinutes</th>\n",
       "      <th>genres</th>\n",
       "      <th>imdb_id</th>\n",
       "      <th>title</th>\n",
       "      <th>plot_synopsis</th>\n",
       "      <th>tags</th>\n",
       "      <th>split</th>\n",
       "      <th>synopsis_source</th>\n",
       "    </tr>\n",
       "  </thead>\n",
       "  <tbody>\n",
       "    <tr>\n",
       "      <td>12</td>\n",
       "      <td>tt0002130</td>\n",
       "      <td>movie</td>\n",
       "      <td>Dante's Inferno</td>\n",
       "      <td>L'Inferno</td>\n",
       "      <td>0</td>\n",
       "      <td>1911</td>\n",
       "      <td>\\N</td>\n",
       "      <td>71</td>\n",
       "      <td>Adventure,Drama,Fantasy</td>\n",
       "      <td>tt0002130</td>\n",
       "      <td>L'Inferno</td>\n",
       "      <td>The exhumation of Lizzie Siddal's desiccated b...</td>\n",
       "      <td>psychedelic, violence</td>\n",
       "      <td>train</td>\n",
       "      <td>wikipedia</td>\n",
       "    </tr>\n",
       "    <tr>\n",
       "      <td>13</td>\n",
       "      <td>tt0003419</td>\n",
       "      <td>movie</td>\n",
       "      <td>The Student of Prague</td>\n",
       "      <td>Der Student von Prag</td>\n",
       "      <td>0</td>\n",
       "      <td>1913</td>\n",
       "      <td>\\N</td>\n",
       "      <td>85</td>\n",
       "      <td>Drama,Fantasy,Horror</td>\n",
       "      <td>tt0003419</td>\n",
       "      <td>Der Student von Prag</td>\n",
       "      <td>Being praised as the finest fencer in his Univ...</td>\n",
       "      <td>haunting</td>\n",
       "      <td>test</td>\n",
       "      <td>imdb</td>\n",
       "    </tr>\n",
       "    <tr>\n",
       "      <td>14</td>\n",
       "      <td>tt0003489</td>\n",
       "      <td>movie</td>\n",
       "      <td>The Last Days of Pompeii</td>\n",
       "      <td>Gli ultimi giorni di Pompei</td>\n",
       "      <td>0</td>\n",
       "      <td>1913</td>\n",
       "      <td>\\N</td>\n",
       "      <td>88</td>\n",
       "      <td>Adventure,Drama</td>\n",
       "      <td>tt0003489</td>\n",
       "      <td>Gli ultimi giorni di Pompei</td>\n",
       "      <td>In Pompeii 79AD, Glaucus and Jone are in love ...</td>\n",
       "      <td>romantic, murder</td>\n",
       "      <td>train</td>\n",
       "      <td>wikipedia</td>\n",
       "    </tr>\n",
       "    <tr>\n",
       "      <td>15</td>\n",
       "      <td>tt0004022</td>\n",
       "      <td>movie</td>\n",
       "      <td>Julius Caesar</td>\n",
       "      <td>Cajus Julius Caesar</td>\n",
       "      <td>0</td>\n",
       "      <td>1914</td>\n",
       "      <td>\\N</td>\n",
       "      <td>112</td>\n",
       "      <td>Drama,History</td>\n",
       "      <td>tt0004022</td>\n",
       "      <td>Cajus Julius Caesar</td>\n",
       "      <td>The play opens with the commoners of Rome cele...</td>\n",
       "      <td>tragedy</td>\n",
       "      <td>train</td>\n",
       "      <td>wikipedia</td>\n",
       "    </tr>\n",
       "    <tr>\n",
       "      <td>16</td>\n",
       "      <td>tt0004099</td>\n",
       "      <td>movie</td>\n",
       "      <td>The New Wizard of Oz</td>\n",
       "      <td>His Majesty, the Scarecrow of Oz</td>\n",
       "      <td>0</td>\n",
       "      <td>1914</td>\n",
       "      <td>\\N</td>\n",
       "      <td>59</td>\n",
       "      <td>Adventure,Comedy,Family</td>\n",
       "      <td>tt0004099</td>\n",
       "      <td>His Majesty, the Scarecrow of Oz</td>\n",
       "      <td>King Krewl (Raymond Russell) is a cruel dictat...</td>\n",
       "      <td>romantic</td>\n",
       "      <td>train</td>\n",
       "      <td>wikipedia</td>\n",
       "    </tr>\n",
       "  </tbody>\n",
       "</table>\n",
       "</div>"
      ],
      "text/plain": [
       "       tconst titleType              primaryTitle  \\\n",
       "12  tt0002130     movie           Dante's Inferno   \n",
       "13  tt0003419     movie     The Student of Prague   \n",
       "14  tt0003489     movie  The Last Days of Pompeii   \n",
       "15  tt0004022     movie             Julius Caesar   \n",
       "16  tt0004099     movie      The New Wizard of Oz   \n",
       "\n",
       "                       originalTitle  isAdult startYear endYear  \\\n",
       "12                         L'Inferno        0      1911      \\N   \n",
       "13              Der Student von Prag        0      1913      \\N   \n",
       "14       Gli ultimi giorni di Pompei        0      1913      \\N   \n",
       "15               Cajus Julius Caesar        0      1914      \\N   \n",
       "16  His Majesty, the Scarecrow of Oz        0      1914      \\N   \n",
       "\n",
       "   runtimeMinutes                   genres    imdb_id  \\\n",
       "12             71  Adventure,Drama,Fantasy  tt0002130   \n",
       "13             85     Drama,Fantasy,Horror  tt0003419   \n",
       "14             88          Adventure,Drama  tt0003489   \n",
       "15            112            Drama,History  tt0004022   \n",
       "16             59  Adventure,Comedy,Family  tt0004099   \n",
       "\n",
       "                               title  \\\n",
       "12                         L'Inferno   \n",
       "13              Der Student von Prag   \n",
       "14       Gli ultimi giorni di Pompei   \n",
       "15               Cajus Julius Caesar   \n",
       "16  His Majesty, the Scarecrow of Oz   \n",
       "\n",
       "                                        plot_synopsis                   tags  \\\n",
       "12  The exhumation of Lizzie Siddal's desiccated b...  psychedelic, violence   \n",
       "13  Being praised as the finest fencer in his Univ...               haunting   \n",
       "14  In Pompeii 79AD, Glaucus and Jone are in love ...       romantic, murder   \n",
       "15  The play opens with the commoners of Rome cele...                tragedy   \n",
       "16  King Krewl (Raymond Russell) is a cruel dictat...               romantic   \n",
       "\n",
       "    split synopsis_source  \n",
       "12  train       wikipedia  \n",
       "13   test            imdb  \n",
       "14  train       wikipedia  \n",
       "15  train       wikipedia  \n",
       "16  train       wikipedia  "
      ]
     },
     "execution_count": 7,
     "metadata": {},
     "output_type": "execute_result"
    }
   ],
   "source": [
    "#all['titleType'].value_counts()\n",
    "movies = all[(all['titleType'] == 'movie') & (all['isAdult'] == 0)]\n",
    "movies.head()"
   ]
  },
  {
   "cell_type": "code",
   "execution_count": 8,
   "metadata": {},
   "outputs": [
    {
     "name": "stdout",
     "output_type": "stream",
     "text": [
      "Number of obersavtions left after filtering: 12296\n"
     ]
    }
   ],
   "source": [
    "print('Number of obersavtions left after filtering:', movies.shape[0])"
   ]
  },
  {
   "cell_type": "markdown",
   "metadata": {},
   "source": [
    "#### Drop Variables"
   ]
  },
  {
   "cell_type": "code",
   "execution_count": 9,
   "metadata": {},
   "outputs": [
    {
     "data": {
      "text/html": [
       "<div>\n",
       "<style scoped>\n",
       "    .dataframe tbody tr th:only-of-type {\n",
       "        vertical-align: middle;\n",
       "    }\n",
       "\n",
       "    .dataframe tbody tr th {\n",
       "        vertical-align: top;\n",
       "    }\n",
       "\n",
       "    .dataframe thead th {\n",
       "        text-align: right;\n",
       "    }\n",
       "</style>\n",
       "<table border=\"1\" class=\"dataframe\">\n",
       "  <thead>\n",
       "    <tr style=\"text-align: right;\">\n",
       "      <th></th>\n",
       "      <th>tconst</th>\n",
       "      <th>primaryTitle</th>\n",
       "      <th>startYear</th>\n",
       "      <th>runtimeMinutes</th>\n",
       "      <th>genres</th>\n",
       "      <th>plot_synopsis</th>\n",
       "    </tr>\n",
       "  </thead>\n",
       "  <tbody>\n",
       "    <tr>\n",
       "      <td>12</td>\n",
       "      <td>tt0002130</td>\n",
       "      <td>Dante's Inferno</td>\n",
       "      <td>1911</td>\n",
       "      <td>71</td>\n",
       "      <td>Adventure,Drama,Fantasy</td>\n",
       "      <td>The exhumation of Lizzie Siddal's desiccated b...</td>\n",
       "    </tr>\n",
       "    <tr>\n",
       "      <td>13</td>\n",
       "      <td>tt0003419</td>\n",
       "      <td>The Student of Prague</td>\n",
       "      <td>1913</td>\n",
       "      <td>85</td>\n",
       "      <td>Drama,Fantasy,Horror</td>\n",
       "      <td>Being praised as the finest fencer in his Univ...</td>\n",
       "    </tr>\n",
       "    <tr>\n",
       "      <td>14</td>\n",
       "      <td>tt0003489</td>\n",
       "      <td>The Last Days of Pompeii</td>\n",
       "      <td>1913</td>\n",
       "      <td>88</td>\n",
       "      <td>Adventure,Drama</td>\n",
       "      <td>In Pompeii 79AD, Glaucus and Jone are in love ...</td>\n",
       "    </tr>\n",
       "    <tr>\n",
       "      <td>15</td>\n",
       "      <td>tt0004022</td>\n",
       "      <td>Julius Caesar</td>\n",
       "      <td>1914</td>\n",
       "      <td>112</td>\n",
       "      <td>Drama,History</td>\n",
       "      <td>The play opens with the commoners of Rome cele...</td>\n",
       "    </tr>\n",
       "    <tr>\n",
       "      <td>16</td>\n",
       "      <td>tt0004099</td>\n",
       "      <td>The New Wizard of Oz</td>\n",
       "      <td>1914</td>\n",
       "      <td>59</td>\n",
       "      <td>Adventure,Comedy,Family</td>\n",
       "      <td>King Krewl (Raymond Russell) is a cruel dictat...</td>\n",
       "    </tr>\n",
       "  </tbody>\n",
       "</table>\n",
       "</div>"
      ],
      "text/plain": [
       "       tconst              primaryTitle startYear runtimeMinutes  \\\n",
       "12  tt0002130           Dante's Inferno      1911             71   \n",
       "13  tt0003419     The Student of Prague      1913             85   \n",
       "14  tt0003489  The Last Days of Pompeii      1913             88   \n",
       "15  tt0004022             Julius Caesar      1914            112   \n",
       "16  tt0004099      The New Wizard of Oz      1914             59   \n",
       "\n",
       "                     genres                                      plot_synopsis  \n",
       "12  Adventure,Drama,Fantasy  The exhumation of Lizzie Siddal's desiccated b...  \n",
       "13     Drama,Fantasy,Horror  Being praised as the finest fencer in his Univ...  \n",
       "14          Adventure,Drama  In Pompeii 79AD, Glaucus and Jone are in love ...  \n",
       "15            Drama,History  The play opens with the commoners of Rome cele...  \n",
       "16  Adventure,Comedy,Family  King Krewl (Raymond Russell) is a cruel dictat...  "
      ]
     },
     "execution_count": 9,
     "metadata": {},
     "output_type": "execute_result"
    }
   ],
   "source": [
    "movies.drop(['titleType', 'originalTitle', 'isAdult', 'endYear', 'imdb_id', \n",
    "             'title', 'tags', 'split', 'synopsis_source'],\n",
    "            axis = 1, inplace = True)\n",
    "movies.head()"
   ]
  },
  {
   "cell_type": "markdown",
   "metadata": {},
   "source": [
    "#### Missing values"
   ]
  },
  {
   "cell_type": "code",
   "execution_count": 10,
   "metadata": {},
   "outputs": [
    {
     "data": {
      "text/plain": [
       "tconst             0\n",
       "primaryTitle       0\n",
       "startYear         18\n",
       "runtimeMinutes    52\n",
       "genres             1\n",
       "plot_synopsis      0\n",
       "dtype: int64"
      ]
     },
     "execution_count": 10,
     "metadata": {},
     "output_type": "execute_result"
    }
   ],
   "source": [
    "## find how many \\Ns in each variable\n",
    "(movies == '\\\\N').sum()"
   ]
  },
  {
   "cell_type": "markdown",
   "metadata": {},
   "source": [
    "Missing values are represented in the data by a '\\N' character. Some of these can be imputed, like `runtimeMinutes` which will be replaced with the variable mean. Others like `startYear` and `genre` should be removed (especially the oberservations that do not have data in the genre field, as that is the target variable)."
   ]
  },
  {
   "cell_type": "code",
   "execution_count": 29,
   "metadata": {},
   "outputs": [],
   "source": [
    "## replace \\N strings with NaNs\n",
    "movies.replace(to_replace = '\\\\N', value = np.nan, inplace = True)\n",
    "\n",
    "## make runtimeMinutes numeric, fill NAs with the mean\n",
    "movies['runtimeMinutes'] = pd.to_numeric(movies['runtimeMinutes'])\n",
    "movies['runtimeMinutes'].fillna(movies['runtimeMinutes'].mean(), inplace = True)\n",
    "\n",
    "## drop remaining NAs\n",
    "movies_clean = movies.dropna()"
   ]
  },
  {
   "cell_type": "code",
   "execution_count": 33,
   "metadata": {
    "scrolled": false
   },
   "outputs": [
    {
     "data": {
      "text/html": [
       "<div>\n",
       "<style scoped>\n",
       "    .dataframe tbody tr th:only-of-type {\n",
       "        vertical-align: middle;\n",
       "    }\n",
       "\n",
       "    .dataframe tbody tr th {\n",
       "        vertical-align: top;\n",
       "    }\n",
       "\n",
       "    .dataframe thead th {\n",
       "        text-align: right;\n",
       "    }\n",
       "</style>\n",
       "<table border=\"1\" class=\"dataframe\">\n",
       "  <thead>\n",
       "    <tr style=\"text-align: right;\">\n",
       "      <th></th>\n",
       "      <th>tconst</th>\n",
       "      <th>primaryTitle</th>\n",
       "      <th>startYear</th>\n",
       "      <th>runtimeMinutes</th>\n",
       "      <th>genres</th>\n",
       "      <th>plot_synopsis</th>\n",
       "    </tr>\n",
       "  </thead>\n",
       "  <tbody>\n",
       "    <tr>\n",
       "      <td>0</td>\n",
       "      <td>tt0002130</td>\n",
       "      <td>Dante's Inferno</td>\n",
       "      <td>1911</td>\n",
       "      <td>71.0</td>\n",
       "      <td>Adventure,Drama,Fantasy</td>\n",
       "      <td>The exhumation of Lizzie Siddal's desiccated b...</td>\n",
       "    </tr>\n",
       "    <tr>\n",
       "      <td>1</td>\n",
       "      <td>tt0003419</td>\n",
       "      <td>The Student of Prague</td>\n",
       "      <td>1913</td>\n",
       "      <td>85.0</td>\n",
       "      <td>Drama,Fantasy,Horror</td>\n",
       "      <td>Being praised as the finest fencer in his Univ...</td>\n",
       "    </tr>\n",
       "    <tr>\n",
       "      <td>2</td>\n",
       "      <td>tt0003489</td>\n",
       "      <td>The Last Days of Pompeii</td>\n",
       "      <td>1913</td>\n",
       "      <td>88.0</td>\n",
       "      <td>Adventure,Drama</td>\n",
       "      <td>In Pompeii 79AD, Glaucus and Jone are in love ...</td>\n",
       "    </tr>\n",
       "    <tr>\n",
       "      <td>3</td>\n",
       "      <td>tt0004022</td>\n",
       "      <td>Julius Caesar</td>\n",
       "      <td>1914</td>\n",
       "      <td>112.0</td>\n",
       "      <td>Drama,History</td>\n",
       "      <td>The play opens with the commoners of Rome cele...</td>\n",
       "    </tr>\n",
       "    <tr>\n",
       "      <td>4</td>\n",
       "      <td>tt0004099</td>\n",
       "      <td>The New Wizard of Oz</td>\n",
       "      <td>1914</td>\n",
       "      <td>59.0</td>\n",
       "      <td>Adventure,Comedy,Family</td>\n",
       "      <td>King Krewl (Raymond Russell) is a cruel dictat...</td>\n",
       "    </tr>\n",
       "  </tbody>\n",
       "</table>\n",
       "</div>"
      ],
      "text/plain": [
       "      tconst              primaryTitle startYear  runtimeMinutes  \\\n",
       "0  tt0002130           Dante's Inferno      1911            71.0   \n",
       "1  tt0003419     The Student of Prague      1913            85.0   \n",
       "2  tt0003489  The Last Days of Pompeii      1913            88.0   \n",
       "3  tt0004022             Julius Caesar      1914           112.0   \n",
       "4  tt0004099      The New Wizard of Oz      1914            59.0   \n",
       "\n",
       "                    genres                                      plot_synopsis  \n",
       "0  Adventure,Drama,Fantasy  The exhumation of Lizzie Siddal's desiccated b...  \n",
       "1     Drama,Fantasy,Horror  Being praised as the finest fencer in his Univ...  \n",
       "2          Adventure,Drama  In Pompeii 79AD, Glaucus and Jone are in love ...  \n",
       "3            Drama,History  The play opens with the commoners of Rome cele...  \n",
       "4  Adventure,Comedy,Family  King Krewl (Raymond Russell) is a cruel dictat...  "
      ]
     },
     "execution_count": 33,
     "metadata": {},
     "output_type": "execute_result"
    }
   ],
   "source": [
    "## reformat\n",
    "movies_clean.reset_index(drop = True, inplace = True)\n",
    "movies_clean.head()"
   ]
  },
  {
   "cell_type": "code",
   "execution_count": 34,
   "metadata": {},
   "outputs": [
    {
     "data": {
      "text/plain": [
       "(12277, 6)"
      ]
     },
     "execution_count": 34,
     "metadata": {},
     "output_type": "execute_result"
    }
   ],
   "source": [
    "movies_clean.shape"
   ]
  },
  {
   "cell_type": "markdown",
   "metadata": {},
   "source": [
    "At the end of the data cleaning process, I am left with a dataframe with 12277 observations and 6 features. I expect to remove one of or both `tconst` and `primaryTitle` as they are all unique values and won't aid in modeling.\n",
    "\n",
    "Further feature engineering will include deriving a main genre for each movie and creating classes of interest. And determining TF-IDF scores for the text in the `plot_synopsis` feature."
   ]
  },
  {
   "cell_type": "markdown",
   "metadata": {},
   "source": [
    "### Feature Engineering"
   ]
  },
  {
   "cell_type": "markdown",
   "metadata": {},
   "source": [
    "#### Refine `genre` feature"
   ]
  },
  {
   "cell_type": "code",
   "execution_count": 47,
   "metadata": {
    "scrolled": false
   },
   "outputs": [
    {
     "name": "stdout",
     "output_type": "stream",
     "text": [
      "Number of unique primary genres: 20\n",
      "Number of movies of each genre:\n",
      "Action         2778\n",
      "Comedy         2649\n",
      "Drama          2444\n",
      "Crime          1207\n",
      "Horror         1048\n",
      "Adventure       917\n",
      "Biography       478\n",
      "Western         154\n",
      "Animation       130\n",
      "Fantasy         107\n",
      "Mystery          83\n",
      "Documentary      69\n",
      "Romance          49\n",
      "Thriller         40\n",
      "Sci              38\n",
      "Family           30\n",
      "Musical          25\n",
      "Film             17\n",
      "Music             7\n",
      "History           7\n",
      "Name: genre, dtype: int64\n"
     ]
    }
   ],
   "source": [
    "## extract the main genre (assume it is the first listed)\n",
    "movies_clean['genre'] = movies_clean['genres'].apply(lambda x: re.findall('\\w+', x)[0])\n",
    "print('Number of unique primary genres:', movies_clean['genre'].nunique())\n",
    "print('Number of movies of each genre:')\n",
    "print(movies_clean['genre'].value_counts())"
   ]
  },
  {
   "cell_type": "markdown",
   "metadata": {},
   "source": [
    "Make **Action, Comedy, Drama, Crime, Horror, and Adventure** the five main classes. All others can be lumped together in an **Other** category."
   ]
  },
  {
   "cell_type": "code",
   "execution_count": 57,
   "metadata": {
    "scrolled": true
   },
   "outputs": [
    {
     "data": {
      "text/html": [
       "<div>\n",
       "<style scoped>\n",
       "    .dataframe tbody tr th:only-of-type {\n",
       "        vertical-align: middle;\n",
       "    }\n",
       "\n",
       "    .dataframe tbody tr th {\n",
       "        vertical-align: top;\n",
       "    }\n",
       "\n",
       "    .dataframe thead th {\n",
       "        text-align: right;\n",
       "    }\n",
       "</style>\n",
       "<table border=\"1\" class=\"dataframe\">\n",
       "  <thead>\n",
       "    <tr style=\"text-align: right;\">\n",
       "      <th></th>\n",
       "      <th>tconst</th>\n",
       "      <th>primaryTitle</th>\n",
       "      <th>startYear</th>\n",
       "      <th>runtimeMinutes</th>\n",
       "      <th>plot_synopsis</th>\n",
       "      <th>genre</th>\n",
       "    </tr>\n",
       "  </thead>\n",
       "  <tbody>\n",
       "    <tr>\n",
       "      <td>0</td>\n",
       "      <td>tt0002130</td>\n",
       "      <td>Dante's Inferno</td>\n",
       "      <td>1911</td>\n",
       "      <td>71.0</td>\n",
       "      <td>The exhumation of Lizzie Siddal's desiccated b...</td>\n",
       "      <td>Adventure</td>\n",
       "    </tr>\n",
       "    <tr>\n",
       "      <td>1</td>\n",
       "      <td>tt0003419</td>\n",
       "      <td>The Student of Prague</td>\n",
       "      <td>1913</td>\n",
       "      <td>85.0</td>\n",
       "      <td>Being praised as the finest fencer in his Univ...</td>\n",
       "      <td>Drama</td>\n",
       "    </tr>\n",
       "    <tr>\n",
       "      <td>2</td>\n",
       "      <td>tt0003489</td>\n",
       "      <td>The Last Days of Pompeii</td>\n",
       "      <td>1913</td>\n",
       "      <td>88.0</td>\n",
       "      <td>In Pompeii 79AD, Glaucus and Jone are in love ...</td>\n",
       "      <td>Adventure</td>\n",
       "    </tr>\n",
       "    <tr>\n",
       "      <td>3</td>\n",
       "      <td>tt0004022</td>\n",
       "      <td>Julius Caesar</td>\n",
       "      <td>1914</td>\n",
       "      <td>112.0</td>\n",
       "      <td>The play opens with the commoners of Rome cele...</td>\n",
       "      <td>Drama</td>\n",
       "    </tr>\n",
       "    <tr>\n",
       "      <td>4</td>\n",
       "      <td>tt0004099</td>\n",
       "      <td>The New Wizard of Oz</td>\n",
       "      <td>1914</td>\n",
       "      <td>59.0</td>\n",
       "      <td>King Krewl (Raymond Russell) is a cruel dictat...</td>\n",
       "      <td>Adventure</td>\n",
       "    </tr>\n",
       "    <tr>\n",
       "      <td>5</td>\n",
       "      <td>tt0004635</td>\n",
       "      <td>The Squaw Man</td>\n",
       "      <td>1914</td>\n",
       "      <td>74.0</td>\n",
       "      <td>James Wynnegate (Dustin Farnum) and his cousin...</td>\n",
       "      <td>Action</td>\n",
       "    </tr>\n",
       "    <tr>\n",
       "      <td>6</td>\n",
       "      <td>tt0004972</td>\n",
       "      <td>The Birth of a Nation</td>\n",
       "      <td>1915</td>\n",
       "      <td>195.0</td>\n",
       "      <td>=== Part 1: Civil War of United States ===\\nTh...</td>\n",
       "      <td>Drama</td>\n",
       "    </tr>\n",
       "    <tr>\n",
       "      <td>7</td>\n",
       "      <td>tt0005059</td>\n",
       "      <td>The Captive</td>\n",
       "      <td>1915</td>\n",
       "      <td>50.0</td>\n",
       "      <td>The Captive chronicles the life of a young wom...</td>\n",
       "      <td>Drama</td>\n",
       "    </tr>\n",
       "    <tr>\n",
       "      <td>8</td>\n",
       "      <td>tt0006206</td>\n",
       "      <td>Les vampires</td>\n",
       "      <td>1915</td>\n",
       "      <td>421.0</td>\n",
       "      <td>=== Episode 1 – \"The Severed Head\" ===\\nPhilip...</td>\n",
       "      <td>Action</td>\n",
       "    </tr>\n",
       "    <tr>\n",
       "      <td>9</td>\n",
       "      <td>tt0006780</td>\n",
       "      <td>Hell's Hinges</td>\n",
       "      <td>1916</td>\n",
       "      <td>64.0</td>\n",
       "      <td>Hell's Hinges tells the story of a weak-willed...</td>\n",
       "      <td>Other</td>\n",
       "    </tr>\n",
       "  </tbody>\n",
       "</table>\n",
       "</div>"
      ],
      "text/plain": [
       "      tconst              primaryTitle startYear  runtimeMinutes  \\\n",
       "0  tt0002130           Dante's Inferno      1911            71.0   \n",
       "1  tt0003419     The Student of Prague      1913            85.0   \n",
       "2  tt0003489  The Last Days of Pompeii      1913            88.0   \n",
       "3  tt0004022             Julius Caesar      1914           112.0   \n",
       "4  tt0004099      The New Wizard of Oz      1914            59.0   \n",
       "5  tt0004635             The Squaw Man      1914            74.0   \n",
       "6  tt0004972     The Birth of a Nation      1915           195.0   \n",
       "7  tt0005059               The Captive      1915            50.0   \n",
       "8  tt0006206              Les vampires      1915           421.0   \n",
       "9  tt0006780             Hell's Hinges      1916            64.0   \n",
       "\n",
       "                                       plot_synopsis      genre  \n",
       "0  The exhumation of Lizzie Siddal's desiccated b...  Adventure  \n",
       "1  Being praised as the finest fencer in his Univ...      Drama  \n",
       "2  In Pompeii 79AD, Glaucus and Jone are in love ...  Adventure  \n",
       "3  The play opens with the commoners of Rome cele...      Drama  \n",
       "4  King Krewl (Raymond Russell) is a cruel dictat...  Adventure  \n",
       "5  James Wynnegate (Dustin Farnum) and his cousin...     Action  \n",
       "6  === Part 1: Civil War of United States ===\\nTh...      Drama  \n",
       "7  The Captive chronicles the life of a young wom...      Drama  \n",
       "8  === Episode 1 – \"The Severed Head\" ===\\nPhilip...     Action  \n",
       "9  Hell's Hinges tells the story of a weak-willed...      Other  "
      ]
     },
     "execution_count": 57,
     "metadata": {},
     "output_type": "execute_result"
    }
   ],
   "source": [
    "## lump smaller genre groups into a bigger OTHER level\n",
    "other = ['Biography', 'Western', \n",
    "         'Animation', 'Fantasy',\n",
    "         'Mystery', 'Documentary',\n",
    "         'Romance', 'Thriller',\n",
    "         'Sci', 'Family',\n",
    "         'Musical', 'Film',\n",
    "         'Music', 'History']\n",
    "\n",
    "movies_clean['genre'] = movies_clean['genre'].replace(to_replace = other, value = \"Other\")\n",
    "movies_clean.drop(['genres'], axis = 1, inplace = True)\n",
    "movies_clean.head(10)"
   ]
  },
  {
   "cell_type": "code",
   "execution_count": null,
   "metadata": {},
   "outputs": [],
   "source": [
    "## encode genre categories as integers"
   ]
  },
  {
   "cell_type": "markdown",
   "metadata": {},
   "source": [
    "#### Train and Test Split"
   ]
  },
  {
   "cell_type": "code",
   "execution_count": null,
   "metadata": {},
   "outputs": [],
   "source": []
  },
  {
   "cell_type": "markdown",
   "metadata": {},
   "source": [
    "#### TF-IDF with `plot_synopsis`"
   ]
  },
  {
   "cell_type": "code",
   "execution_count": null,
   "metadata": {},
   "outputs": [],
   "source": []
  },
  {
   "cell_type": "code",
   "execution_count": null,
   "metadata": {},
   "outputs": [],
   "source": []
  },
  {
   "cell_type": "markdown",
   "metadata": {},
   "source": [
    "## Modeling"
   ]
  },
  {
   "cell_type": "code",
   "execution_count": null,
   "metadata": {},
   "outputs": [],
   "source": []
  }
 ],
 "metadata": {
  "kernelspec": {
   "display_name": "Python 3",
   "language": "python",
   "name": "python3"
  },
  "language_info": {
   "codemirror_mode": {
    "name": "ipython",
    "version": 3
   },
   "file_extension": ".py",
   "mimetype": "text/x-python",
   "name": "python",
   "nbconvert_exporter": "python",
   "pygments_lexer": "ipython3",
   "version": "3.7.4"
  }
 },
 "nbformat": 4,
 "nbformat_minor": 2
}
