{
 "cells": [
  {
   "cell_type": "markdown",
   "metadata": {},
   "source": [
    "# STAT 426 Final Project\n",
    "Isabelle Tooley\n",
    "December 10, 2020"
   ]
  },
  {
   "cell_type": "markdown",
   "metadata": {},
   "source": [
    "## Introduction"
   ]
  },
  {
   "cell_type": "markdown",
   "metadata": {},
   "source": [
    "I am very interested in movies and stories. I always have been. But I assumed that my choice to pursue an education and career path in the field of statistics/data science meant that my love of words and storytelling would remain just a side interest. So I got very excited when I started learning about all the applications of natural language processing. It bridged two of my passions: statistics and stories.\n",
    "\n",
    "Most stories are written. Books, scripts for plays and tv shows, movie screenplays: all of these are a collection of words that convey a story. The motivation for this project was to see if I could use some of those words to derive information about the story they represent. This is exciting to me because I think the entertainment industry is relatively uncharted territory for data science methods. Of course, this is beginning to change in the age of easy data accessibility and a desire for data-driven decisions in all industries. But still. If putting something like a movie script into a machine learning model can accurately spit out it's genre, theme, or general story-telling framework, then you could potentially reverse engineer it to start with a genre, theme, or story-telling framework and end up with a new movie script. This is super down the rabbit hole and sounds like *years* of research, but I think it's super cool and this project is as good a place to start as any.\n",
    "\n",
    "The research question driving this project is essentially: **can the description of a movie (i.e. synopsis or plot summary), along with a handful of other variables, accurately predict the primary genre of a full-length film?** This will be a multinomial classification problem."
   ]
  },
  {
   "cell_type": "markdown",
   "metadata": {},
   "source": [
    "## Data"
   ]
  },
  {
   "cell_type": "code",
   "execution_count": 1,
   "metadata": {},
   "outputs": [],
   "source": [
    "import pandas as pd\n",
    "import numpy as np\n",
    "import matplotlib.pyplot as plt\n",
    "import seaborn as sns\n",
    "import re\n",
    "import warnings\n",
    "warnings.filterwarnings('ignore')"
   ]
  },
  {
   "cell_type": "code",
   "execution_count": 2,
   "metadata": {},
   "outputs": [],
   "source": [
    "from nltk import word_tokenize\n",
    "from sklearn.feature_extraction.text import CountVectorizer\n",
    "from sklearn.feature_extraction.text import TfidfVectorizer\n",
    "from sklearn.preprocessing import MinMaxScaler\n",
    "from sklearn.cluster import KMeans\n",
    "from sklearn.decomposition import PCA\n",
    "from sklearn.model_selection import train_test_split, GridSearchCV\n",
    "from sklearn.linear_model import LogisticRegression\n",
    "from sklearn.naive_bayes import MultinomialNB\n",
    "from sklearn.ensemble import RandomForestClassifier\n",
    "\n",
    "import xgboost\n",
    "from xgboost import XGBClassifier\n",
    "\n",
    "from sklearn.model_selection import cross_val_score\n",
    "from sklearn.metrics import f1_score, accuracy_score, classification_report, confusion_matrix"
   ]
  },
  {
   "cell_type": "markdown",
   "metadata": {},
   "source": [
    "### Collection"
   ]
  },
  {
   "cell_type": "markdown",
   "metadata": {},
   "source": [
    "I use a combination of three datasets in this analysis. Two of them were collected from the [IMDb](https://www.imdb.com/interfaces/) website, the other was found on Kaggle [here](https://www.kaggle.com/cryptexcode/mpst-movie-plot-synopses-with-tags).\n",
    "\n",
    "The first IMDb dataset is \"title.basics.tsv\". It contains some general information about the included media: the content type (short film, tv show, movie, etc.), primary title, release year, runtime, and others. Many of these variables won't be important during the modeling stage, but will be useful during the initial trimming down of the data. Most importantly, this dataset contains the **`genre`** field, which will be my target variable. Each observation/film is keyed with a unique IMDb id under the `tconst` field. These are essential to being able to combine the datasets.\n",
    "\n",
    "The second IMDb dataset is \"title.ratings.tsv\". It contains only 3 variables: `tconst` (for merging), `averageRating` and `numVotes` which have information about the users' ratings of and votes for any particular title. Both of these will be used throughout the analysis.\n",
    "\n",
    "The final dataset is called MPST for \"movie plot synopsis with tags\". This dataset contains much less observations than the other two, but it also has the most important feature - `plot_synopsis`. The text contains a summary of the movie, and it is my main objective to see if it is possible to accurately determine genre using primarily this information. Additionally, there is an `imdb_id` which I can use with the `tconst` variables from the first two datasets to facilitate merging.\n",
    "\n",
    "I was able to download local copies of all three data files and read them directly into my notebook, which I do below. Then, I perform an innerjoin on the data to keep only the observations that are common between *all three* datasets."
   ]
  },
  {
   "cell_type": "code",
   "execution_count": 3,
   "metadata": {},
   "outputs": [
    {
     "data": {
      "text/html": [
       "<div>\n",
       "<style scoped>\n",
       "    .dataframe tbody tr th:only-of-type {\n",
       "        vertical-align: middle;\n",
       "    }\n",
       "\n",
       "    .dataframe tbody tr th {\n",
       "        vertical-align: top;\n",
       "    }\n",
       "\n",
       "    .dataframe thead th {\n",
       "        text-align: right;\n",
       "    }\n",
       "</style>\n",
       "<table border=\"1\" class=\"dataframe\">\n",
       "  <thead>\n",
       "    <tr style=\"text-align: right;\">\n",
       "      <th></th>\n",
       "      <th>tconst</th>\n",
       "      <th>titleType</th>\n",
       "      <th>primaryTitle</th>\n",
       "      <th>originalTitle</th>\n",
       "      <th>isAdult</th>\n",
       "      <th>startYear</th>\n",
       "      <th>endYear</th>\n",
       "      <th>runtimeMinutes</th>\n",
       "      <th>genres</th>\n",
       "      <th>averageRating</th>\n",
       "      <th>numVotes</th>\n",
       "      <th>imdb_id</th>\n",
       "      <th>title</th>\n",
       "      <th>plot_synopsis</th>\n",
       "      <th>tags</th>\n",
       "      <th>split</th>\n",
       "      <th>synopsis_source</th>\n",
       "    </tr>\n",
       "  </thead>\n",
       "  <tbody>\n",
       "    <tr>\n",
       "      <td>0</td>\n",
       "      <td>tt0000091</td>\n",
       "      <td>short</td>\n",
       "      <td>The House of the Devil</td>\n",
       "      <td>Le manoir du diable</td>\n",
       "      <td>0</td>\n",
       "      <td>1896</td>\n",
       "      <td>\\N</td>\n",
       "      <td>3</td>\n",
       "      <td>Horror,Short</td>\n",
       "      <td>6.7</td>\n",
       "      <td>2859</td>\n",
       "      <td>tt0000091</td>\n",
       "      <td>Le manoir du diable</td>\n",
       "      <td>The film opens with a large bat flying into a ...</td>\n",
       "      <td>paranormal, gothic</td>\n",
       "      <td>train</td>\n",
       "      <td>wikipedia</td>\n",
       "    </tr>\n",
       "    <tr>\n",
       "      <td>1</td>\n",
       "      <td>tt0000225</td>\n",
       "      <td>short</td>\n",
       "      <td>Beauty and the Beast</td>\n",
       "      <td>La belle et la bête</td>\n",
       "      <td>0</td>\n",
       "      <td>1899</td>\n",
       "      <td>\\N</td>\n",
       "      <td>\\N</td>\n",
       "      <td>Family,Fantasy,Romance</td>\n",
       "      <td>5.1</td>\n",
       "      <td>18</td>\n",
       "      <td>tt0000225</td>\n",
       "      <td>La belle et la bête</td>\n",
       "      <td>A widower merchant lives in a mansion with his...</td>\n",
       "      <td>fantasy</td>\n",
       "      <td>train</td>\n",
       "      <td>wikipedia</td>\n",
       "    </tr>\n",
       "    <tr>\n",
       "      <td>2</td>\n",
       "      <td>tt0000230</td>\n",
       "      <td>short</td>\n",
       "      <td>Cinderella</td>\n",
       "      <td>Cendrillon</td>\n",
       "      <td>0</td>\n",
       "      <td>1899</td>\n",
       "      <td>\\N</td>\n",
       "      <td>6</td>\n",
       "      <td>Drama,Family,Fantasy</td>\n",
       "      <td>6.5</td>\n",
       "      <td>1358</td>\n",
       "      <td>tt0000230</td>\n",
       "      <td>Cendrillon</td>\n",
       "      <td>A prologue in front of the curtain, suppressed...</td>\n",
       "      <td>fantasy</td>\n",
       "      <td>train</td>\n",
       "      <td>wikipedia</td>\n",
       "    </tr>\n",
       "  </tbody>\n",
       "</table>\n",
       "</div>"
      ],
      "text/plain": [
       "      tconst titleType            primaryTitle        originalTitle  isAdult  \\\n",
       "0  tt0000091     short  The House of the Devil  Le manoir du diable        0   \n",
       "1  tt0000225     short    Beauty and the Beast  La belle et la bête        0   \n",
       "2  tt0000230     short              Cinderella           Cendrillon        0   \n",
       "\n",
       "  startYear endYear runtimeMinutes                  genres  averageRating  \\\n",
       "0      1896      \\N              3            Horror,Short            6.7   \n",
       "1      1899      \\N             \\N  Family,Fantasy,Romance            5.1   \n",
       "2      1899      \\N              6    Drama,Family,Fantasy            6.5   \n",
       "\n",
       "   numVotes    imdb_id                title  \\\n",
       "0      2859  tt0000091  Le manoir du diable   \n",
       "1        18  tt0000225  La belle et la bête   \n",
       "2      1358  tt0000230           Cendrillon   \n",
       "\n",
       "                                       plot_synopsis                tags  \\\n",
       "0  The film opens with a large bat flying into a ...  paranormal, gothic   \n",
       "1  A widower merchant lives in a mansion with his...             fantasy   \n",
       "2  A prologue in front of the curtain, suppressed...             fantasy   \n",
       "\n",
       "   split synopsis_source  \n",
       "0  train       wikipedia  \n",
       "1  train       wikipedia  \n",
       "2  train       wikipedia  "
      ]
     },
     "execution_count": 3,
     "metadata": {},
     "output_type": "execute_result"
    }
   ],
   "source": [
    "## read in data\n",
    "basics = pd.read_csv('title.basics.tsv', sep='\\t')\n",
    "ratings = pd.read_csv('title.ratings.tsv', sep='\\t')\n",
    "synopses = pd.read_csv('mpst_full_data.csv')\n",
    "\n",
    "## merge all\n",
    "all = pd.merge(left=pd.merge(basics, ratings, 'inner', on='tconst'), \n",
    "               right=synopses, how='inner', left_on='tconst', right_on='imdb_id')\n",
    "all.head(3)"
   ]
  },
  {
   "cell_type": "code",
   "execution_count": 14,
   "metadata": {
    "scrolled": false
   },
   "outputs": [
    {
     "name": "stdout",
     "output_type": "stream",
     "text": [
      "Number of movies with plot data: 14828\n",
      "Number of movies after merge: 14765\n"
     ]
    }
   ],
   "source": [
    "print('Number of movies with plot data:', synopses.shape[0])\n",
    "print('Number of movies after merge:', all.shape[0])"
   ]
  },
  {
   "cell_type": "markdown",
   "metadata": {},
   "source": [
    "The original number of movies that had plot data was 14,828. During the innjerjoin to the IMDb datasets a handful of those observations were lost, leaving me with 14,765 titles that had basic, rating, and plot information."
   ]
  },
  {
   "cell_type": "markdown",
   "metadata": {},
   "source": [
    "### Cleaning"
   ]
  },
  {
   "cell_type": "markdown",
   "metadata": {},
   "source": [
    "In this analysis I only want to consider full-length, non-adult films that were released later than 1950. So here I trim down the dataset accordingly and remove any unneccessary variables. The `tconst` id field was only useful as far as merging data, so that will no longer be needed. Although the `primaryTitle` variable will not be included in any useful analysis, I've kept it momentarily for context."
   ]
  },
  {
   "cell_type": "code",
   "execution_count": 4,
   "metadata": {
    "scrolled": true
   },
   "outputs": [
    {
     "data": {
      "text/html": [
       "<div>\n",
       "<style scoped>\n",
       "    .dataframe tbody tr th:only-of-type {\n",
       "        vertical-align: middle;\n",
       "    }\n",
       "\n",
       "    .dataframe tbody tr th {\n",
       "        vertical-align: top;\n",
       "    }\n",
       "\n",
       "    .dataframe thead th {\n",
       "        text-align: right;\n",
       "    }\n",
       "</style>\n",
       "<table border=\"1\" class=\"dataframe\">\n",
       "  <thead>\n",
       "    <tr style=\"text-align: right;\">\n",
       "      <th></th>\n",
       "      <th>primaryTitle</th>\n",
       "      <th>runtimeMinutes</th>\n",
       "      <th>genres</th>\n",
       "      <th>averageRating</th>\n",
       "      <th>numVotes</th>\n",
       "      <th>plot_synopsis</th>\n",
       "    </tr>\n",
       "  </thead>\n",
       "  <tbody>\n",
       "    <tr>\n",
       "      <td>756</td>\n",
       "      <td>Kate &amp; Leopold</td>\n",
       "      <td>118</td>\n",
       "      <td>Comedy,Fantasy,Romance</td>\n",
       "      <td>6.4</td>\n",
       "      <td>78334</td>\n",
       "      <td>On 28 April 1876, Leopold, His Grace the 3rd D...</td>\n",
       "    </tr>\n",
       "    <tr>\n",
       "      <td>1336</td>\n",
       "      <td>The Franchise Affair</td>\n",
       "      <td>88</td>\n",
       "      <td>Crime,Drama,Mystery</td>\n",
       "      <td>7.1</td>\n",
       "      <td>206</td>\n",
       "      <td>Robert Blair, a local solicitor, is called on ...</td>\n",
       "    </tr>\n",
       "    <tr>\n",
       "      <td>1342</td>\n",
       "      <td>Halls of Montezuma</td>\n",
       "      <td>113</td>\n",
       "      <td>Action,Adventure,Drama</td>\n",
       "      <td>6.6</td>\n",
       "      <td>2458</td>\n",
       "      <td>During World War II, a Marine battalion prepar...</td>\n",
       "    </tr>\n",
       "    <tr>\n",
       "      <td>1349</td>\n",
       "      <td>Diary of a Country Priest</td>\n",
       "      <td>115</td>\n",
       "      <td>Drama</td>\n",
       "      <td>7.9</td>\n",
       "      <td>9949</td>\n",
       "      <td>An idealistic young priest arrives at Ambricou...</td>\n",
       "    </tr>\n",
       "    <tr>\n",
       "      <td>1382</td>\n",
       "      <td>Under the Gun</td>\n",
       "      <td>83</td>\n",
       "      <td>Crime,Drama,Film-Noir</td>\n",
       "      <td>6.8</td>\n",
       "      <td>117</td>\n",
       "      <td>At a Miami nightclub, gangster Bert Galvin off...</td>\n",
       "    </tr>\n",
       "  </tbody>\n",
       "</table>\n",
       "</div>"
      ],
      "text/plain": [
       "                   primaryTitle runtimeMinutes                  genres  \\\n",
       "756              Kate & Leopold            118  Comedy,Fantasy,Romance   \n",
       "1336       The Franchise Affair             88     Crime,Drama,Mystery   \n",
       "1342         Halls of Montezuma            113  Action,Adventure,Drama   \n",
       "1349  Diary of a Country Priest            115                   Drama   \n",
       "1382              Under the Gun             83   Crime,Drama,Film-Noir   \n",
       "\n",
       "      averageRating  numVotes  \\\n",
       "756             6.4     78334   \n",
       "1336            7.1       206   \n",
       "1342            6.6      2458   \n",
       "1349            7.9      9949   \n",
       "1382            6.8       117   \n",
       "\n",
       "                                          plot_synopsis  \n",
       "756   On 28 April 1876, Leopold, His Grace the 3rd D...  \n",
       "1336  Robert Blair, a local solicitor, is called on ...  \n",
       "1342  During World War II, a Marine battalion prepar...  \n",
       "1349  An idealistic young priest arrives at Ambricou...  \n",
       "1382  At a Miami nightclub, gangster Bert Galvin off...  "
      ]
     },
     "execution_count": 4,
     "metadata": {},
     "output_type": "execute_result"
    }
   ],
   "source": [
    "## filter down to only non-adult movie content that came out after 1950\n",
    "movies = all[(all['titleType'] == 'movie') & \n",
    "             (all['isAdult'] == 0) & \n",
    "             (all['startYear'].astype(int) > 1950)]\n",
    "\n",
    "## drop unnecessary variables\n",
    "movies.drop(['tconst', 'titleType', 'originalTitle', 'isAdult', 'startYear',\n",
    "             'endYear', 'imdb_id', 'title', 'tags', 'split', 'synopsis_source'],\n",
    "            axis = 1, inplace = True)\n",
    "movies.head()"
   ]
  },
  {
   "cell_type": "markdown",
   "metadata": {},
   "source": [
    "#### Missing values\n",
    "Missing values are represented in the data by a '\\N' character. Some of these can be imputed, like `runtimeMinutes` which will be replaced with the variable mean. The one missing genre field will be dropped because it's the target variable and we need to know what it is. I also drop duplicate observations."
   ]
  },
  {
   "cell_type": "code",
   "execution_count": 5,
   "metadata": {},
   "outputs": [
    {
     "data": {
      "text/plain": [
       "primaryTitle       0\n",
       "runtimeMinutes    28\n",
       "genres             1\n",
       "averageRating      0\n",
       "numVotes           0\n",
       "plot_synopsis      0\n",
       "dtype: int64"
      ]
     },
     "execution_count": 5,
     "metadata": {},
     "output_type": "execute_result"
    }
   ],
   "source": [
    "## count missing values\n",
    "(movies == '\\\\N').sum()"
   ]
  },
  {
   "cell_type": "code",
   "execution_count": 6,
   "metadata": {},
   "outputs": [],
   "source": [
    "## replace \\N strings with NaNs\n",
    "movies.replace(to_replace = '\\\\N', value = np.nan, inplace = True)\n",
    "\n",
    "## make runtimeMinutes numeric, fill NAs with the mean\n",
    "movies['runtimeMinutes'] = pd.to_numeric(movies['runtimeMinutes'])\n",
    "movies['runtimeMinutes'].fillna(movies['runtimeMinutes'].mean(), inplace = True)\n",
    "\n",
    "## drop remaining NAs and any duplicate movies/plots\n",
    "movies_clean = movies.dropna().drop_duplicates(['primaryTitle', 'plot_synopsis'])\n",
    "\n",
    "## reformat\n",
    "movies_clean.reset_index(drop = True, inplace = True)"
   ]
  },
  {
   "cell_type": "markdown",
   "metadata": {},
   "source": [
    "#### Refine Genre\n",
    "Firstly, I clean the `genre` field by selecting the first listed genre. This is under the assumption that the first is the main genre. It is possible that this is not the best assumption, but for simplifying purposes it will do. Below we can see that there are 20 unique genres represented in the data, with varying frequencies."
   ]
  },
  {
   "cell_type": "code",
   "execution_count": 7,
   "metadata": {
    "scrolled": false
   },
   "outputs": [
    {
     "name": "stdout",
     "output_type": "stream",
     "text": [
      "Number of unique primary genres: 20\n",
      "Number of movies of each genre:\n",
      "Action         2592\n",
      "Comedy         2390\n",
      "Drama          2075\n",
      "Horror          998\n",
      "Crime           978\n",
      "Adventure       778\n",
      "Biography       434\n",
      "Animation       118\n",
      "Western          95\n",
      "Fantasy          89\n",
      "Mystery          65\n",
      "Documentary      62\n",
      "Sci              37\n",
      "Thriller         34\n",
      "Romance          31\n",
      "Family           23\n",
      "Musical          15\n",
      "Music             3\n",
      "Film              1\n",
      "History           1\n",
      "Name: genre, dtype: int64\n"
     ]
    }
   ],
   "source": [
    "## extract the main genre (assume it is the first listed)\n",
    "movies_clean['genre'] = movies_clean['genres'].apply(lambda x: re.findall('\\w+', x)[0])\n",
    "movies_clean.drop(['genres'], axis = 1, inplace = True)\n",
    "movies_clean.head()\n",
    "\n",
    "print('Number of unique primary genres:', movies_clean['genre'].nunique())\n",
    "print('Number of movies of each genre:')\n",
    "print(movies_clean['genre'].value_counts())"
   ]
  },
  {
   "cell_type": "markdown",
   "metadata": {},
   "source": [
    "I want to consider only a few genre categories. My original approach to this step of cleaning was to create 7 classes: the 6 genres with more than 500 appearances in the data and a 7th \"Other\" category which would be all the remaining genres lumped together. After pursuing this for a little bit I realized that there were too many classes to deal with.\n",
    "\n",
    "Instead, I decided on three main classes that seemed distinct from each other (to avoid blurred lines like those between action and adventure movies). My thought was that selecting genres with natural differences between theme, plot structure, and events would aid in modeling. These three classes are:\n",
    "\n",
    "1. Action\n",
    "2. Comedy\n",
    "3. Horror"
   ]
  },
  {
   "cell_type": "code",
   "execution_count": 8,
   "metadata": {
    "scrolled": false
   },
   "outputs": [
    {
     "data": {
      "image/png": "[encoded data removed]",
      "text/plain": [
       "<Figure size 720x432 with 1 Axes>"
      ]
     },
     "metadata": {
      "needs_background": "light"
     },
     "output_type": "display_data"
    }
   ],
   "source": [
    "## keep only movies of the three genres of interest\n",
    "movies_keep = movies_clean[(movies_clean['genre'] == 'Action') |\n",
    "                           (movies_clean['genre'] == 'Comedy') |\n",
    "                           (movies_clean['genre'] == 'Horror')].reset_index(drop=True)\n",
    "\n",
    "genre_freq = pd.DataFrame(movies_keep['genre'].value_counts())\n",
    "genre_freq\n",
    "\n",
    "f, ax = plt.subplots(figsize=(10, 6))\n",
    "sns.set_color_codes(\"pastel\")\n",
    "sns.barplot(x=['Action', 'Comedy', 'Horror'], y=genre_freq.iloc[:,0],\n",
    "            label='Total', color='k')\n",
    "ax.set(ylabel=\"frequency\",\n",
    "       xlabel=\"genre\",\n",
    "       title=\"Genre Weights\")\n",
    "f.show()"
   ]
  },
  {
   "cell_type": "markdown",
   "metadata": {},
   "source": [
    "The plot above shows the number of Action, Comedy, and Horror movies present in the data. While Action and Comedy appear at somewhat equal amounts, the Horror class is definitely the minority. It might be important to keep class imbalance effects in mind as we continue to modeling. However, I won't address it at this point because hopefully the data overall is not at a scale where imbalance would cause a noticeable problem.\n",
    "\n",
    "At this stage of the cleaning process, I am left with about 6,000 complete observations. This is a decent sample size, so I'm not concerned about having over-filtered my data."
   ]
  },
  {
   "cell_type": "markdown",
   "metadata": {},
   "source": [
    "### Text Cleaning and Feature Engineering"
   ]
  },
  {
   "cell_type": "markdown",
   "metadata": {},
   "source": [
    "Below I have defined a list of stopwords and a basic function called \"clean_text\" to process the `plot_synopsis` text data. All characters are standardized to the lowercase, tokenized by word, removed if non-alphanumeric or a stopword, and rejoined to a readable format."
   ]
  },
  {
   "cell_type": "code",
   "execution_count": 9,
   "metadata": {},
   "outputs": [],
   "source": [
    "## stopwords\n",
    "sw = ['i', 'me', 'my', 'myself', 'we', 'our', 'ours', 'ourselves', 'you', \"you're\", \"you've\", \"you'll\", \"you'd\", \n",
    "      'your', 'yours', 'yourself', 'yourselves', 'he', 'him', 'his', 'himself', 'she', \"she's\", 'her', 'hers', \n",
    "      'herself', 'it', \"it's\", 'its', 'itself', 'they', 'them', 'their', 'theirs', 'themselves', 'what', 'which',\n",
    "      'who', 'whom', 'this', 'that', \"that'll\", 'these', 'those', 'am', 'is', 'are', 'was', 'were', 'be', 'been',\n",
    "      'being', 'have', 'has', 'had', 'having', 'do', 'does', 'did', 'doing', 'a', 'an', 'the', 'and', 'but', 'if',\n",
    "      'or', 'because', 'as', 'until', 'while', 'of', 'at', 'by', 'for', 'with', 'about', 'against', 'between',\n",
    "      'into', 'through', 'during', 'before', 'after', 'above', 'below', 'to', 'from', 'up', 'down', 'in', 'out',\n",
    "      'on', 'off', 'over', 'under', 'again', 'further', 'then', 'once', 'here', 'there', 'when', 'where', 'why',\n",
    "      'how', 'all', 'any', 'both', 'each', 'few', 'more', 'most', 'other', 'some', 'such', 'no', 'nor', 'not',\n",
    "      'only', 'own', 'same', 'so', 'than', 'too', 'very', 's', 't', 'can', 'will', 'just', 'don', \"don't\",\n",
    "      'should', \"should've\", 'now', 'd', 'll', 'm', 'o', 're', 've', 'y', 'ain', 'aren', \"aren't\", 'couldn',\n",
    "      \"couldn't\", 'didn', \"didn't\", 'doesn', \"doesn't\", 'hadn', \"hadn't\", 'hasn', \"hasn't\", 'haven', \"haven't\",'isn', \n",
    "      \"isn't\", 'ma', 'mightn', \"mightn't\", 'mustn', \"mustn't\", 'needn', \"needn't\", 'shan', \"shan't\", 'shouldn', \n",
    "      \"shouldn't\", 'wasn', \"wasn't\", 'weren', \"weren't\", 'won', \"won't\", 'wouldn', \"wouldn't\", \"from\", \"subject\"]\n",
    "\n",
    "## function to clean\n",
    "def clean_text(x):\n",
    "    x = x.lower()\n",
    "    tokens = word_tokenize(x)\n",
    "    tokens = [tok for tok in tokens if tok.isalnum()]\n",
    "    tokens = [tok for tok in tokens if tok not in sw]\n",
    "    return \" \".join(tokens)"
   ]
  },
  {
   "cell_type": "markdown",
   "metadata": {},
   "source": [
    "### Top Words by Genre"
   ]
  },
  {
   "cell_type": "markdown",
   "metadata": {},
   "source": [
    "As part of my EDA, I want to look at the Top 10 Words of each genre's plot."
   ]
  },
  {
   "cell_type": "code",
   "execution_count": 10,
   "metadata": {},
   "outputs": [],
   "source": [
    "## clean synopses for movies in all the individual genres, use this to determine the top words in each genre\n",
    "cleaned_action = movies_keep[movies_keep['genre'] == 'Action']['plot_synopsis'].apply(lambda x: clean_text(x))\n",
    "cleaned_comedy = movies_keep[movies_keep['genre'] == 'Comedy']['plot_synopsis'].apply(lambda x: clean_text(x))\n",
    "cleaned_horror = movies_keep[movies_keep['genre'] == 'Horror']['plot_synopsis'].apply(lambda x: clean_text(x))"
   ]
  },
  {
   "cell_type": "code",
   "execution_count": 11,
   "metadata": {},
   "outputs": [
    {
     "data": {
      "text/plain": [
       "0      one\n",
       "1    tells\n",
       "2     back\n",
       "3      two\n",
       "4      man\n",
       "5      get\n",
       "6      men\n",
       "7      car\n",
       "8     find\n",
       "9     kill\n",
       "Name: index, dtype: object"
      ]
     },
     "execution_count": 11,
     "metadata": {},
     "output_type": "execute_result"
    }
   ],
   "source": [
    "cnt = CountVectorizer(min_df=0.05)\n",
    "wrd_freq = cnt.fit_transform(cleaned_action)\n",
    "freq_df_action = pd.DataFrame(wrd_freq.toarray(), columns=cnt.get_feature_names())\n",
    "top_action = freq_df_action.sum(axis=0).sort_values(ascending=False).reset_index()\n",
    "top_action.iloc[0:10,0]"
   ]
  },
  {
   "cell_type": "code",
   "execution_count": 12,
   "metadata": {},
   "outputs": [
    {
     "data": {
      "text/plain": [
       "0    tells\n",
       "1      one\n",
       "2     back\n",
       "3      get\n",
       "4      two\n",
       "5       go\n",
       "6     home\n",
       "7     says\n",
       "8    house\n",
       "9      new\n",
       "Name: index, dtype: object"
      ]
     },
     "execution_count": 12,
     "metadata": {},
     "output_type": "execute_result"
    }
   ],
   "source": [
    "cnt = CountVectorizer(min_df=0.05)\n",
    "wrd_freq = cnt.fit_transform(cleaned_comedy)\n",
    "freq_df_comedy = pd.DataFrame(wrd_freq.toarray(), columns=cnt.get_feature_names())\n",
    "top_comedy = freq_df_comedy.sum(axis=0).sort_values(ascending=False).reset_index()\n",
    "top_comedy.iloc[0:10,0]"
   ]
  },
  {
   "cell_type": "code",
   "execution_count": 13,
   "metadata": {},
   "outputs": [
    {
     "data": {
      "text/plain": [
       "0    tells\n",
       "1     back\n",
       "2    house\n",
       "3      one\n",
       "4     room\n",
       "5      man\n",
       "6     goes\n",
       "7     find\n",
       "8    finds\n",
       "9     says\n",
       "Name: index, dtype: object"
      ]
     },
     "execution_count": 13,
     "metadata": {},
     "output_type": "execute_result"
    }
   ],
   "source": [
    "cnt = CountVectorizer(min_df=0.05)\n",
    "wrd_freq = cnt.fit_transform(cleaned_horror)\n",
    "freq_df_horror = pd.DataFrame(wrd_freq.toarray(), columns=cnt.get_feature_names())\n",
    "top_horror = freq_df_horror.sum(axis=0).sort_values(ascending=False).reset_index()\n",
    "top_horror.iloc[0:10,0]"
   ]
  },
  {
   "cell_type": "markdown",
   "metadata": {},
   "source": [
    "After cleaning the text by the defined function, I noticed that there are a lot of similarities in the top words for these three genres. Just by looking at the three lists above, it would be extremely difficult to tell which words were important to which genre. And these are supposed to be my key features! So this needs some work."
   ]
  },
  {
   "cell_type": "markdown",
   "metadata": {},
   "source": [
    "### A NEW Cleaning Function"
   ]
  },
  {
   "cell_type": "markdown",
   "metadata": {},
   "source": [
    "My solution is to create another list of \"stopwords\", but for plot. Essentially, these are words that are common to all types of storytelling and provide no real value when it comes to distinguishing between genre. Words like \"tells\" and \"says\", \"man\" and \"woman\", \"went\" and \"goes\" - these are words that every single written story depends on.\n",
    "\n",
    "Below I find the Top 200 Common story words between all three genres. Then I make those into a list and similar to how the list of stopwords are used, I remove those from the plot text in my new cleaning function. I don't believe that this is cheating or coding bias into my data, it's just accentuating the differences that are already there."
   ]
  },
  {
   "cell_type": "code",
   "execution_count": 14,
   "metadata": {},
   "outputs": [],
   "source": [
    "## find common words between all genres\n",
    "common_pw = pd.merge(left=pd.merge(left=top_action, right=top_comedy, how='inner', on='index',\n",
    "                                   suffixes=('_action', '_comedy')),\n",
    "                     right=top_horror, how='inner', on='index')\n",
    "common_pw['total'] = common_pw.iloc[:,1] + common_pw.iloc[:,2] + common_pw.iloc[:,3]\n",
    "\n",
    "## take top 200\n",
    "most_common_pw = common_pw.sort_values(ascending=False, by='total').iloc[0:200,0]"
   ]
  },
  {
   "cell_type": "code",
   "execution_count": 15,
   "metadata": {},
   "outputs": [],
   "source": [
    "## list of 200 plot words that are most common between all three genres\n",
    "hifreq_pw = list(most_common_pw)\n",
    "\n",
    "## function to clean\n",
    "def new_clean_text(x):\n",
    "    x = x.lower()\n",
    "    tokens = word_tokenize(x)\n",
    "    tokens = [tok for tok in tokens if tok.isalnum()]\n",
    "    tokens = [tok for tok in tokens if tok not in sw]\n",
    "    tokens = [tok for tok in tokens if tok not in hifreq_pw]\n",
    "    return \" \".join(tokens)"
   ]
  },
  {
   "cell_type": "markdown",
   "metadata": {},
   "source": [
    "### Top Words by Genre: TAKE TWO"
   ]
  },
  {
   "cell_type": "code",
   "execution_count": 24,
   "metadata": {},
   "outputs": [],
   "source": [
    "new_cleaned_action = movies_keep[movies_keep['genre'] == 'Action']['plot_synopsis'].apply(lambda x: new_clean_text(x))\n",
    "new_cleaned_comedy = movies_keep[movies_keep['genre'] == 'Comedy']['plot_synopsis'].apply(lambda x: new_clean_text(x))\n",
    "new_cleaned_horror = movies_keep[movies_keep['genre'] == 'Horror']['plot_synopsis'].apply(lambda x: new_clean_text(x))"
   ]
  },
  {
   "cell_type": "code",
   "execution_count": 25,
   "metadata": {},
   "outputs": [
    {
     "data": {
      "image/png": "[encoded data removed]",
      "text/plain": [
       "<Figure size 720x432 with 1 Axes>"
      ]
     },
     "metadata": {
      "needs_background": "light"
     },
     "output_type": "display_data"
    }
   ],
   "source": [
    "cnt = CountVectorizer(min_df=0.05)\n",
    "wrd_freq = cnt.fit_transform(new_cleaned_action)\n",
    "freq_df_action = pd.DataFrame(wrd_freq.toarray(), columns=cnt.get_feature_names())\n",
    "top_action = freq_df_action.sum(axis=0).sort_values(ascending=False).reset_index()\n",
    "\n",
    "f, ax = plt.subplots(figsize=(10, 6))\n",
    "sns.set_color_codes(\"pastel\")\n",
    "sns.barplot(x=top_action.iloc[0:9,0], y=top_action.iloc[0:9,1],\n",
    "            label=\"Total\", color=\"g\")\n",
    "ax.set(ylabel=\"frequency\",\n",
    "       xlabel=\"word\",\n",
    "       title=\"Top 10 Most Common Words -- Action\")\n",
    "f.show()"
   ]
  },
  {
   "cell_type": "code",
   "execution_count": 26,
   "metadata": {},
   "outputs": [
    {
     "data": {
      "image/png": "[encoded data removed]",
      "text/plain": [
       "<Figure size 720x432 with 1 Axes>"
      ]
     },
     "metadata": {
      "needs_background": "light"
     },
     "output_type": "display_data"
    }
   ],
   "source": [
    "cnt = CountVectorizer(min_df=0.05)\n",
    "wrd_freq = cnt.fit_transform(new_cleaned_comedy)\n",
    "freq_df_comedy = pd.DataFrame(wrd_freq.toarray(), columns=cnt.get_feature_names())\n",
    "top_comedy = freq_df_comedy.sum(axis=0).sort_values(ascending=False).reset_index()\n",
    "\n",
    "f, ax = plt.subplots(figsize=(10, 6))\n",
    "sns.set_color_codes(\"pastel\")\n",
    "sns.barplot(x=top_comedy.iloc[0:9,0], y=top_comedy.iloc[0:9,1],\n",
    "            label=\"Total\", color=\"b\")\n",
    "ax.set(ylabel=\"frequency\",\n",
    "       xlabel=\"word\",\n",
    "       title=\"Top 10 Most Common Words -- Comedy\")\n",
    "f.show()"
   ]
  },
  {
   "cell_type": "code",
   "execution_count": 27,
   "metadata": {
    "scrolled": false
   },
   "outputs": [
    {
     "data": {
      "image/png": "[encoded data removed]",
      "text/plain": [
       "<Figure size 720x432 with 1 Axes>"
      ]
     },
     "metadata": {
      "needs_background": "light"
     },
     "output_type": "display_data"
    }
   ],
   "source": [
    "cnt = CountVectorizer(min_df=0.05)\n",
    "wrd_freq = cnt.fit_transform(new_cleaned_horror)\n",
    "freq_df_horror = pd.DataFrame(wrd_freq.toarray(), columns=cnt.get_feature_names())\n",
    "top_horror = freq_df_horror.sum(axis=0).sort_values(ascending=False).reset_index()\n",
    "\n",
    "f, ax = plt.subplots(figsize=(10, 6))\n",
    "sns.set_color_codes(\"pastel\")\n",
    "sns.barplot(x=top_horror.iloc[0:9,0], y=top_horror.iloc[0:9,1],\n",
    "            label=\"Total\", color=\"r\")\n",
    "ax.set(ylabel=\"frequency\",\n",
    "       xlabel=\"word\",\n",
    "       title=\"Top 10 Most Common Words -- Horror\")\n",
    "f.show()"
   ]
  },
  {
   "cell_type": "markdown",
   "metadata": {},
   "source": [
    "These Top 10 Words by genre look a lot better now!! I feel comfortable applying the new text cleaning function to the entire ordered dataset."
   ]
  },
  {
   "cell_type": "code",
   "execution_count": 16,
   "metadata": {},
   "outputs": [],
   "source": [
    "## clean all text, write out\n",
    "cleaned_plot = movies_keep['plot_synopsis'].apply(lambda x: new_clean_text(x))\n",
    "##cleaned_plot.to_csv('cleaned_data.csv')"
   ]
  },
  {
   "cell_type": "markdown",
   "metadata": {},
   "source": [
    "#### TF-IDF Scores\n",
    "Finally, I calculate tf-idf scores for the remaining text of the plot. This is a method of turning text into something that a model can actually use by assigning weights to words."
   ]
  },
  {
   "cell_type": "code",
   "execution_count": 29,
   "metadata": {},
   "outputs": [
    {
     "data": {
      "text/html": [
       "<div>\n",
       "<style scoped>\n",
       "    .dataframe tbody tr th:only-of-type {\n",
       "        vertical-align: middle;\n",
       "    }\n",
       "\n",
       "    .dataframe tbody tr th {\n",
       "        vertical-align: top;\n",
       "    }\n",
       "\n",
       "    .dataframe thead th {\n",
       "        text-align: right;\n",
       "    }\n",
       "</style>\n",
       "<table border=\"1\" class=\"dataframe\">\n",
       "  <thead>\n",
       "    <tr style=\"text-align: right;\">\n",
       "      <th></th>\n",
       "      <th>10</th>\n",
       "      <th>100</th>\n",
       "      <th>11</th>\n",
       "      <th>12</th>\n",
       "      <th>15</th>\n",
       "      <th>18</th>\n",
       "      <th>20</th>\n",
       "      <th>200</th>\n",
       "      <th>24</th>\n",
       "      <th>25</th>\n",
       "      <th>...</th>\n",
       "      <th>yells</th>\n",
       "      <th>yes</th>\n",
       "      <th>yet</th>\n",
       "      <th>york</th>\n",
       "      <th>younger</th>\n",
       "      <th>youngest</th>\n",
       "      <th>youth</th>\n",
       "      <th>zombie</th>\n",
       "      <th>zombies</th>\n",
       "      <th>zone</th>\n",
       "    </tr>\n",
       "  </thead>\n",
       "  <tbody>\n",
       "    <tr>\n",
       "      <td>0</td>\n",
       "      <td>0.0</td>\n",
       "      <td>0.0</td>\n",
       "      <td>0.0</td>\n",
       "      <td>0.0</td>\n",
       "      <td>0.0</td>\n",
       "      <td>0.0</td>\n",
       "      <td>0.0</td>\n",
       "      <td>0.0</td>\n",
       "      <td>0.0</td>\n",
       "      <td>0.0</td>\n",
       "      <td>...</td>\n",
       "      <td>0.0</td>\n",
       "      <td>0.0</td>\n",
       "      <td>0.0</td>\n",
       "      <td>0.071144</td>\n",
       "      <td>0.0</td>\n",
       "      <td>0.0</td>\n",
       "      <td>0.0</td>\n",
       "      <td>0.0</td>\n",
       "      <td>0.0</td>\n",
       "      <td>0.0</td>\n",
       "    </tr>\n",
       "    <tr>\n",
       "      <td>1</td>\n",
       "      <td>0.0</td>\n",
       "      <td>0.0</td>\n",
       "      <td>0.0</td>\n",
       "      <td>0.0</td>\n",
       "      <td>0.0</td>\n",
       "      <td>0.0</td>\n",
       "      <td>0.0</td>\n",
       "      <td>0.0</td>\n",
       "      <td>0.0</td>\n",
       "      <td>0.0</td>\n",
       "      <td>...</td>\n",
       "      <td>0.0</td>\n",
       "      <td>0.0</td>\n",
       "      <td>0.0</td>\n",
       "      <td>0.000000</td>\n",
       "      <td>0.0</td>\n",
       "      <td>0.0</td>\n",
       "      <td>0.0</td>\n",
       "      <td>0.0</td>\n",
       "      <td>0.0</td>\n",
       "      <td>0.0</td>\n",
       "    </tr>\n",
       "    <tr>\n",
       "      <td>2</td>\n",
       "      <td>0.0</td>\n",
       "      <td>0.0</td>\n",
       "      <td>0.0</td>\n",
       "      <td>0.0</td>\n",
       "      <td>0.0</td>\n",
       "      <td>0.0</td>\n",
       "      <td>0.0</td>\n",
       "      <td>0.0</td>\n",
       "      <td>0.0</td>\n",
       "      <td>0.0</td>\n",
       "      <td>...</td>\n",
       "      <td>0.0</td>\n",
       "      <td>0.0</td>\n",
       "      <td>0.0</td>\n",
       "      <td>0.000000</td>\n",
       "      <td>0.0</td>\n",
       "      <td>0.0</td>\n",
       "      <td>0.0</td>\n",
       "      <td>0.0</td>\n",
       "      <td>0.0</td>\n",
       "      <td>0.0</td>\n",
       "    </tr>\n",
       "    <tr>\n",
       "      <td>3</td>\n",
       "      <td>0.0</td>\n",
       "      <td>0.0</td>\n",
       "      <td>0.0</td>\n",
       "      <td>0.0</td>\n",
       "      <td>0.0</td>\n",
       "      <td>0.0</td>\n",
       "      <td>0.0</td>\n",
       "      <td>0.0</td>\n",
       "      <td>0.0</td>\n",
       "      <td>0.0</td>\n",
       "      <td>...</td>\n",
       "      <td>0.0</td>\n",
       "      <td>0.0</td>\n",
       "      <td>0.0</td>\n",
       "      <td>0.000000</td>\n",
       "      <td>0.0</td>\n",
       "      <td>0.0</td>\n",
       "      <td>0.0</td>\n",
       "      <td>0.0</td>\n",
       "      <td>0.0</td>\n",
       "      <td>0.0</td>\n",
       "    </tr>\n",
       "    <tr>\n",
       "      <td>4</td>\n",
       "      <td>0.0</td>\n",
       "      <td>0.0</td>\n",
       "      <td>0.0</td>\n",
       "      <td>0.0</td>\n",
       "      <td>0.0</td>\n",
       "      <td>0.0</td>\n",
       "      <td>0.0</td>\n",
       "      <td>0.0</td>\n",
       "      <td>0.0</td>\n",
       "      <td>0.0</td>\n",
       "      <td>...</td>\n",
       "      <td>0.0</td>\n",
       "      <td>0.0</td>\n",
       "      <td>0.0</td>\n",
       "      <td>0.000000</td>\n",
       "      <td>0.0</td>\n",
       "      <td>0.0</td>\n",
       "      <td>0.0</td>\n",
       "      <td>0.0</td>\n",
       "      <td>0.0</td>\n",
       "      <td>0.0</td>\n",
       "    </tr>\n",
       "  </tbody>\n",
       "</table>\n",
       "<p>5 rows × 5014 columns</p>\n",
       "</div>"
      ],
      "text/plain": [
       "    10  100   11   12   15   18   20  200   24   25  ...  yells  yes  yet  \\\n",
       "0  0.0  0.0  0.0  0.0  0.0  0.0  0.0  0.0  0.0  0.0  ...    0.0  0.0  0.0   \n",
       "1  0.0  0.0  0.0  0.0  0.0  0.0  0.0  0.0  0.0  0.0  ...    0.0  0.0  0.0   \n",
       "2  0.0  0.0  0.0  0.0  0.0  0.0  0.0  0.0  0.0  0.0  ...    0.0  0.0  0.0   \n",
       "3  0.0  0.0  0.0  0.0  0.0  0.0  0.0  0.0  0.0  0.0  ...    0.0  0.0  0.0   \n",
       "4  0.0  0.0  0.0  0.0  0.0  0.0  0.0  0.0  0.0  0.0  ...    0.0  0.0  0.0   \n",
       "\n",
       "       york  younger  youngest  youth  zombie  zombies  zone  \n",
       "0  0.071144      0.0       0.0    0.0     0.0      0.0   0.0  \n",
       "1  0.000000      0.0       0.0    0.0     0.0      0.0   0.0  \n",
       "2  0.000000      0.0       0.0    0.0     0.0      0.0   0.0  \n",
       "3  0.000000      0.0       0.0    0.0     0.0      0.0   0.0  \n",
       "4  0.000000      0.0       0.0    0.0     0.0      0.0   0.0  \n",
       "\n",
       "[5 rows x 5014 columns]"
      ]
     },
     "execution_count": 29,
     "metadata": {},
     "output_type": "execute_result"
    }
   ],
   "source": [
    "## calculate tf-idf scores\n",
    "tf = TfidfVectorizer(max_df=.99, min_df=.01)\n",
    "X_plot = tf.fit_transform(cleaned_plot)\n",
    "plot_tfidf = pd.DataFrame(X_plot.toarray(), columns=tf.get_feature_names())\n",
    "plot_tfidf.head()"
   ]
  },
  {
   "cell_type": "markdown",
   "metadata": {},
   "source": [
    "### Additional EDA"
   ]
  },
  {
   "cell_type": "markdown",
   "metadata": {},
   "source": [
    "I also would like to get an idea of what my three additional variables look like. Violin plots are made to view the distribution of `runtimeMinutes`, `averageRating`, and `numVotes` for each genre. The idea in including these variables is that different types of movies might require a different amount of time to tell the story and that users consistently rate or vote for certain kinds of movies differently than others. \n",
    "\n",
    "However, after reviewing the plots below, it looks like there isn't that much of a difference in these features between genres. They could just be adding noise, but I'll keep them regardless."
   ]
  },
  {
   "cell_type": "markdown",
   "metadata": {},
   "source": [
    "#### runtimeMinutes"
   ]
  },
  {
   "cell_type": "code",
   "execution_count": 30,
   "metadata": {
    "scrolled": false
   },
   "outputs": [
    {
     "data": {
      "text/plain": [
       "<matplotlib.axes._subplots.AxesSubplot at 0x1a34e81550>"
      ]
     },
     "execution_count": 30,
     "metadata": {},
     "output_type": "execute_result"
    },
    {
     "data": {
      "image/png": "[encoded data removed]",
      "text/plain": [
       "<Figure size 432x288 with 1 Axes>"
      ]
     },
     "metadata": {
      "needs_background": "light"
     },
     "output_type": "display_data"
    }
   ],
   "source": [
    "## violin plots for runtime by genre\n",
    "sns.violinplot(x=\"genre\", y=\"runtimeMinutes\", palette='hls', data=movies_keep)"
   ]
  },
  {
   "cell_type": "markdown",
   "metadata": {},
   "source": [
    "#### averageRating"
   ]
  },
  {
   "cell_type": "code",
   "execution_count": 31,
   "metadata": {},
   "outputs": [
    {
     "data": {
      "text/plain": [
       "<matplotlib.axes._subplots.AxesSubplot at 0x1a280adb10>"
      ]
     },
     "execution_count": 31,
     "metadata": {},
     "output_type": "execute_result"
    },
    {
     "data": {
      "image/png": "[encoded data removed]",
      "text/plain": [
       "<Figure size 432x288 with 1 Axes>"
      ]
     },
     "metadata": {
      "needs_background": "light"
     },
     "output_type": "display_data"
    }
   ],
   "source": [
    "sns.violinplot(x=\"genre\", y=\"averageRating\", palette='hls', data=movies_keep)"
   ]
  },
  {
   "cell_type": "markdown",
   "metadata": {},
   "source": [
    "#### numVotes"
   ]
  },
  {
   "cell_type": "code",
   "execution_count": 32,
   "metadata": {
    "scrolled": true
   },
   "outputs": [
    {
     "data": {
      "text/plain": [
       "<matplotlib.axes._subplots.AxesSubplot at 0x1a282bb110>"
      ]
     },
     "execution_count": 32,
     "metadata": {},
     "output_type": "execute_result"
    },
    {
     "data": {
      "image/png": "[encoded data removed]",
      "text/plain": [
       "<Figure size 432x288 with 1 Axes>"
      ]
     },
     "metadata": {
      "needs_background": "light"
     },
     "output_type": "display_data"
    }
   ],
   "source": [
    "sns.violinplot(x=\"genre\", y=\"numVotes\", palette='hls', data=movies_keep)"
   ]
  },
  {
   "cell_type": "markdown",
   "metadata": {},
   "source": [
    "### K-Means Clustering and PCA"
   ]
  },
  {
   "cell_type": "markdown",
   "metadata": {},
   "source": [
    "In addition to some basic EDA, I include here a short cluster analysis on the data before moving into the modeling stage of the project.\n",
    "\n",
    "Below, I scale the three numeric features using the MinMaxScaler (leaving tf-idf scores alone). Then I combine the scaled data and tf-idf scores, maintaining their proper ordering, and perform K-Means cluster analysis."
   ]
  },
  {
   "cell_type": "code",
   "execution_count": 30,
   "metadata": {},
   "outputs": [],
   "source": [
    "## instantiate, fit, and transform the minmaxscaler on runtime, rating, and votes features\n",
    "scaler = MinMaxScaler()\n",
    "scaled = scaler.fit_transform(movies_keep[['runtimeMinutes', 'averageRating', 'numVotes']])\n",
    "scaled_X = pd.DataFrame(data=scaled, columns = ['runtimeMinutes', 'averageRating', 'numVotes'])"
   ]
  },
  {
   "cell_type": "code",
   "execution_count": 31,
   "metadata": {
    "scrolled": true
   },
   "outputs": [
    {
     "data": {
      "text/html": [
       "<div>\n",
       "<style scoped>\n",
       "    .dataframe tbody tr th:only-of-type {\n",
       "        vertical-align: middle;\n",
       "    }\n",
       "\n",
       "    .dataframe tbody tr th {\n",
       "        vertical-align: top;\n",
       "    }\n",
       "\n",
       "    .dataframe thead th {\n",
       "        text-align: right;\n",
       "    }\n",
       "</style>\n",
       "<table border=\"1\" class=\"dataframe\">\n",
       "  <thead>\n",
       "    <tr style=\"text-align: right;\">\n",
       "      <th></th>\n",
       "      <th>runtimeMinutes</th>\n",
       "      <th>averageRating</th>\n",
       "      <th>numVotes</th>\n",
       "      <th>10</th>\n",
       "      <th>100</th>\n",
       "      <th>11</th>\n",
       "      <th>12</th>\n",
       "      <th>15</th>\n",
       "      <th>18</th>\n",
       "      <th>20</th>\n",
       "      <th>...</th>\n",
       "      <th>yells</th>\n",
       "      <th>yes</th>\n",
       "      <th>yet</th>\n",
       "      <th>york</th>\n",
       "      <th>younger</th>\n",
       "      <th>youngest</th>\n",
       "      <th>youth</th>\n",
       "      <th>zombie</th>\n",
       "      <th>zombies</th>\n",
       "      <th>zone</th>\n",
       "    </tr>\n",
       "  </thead>\n",
       "  <tbody>\n",
       "    <tr>\n",
       "      <td>0</td>\n",
       "      <td>0.264493</td>\n",
       "      <td>0.657895</td>\n",
       "      <td>0.034509</td>\n",
       "      <td>0.0</td>\n",
       "      <td>0.0</td>\n",
       "      <td>0.0</td>\n",
       "      <td>0.0</td>\n",
       "      <td>0.0</td>\n",
       "      <td>0.0</td>\n",
       "      <td>0.0</td>\n",
       "      <td>...</td>\n",
       "      <td>0.0</td>\n",
       "      <td>0.0</td>\n",
       "      <td>0.0</td>\n",
       "      <td>0.071144</td>\n",
       "      <td>0.0</td>\n",
       "      <td>0.0</td>\n",
       "      <td>0.0</td>\n",
       "      <td>0.0</td>\n",
       "      <td>0.0</td>\n",
       "      <td>0.0</td>\n",
       "    </tr>\n",
       "    <tr>\n",
       "      <td>1</td>\n",
       "      <td>0.246377</td>\n",
       "      <td>0.684211</td>\n",
       "      <td>0.001078</td>\n",
       "      <td>0.0</td>\n",
       "      <td>0.0</td>\n",
       "      <td>0.0</td>\n",
       "      <td>0.0</td>\n",
       "      <td>0.0</td>\n",
       "      <td>0.0</td>\n",
       "      <td>0.0</td>\n",
       "      <td>...</td>\n",
       "      <td>0.0</td>\n",
       "      <td>0.0</td>\n",
       "      <td>0.0</td>\n",
       "      <td>0.000000</td>\n",
       "      <td>0.0</td>\n",
       "      <td>0.0</td>\n",
       "      <td>0.0</td>\n",
       "      <td>0.0</td>\n",
       "      <td>0.0</td>\n",
       "      <td>0.0</td>\n",
       "    </tr>\n",
       "    <tr>\n",
       "      <td>2</td>\n",
       "      <td>0.130435</td>\n",
       "      <td>0.697368</td>\n",
       "      <td>0.000512</td>\n",
       "      <td>0.0</td>\n",
       "      <td>0.0</td>\n",
       "      <td>0.0</td>\n",
       "      <td>0.0</td>\n",
       "      <td>0.0</td>\n",
       "      <td>0.0</td>\n",
       "      <td>0.0</td>\n",
       "      <td>...</td>\n",
       "      <td>0.0</td>\n",
       "      <td>0.0</td>\n",
       "      <td>0.0</td>\n",
       "      <td>0.000000</td>\n",
       "      <td>0.0</td>\n",
       "      <td>0.0</td>\n",
       "      <td>0.0</td>\n",
       "      <td>0.0</td>\n",
       "      <td>0.0</td>\n",
       "      <td>0.0</td>\n",
       "    </tr>\n",
       "    <tr>\n",
       "      <td>3</td>\n",
       "      <td>0.130435</td>\n",
       "      <td>0.671053</td>\n",
       "      <td>0.000256</td>\n",
       "      <td>0.0</td>\n",
       "      <td>0.0</td>\n",
       "      <td>0.0</td>\n",
       "      <td>0.0</td>\n",
       "      <td>0.0</td>\n",
       "      <td>0.0</td>\n",
       "      <td>0.0</td>\n",
       "      <td>...</td>\n",
       "      <td>0.0</td>\n",
       "      <td>0.0</td>\n",
       "      <td>0.0</td>\n",
       "      <td>0.000000</td>\n",
       "      <td>0.0</td>\n",
       "      <td>0.0</td>\n",
       "      <td>0.0</td>\n",
       "      <td>0.0</td>\n",
       "      <td>0.0</td>\n",
       "      <td>0.0</td>\n",
       "    </tr>\n",
       "    <tr>\n",
       "      <td>4</td>\n",
       "      <td>0.260870</td>\n",
       "      <td>0.776316</td>\n",
       "      <td>0.002661</td>\n",
       "      <td>0.0</td>\n",
       "      <td>0.0</td>\n",
       "      <td>0.0</td>\n",
       "      <td>0.0</td>\n",
       "      <td>0.0</td>\n",
       "      <td>0.0</td>\n",
       "      <td>0.0</td>\n",
       "      <td>...</td>\n",
       "      <td>0.0</td>\n",
       "      <td>0.0</td>\n",
       "      <td>0.0</td>\n",
       "      <td>0.000000</td>\n",
       "      <td>0.0</td>\n",
       "      <td>0.0</td>\n",
       "      <td>0.0</td>\n",
       "      <td>0.0</td>\n",
       "      <td>0.0</td>\n",
       "      <td>0.0</td>\n",
       "    </tr>\n",
       "  </tbody>\n",
       "</table>\n",
       "<p>5 rows × 5017 columns</p>\n",
       "</div>"
      ],
      "text/plain": [
       "   runtimeMinutes  averageRating  numVotes   10  100   11   12   15   18   20  \\\n",
       "0        0.264493       0.657895  0.034509  0.0  0.0  0.0  0.0  0.0  0.0  0.0   \n",
       "1        0.246377       0.684211  0.001078  0.0  0.0  0.0  0.0  0.0  0.0  0.0   \n",
       "2        0.130435       0.697368  0.000512  0.0  0.0  0.0  0.0  0.0  0.0  0.0   \n",
       "3        0.130435       0.671053  0.000256  0.0  0.0  0.0  0.0  0.0  0.0  0.0   \n",
       "4        0.260870       0.776316  0.002661  0.0  0.0  0.0  0.0  0.0  0.0  0.0   \n",
       "\n",
       "   ...  yells  yes  yet      york  younger  youngest  youth  zombie  zombies  \\\n",
       "0  ...    0.0  0.0  0.0  0.071144      0.0       0.0    0.0     0.0      0.0   \n",
       "1  ...    0.0  0.0  0.0  0.000000      0.0       0.0    0.0     0.0      0.0   \n",
       "2  ...    0.0  0.0  0.0  0.000000      0.0       0.0    0.0     0.0      0.0   \n",
       "3  ...    0.0  0.0  0.0  0.000000      0.0       0.0    0.0     0.0      0.0   \n",
       "4  ...    0.0  0.0  0.0  0.000000      0.0       0.0    0.0     0.0      0.0   \n",
       "\n",
       "   zone  \n",
       "0   0.0  \n",
       "1   0.0  \n",
       "2   0.0  \n",
       "3   0.0  \n",
       "4   0.0  \n",
       "\n",
       "[5 rows x 5017 columns]"
      ]
     },
     "execution_count": 31,
     "metadata": {},
     "output_type": "execute_result"
    }
   ],
   "source": [
    "## combine scaled features with tf-idf scores from the synopsis text\n",
    "X_df = pd.concat([scaled_X, plot_tfidf], axis=1, join_axes=[scaled_X.index])\n",
    "X_df.head()"
   ]
  },
  {
   "cell_type": "code",
   "execution_count": 36,
   "metadata": {},
   "outputs": [],
   "source": [
    "## k-means cluster analysis for multiple values of k\n",
    "wcss = []\n",
    "for k in range(1,10):\n",
    "    kmeans = KMeans(n_clusters=k)\n",
    "    kmeans.fit(X_df)\n",
    "    wcss.append(kmeans.inertia_)"
   ]
  },
  {
   "cell_type": "code",
   "execution_count": 37,
   "metadata": {
    "scrolled": true
   },
   "outputs": [
    {
     "data": {
      "text/plain": [
       "Text(0, 0.5, 'WCSS')"
      ]
     },
     "execution_count": 37,
     "metadata": {},
     "output_type": "execute_result"
    },
    {
     "data": {
      "image/png": "[encoded data removed]",
      "text/plain": [
       "<Figure size 432x288 with 1 Axes>"
      ]
     },
     "metadata": {
      "needs_background": "light"
     },
     "output_type": "display_data"
    }
   ],
   "source": [
    "## make elbow plot (theoretically, the optimal value of k should be at 3)\n",
    "plt.plot(np.arange(1,10), wcss, 'ok-')\n",
    "plt.xlabel('Number of Clusters, K')\n",
    "plt.ylabel('WCSS')"
   ]
  },
  {
   "cell_type": "markdown",
   "metadata": {},
   "source": [
    "After evaluating the within-cluster sum of squares for various levels of k, I determined that there is a local elbow at `k=2`. However, knowing that there are 3 true clusters (for the 3 genre classes) present in the data, I will move ahead with the nearby `k=3` and look at those cluster centers."
   ]
  },
  {
   "cell_type": "code",
   "execution_count": 38,
   "metadata": {
    "scrolled": false
   },
   "outputs": [
    {
     "name": "stdout",
     "output_type": "stream",
     "text": [
      "Cluster 0:\n",
      " averageRating: 0.763\n",
      " runtimeMinutes: 0.262\n",
      " numVotes: 0.053\n",
      " bond: 0.013\n",
      " gang: 0.012\n",
      " frank: 0.012\n",
      " train: 0.012\n",
      " harry: 0.011\n",
      " ship: 0.011\n",
      " sam: 0.011\n",
      "\n",
      "Cluster 1:\n",
      " averageRating: 0.383\n",
      " runtimeMinutes: 0.177\n",
      " girls: 0.011\n",
      " johnny: 0.01\n",
      " attacked: 0.01\n",
      " creature: 0.009\n",
      " zombies: 0.009\n",
      " sister: 0.009\n",
      " vampire: 0.009\n",
      " blood: 0.009\n",
      "\n",
      "Cluster 2:\n",
      " averageRating: 0.608\n",
      " runtimeMinutes: 0.194\n",
      " numVotes: 0.015\n",
      " joe: 0.011\n",
      " paul: 0.011\n",
      " sam: 0.01\n",
      " nick: 0.01\n",
      " gang: 0.01\n",
      " mike: 0.01\n",
      " ben: 0.009\n",
      "\n"
     ]
    }
   ],
   "source": [
    "## fit k-means and determine the cluster centers\n",
    "km = KMeans(n_clusters=3, random_state=80109)\n",
    "km.fit(X_df)\n",
    "centers = pd.DataFrame(km.cluster_centers_, columns=X_df.columns)\n",
    "\n",
    "## determine top features from each cluster\n",
    "order_centroids = km.cluster_centers_.argsort()[:,::-1]\n",
    "\n",
    "for i in range(3):\n",
    "    print(\"Cluster %d:\" % i, end='\\n')\n",
    "    for ind in order_centroids[i, :10]:\n",
    "        print(' %s' % X_df.columns[ind] + ': ' + \n",
    "              str(round(centers.loc[i, X_df.columns[ind]], 3)), end='\\n')\n",
    "    print()"
   ]
  },
  {
   "cell_type": "markdown",
   "metadata": {},
   "source": [
    "By looking at the centroids for each cluster, it is possible to see themes within them. \n",
    "- **Cluster 0** has higher average ratings, runtimes, and number of votes and key plot words are similar to the Top 10 Action Words. It is likely that this cluster is capturing action movies.\n",
    "- **Cluster 1** has the lowest average ratings and key plot words that are similar to the Top 10 Horror Words. It is likely that this cluster is capturing horror movies.\n",
    "- **Cluster 2** has the second highest average ratings, runtimes, and number of votes. The key plot keywords are just names, which is kind of funny. If this cluster represents Comedy movies, we can see why that might be the case. Many comedy movies have a lot of characters because they're based on families or groups of friends and the reality and events of their lives. Names, groups, places of gathering, etc. might be more important than descriptions of explosions or paranormal events."
   ]
  },
  {
   "cell_type": "markdown",
   "metadata": {},
   "source": [
    "As a final step in exploring the data, I also want to look at the first two principal components to make sure that there is good separation between the genres."
   ]
  },
  {
   "cell_type": "code",
   "execution_count": 39,
   "metadata": {
    "scrolled": true
   },
   "outputs": [
    {
     "data": {
      "text/plain": [
       "<matplotlib.collections.PathCollection at 0x1a2827a110>"
      ]
     },
     "execution_count": 39,
     "metadata": {},
     "output_type": "execute_result"
    },
    {
     "data": {
      "image/png": "[encoded data removed]",
      "text/plain": [
       "<Figure size 432x288 with 1 Axes>"
      ]
     },
     "metadata": {
      "needs_background": "light"
     },
     "output_type": "display_data"
    }
   ],
   "source": [
    "## look at first 2 principle components colored by cluster label\n",
    "pca = PCA(n_components=2, random_state=80109)\n",
    "pca.fit(X_df)\n",
    "prnc_comp = pca.transform(X_df)\n",
    "plt.scatter(prnc_comp[:,0], prnc_comp[:,1], c=km.labels_)"
   ]
  },
  {
   "cell_type": "markdown",
   "metadata": {},
   "source": [
    "A quick look at the first two principal components of the fully processed data indicates that there is clear separation between clusters (the three genres that make up the target variable). That being said, there aren't clear clusters. The plot above just looks like one big blob. But the sharp definition between predicted clusters is encouraging.\n",
    "\n",
    "Throughout the data cleaning process, I made an effort to select genres that would seem to be naturally distinct from each other. This could be argued and I of course acknowledge the overlap of themes or events in these types of movies; but Action, Comedy, and Horror films are different enough from each other in nature to perhaps lend themselves to analysis (instead of something like Action, Adventure, and Drama). Additionally, creating an expansive list of plot \"stop words,\" which are words that are common in storywriting, reinforced the already present differences between these genres.\n",
    "\n",
    "I feel comfortable proceeding to the modeling section of this project, knowing that effort was made to make the target categories as distinct as possible."
   ]
  },
  {
   "cell_type": "markdown",
   "metadata": {},
   "source": [
    "## Methods and Results"
   ]
  },
  {
   "cell_type": "markdown",
   "metadata": {},
   "source": [
    "Many machine learning models are unable to handle categorical target variables in their raw character form. Some can, but they are the exception rather than the rule. Encoding the class levels of the target as integers is the safest route. Below, I encode **Action as 1**, **Comedy as 2**, and **Horror as 3**. The scaled data and tf-idf scores (`X_df`) and the numeric genre field (`y_int`) are then split into train and test sets."
   ]
  },
  {
   "cell_type": "code",
   "execution_count": 32,
   "metadata": {},
   "outputs": [
    {
     "name": "stdout",
     "output_type": "stream",
     "text": [
      "Train Set dimensions (X/y): (4186, 5017) / (4186, 1)\n",
      "Test Set dimensions (X/y): (1794, 5017) / (1794, 1)\n"
     ]
    }
   ],
   "source": [
    "## encode genre categories as integers\n",
    "y = movies_keep['genre']\n",
    "y_int = pd.DataFrame(pd.factorize(y, sort=True)[0] + 1)\n",
    "\n",
    "## split into 70/30 train/test\n",
    "X_train, X_test = train_test_split(X_df, test_size = 0.3, random_state = 80109)\n",
    "y_train, y_test = train_test_split(y_int, test_size = 0.3, random_state = 80109)\n",
    "\n",
    "print('Train Set dimensions (X/y):', X_train.shape, '/', y_train.shape)\n",
    "print('Test Set dimensions (X/y):', X_test.shape, '/', y_test.shape)"
   ]
  },
  {
   "cell_type": "markdown",
   "metadata": {},
   "source": [
    "### Model Discussion"
   ]
  },
  {
   "cell_type": "markdown",
   "metadata": {},
   "source": [
    "The four classification models that I will experiment with are:\n",
    "\n",
    "1. **Logistic Regression** with a one vs rest (also known as one vs all) approach for the multi-class problem. This is the most basic approach to classification problems, but it's still powerful. I first learned about it in STAT 330, so I wanted to see how well it holds up for a much more complex problem than simple binary classification.\n",
    "    - **Strengths**: easy implementation, fast, probabilistic approach to class assignments (interpretable), overfitting is only possible if there are more classes than observations\n",
    "    - **Weaknesses**: dependent on linearity assumptions (on the log odds scale), not robust enough to detect complex patterns in data\n",
    "\n",
    "\n",
    "2. **Multinomial Naive Bayes**. This is always a good choice when you're in the stage of playing around with various machine learning models. It is also one of the go-to algorithms for text classification.\n",
    "    - **Strengths**: easy implementation, fast, can handle large amounts of training data, reliable Bayesian process of using data to calculate posterior class probabilities and making predictions based on that (interpretable), direct handling of multiple classes, hard to overfit\n",
    "    - **Weaknesses**: assumes total independence between features, assumes that the features follow a common distribution, not good for ill-defined boundaries between classes, direct handling of multiple classes\n",
    "    \n",
    "\n",
    "3. **Random Forest**. This was a model that I chose to play around with just kind of out of obligation. I haven't see instances where a random forest outperforms an algorithm that is based on it (like a gradient boosted classifier), but I wanted to see how well it could do on this text data compared to other models that might be more suited for this kind of problem. But I will always think that the idea of random forests is very cool.\n",
    "    - **Strengths**: as an ensemble model predictions are made by committee so class assignments will never be at the mercy of a few biased trees, preserves a level of interpretability and feature importance by keeping track of the features that made the best splits, allows for relationships between features, it's a Classic :)\n",
    "    - **Weaknesses**: frequent overfitting, longer training period\n",
    "    \n",
    "    \n",
    "4. **Extreme Gradient Boosting (XGBoost)**, which is built upon the Random Forest algorithm. I chose this as the last model to experiment with because it is one of my personal go-to's for any data science problem. These models are extremely popular and are the winners of most Kaggle competitions. Also, the general idea of iteratively training trees that can make up for the weaknesses of the ones before them is super smart. As an ensemble model, all of these learners that essentially \"specialize\" in some part of the classification problem can work together to make really good predictions.\n",
    "    - **Strengths**: stable, self-improving algorithm, good for well-defined data and complex data, very robust\n",
    "    - **Weaknesses**: big black box, very long training period, tendency to overfit, lots of hyperparameters to try and understand and tune (however the ability to tune could also be seen as an advantage)"
   ]
  },
  {
   "cell_type": "markdown",
   "metadata": {},
   "source": [
    "### Performance Benchmarks"
   ]
  },
  {
   "cell_type": "markdown",
   "metadata": {},
   "source": [
    "Below, I have made a list of instantiated models with some basic parameter settings (some required to handle a multi-class problem, others to shorten the training period). All four of these models will be trained and validated using a 10-fold cross-validation approach. CV accuracy scores will be a good initial benchmark of out-of-sample model performance."
   ]
  },
  {
   "cell_type": "code",
   "execution_count": 98,
   "metadata": {
    "scrolled": false
   },
   "outputs": [
    {
     "name": "stdout",
     "output_type": "stream",
     "text": [
      "Average Accuracy Scores \n",
      "\n",
      "10-fold CV - LogisticRegression :  0.7856873095122239\n",
      "10-fold CV - MultinomialNB :  0.7579840634692118\n",
      "10-fold CV - RandomForestClassifier :  0.7649264548804482\n",
      "10-fold CV - XGBClassifier :  0.7890520516863506\n"
     ]
    }
   ],
   "source": [
    "## instantiate a list of models\n",
    "models = [LogisticRegression(random_state=80109, multi_class='ovr'),\n",
    "          MultinomialNB(),\n",
    "          RandomForestClassifier(n_estimators=100, min_samples_split=3, random_state=80109),\n",
    "          XGBClassifier(objective='multi:softmax', eval_metric='merror', max_depth=5, random_state=80109)]\n",
    "\n",
    "## train using cross validation\n",
    "print('Average Accuracy Scores \\n')\n",
    "for model in models:\n",
    "    accuracies = cross_val_score(model, X_train, y_train, cv=10, scoring='accuracy')\n",
    "    print('10-fold CV -', model.__class__.__name__, ': ', accuracies.mean())"
   ]
  },
  {
   "cell_type": "markdown",
   "metadata": {},
   "source": [
    "Based on these cross-validated accuracy scores, the **XGBClassifier** performs better than all others, followed closely by the Logistic Regression model (within a couple thousandths)."
   ]
  },
  {
   "cell_type": "markdown",
   "metadata": {},
   "source": [
    "### Improving Model Performance"
   ]
  },
  {
   "cell_type": "markdown",
   "metadata": {},
   "source": [
    "#### Tuning Parameters"
   ]
  },
  {
   "cell_type": "markdown",
   "metadata": {},
   "source": [
    "We will continue with the best model, the **XGBClassifier**. Here I will use a grid search with cross-validation training to assess the model's performance for different levels of its unique hyperparameters. I start with a tuning grid encompassing a reasonably wide range of the following parameters.\n",
    "\n",
    "* `eta - [0.2]`: This is the learning rate, or the weights assigned to incorrectly classifications from the previous iteration. I have chosen 0.2 because it is a slower learning rate than the default, but not too slow as to signifcantly extend the training period.\n",
    "\n",
    "* `max_depth - [3, 5, 7, 9]`: This is the maximum depth of each tree. To control overfitting these should be kept to small values. Additionally, purposefully \"stunting\" the tree could allow for following models to improve upon it to a greater degree, so I have selected a wide range of max_depths to test.\n",
    "\n",
    "* `subsample - [0.9]`: This controls the fraction of the data that will be sampled to train each tree. Lower values can prevent overfitting and reduce training time, but too low and the model will be underfit.\n",
    "\n",
    "* `colsample_bytree - [0.6, 0.8, 1]`: This parameter determines the number of columns/features to be randomly selected for training trees."
   ]
  },
  {
   "cell_type": "markdown",
   "metadata": {},
   "source": [
    "#### Evaluation Criteria"
   ]
  },
  {
   "cell_type": "markdown",
   "metadata": {},
   "source": [
    "For evaluating each iteration of the model, I use the **F1 Micro Score**. For multinomial, or multi-class, problems this metric is determined by calculating the recall and precision scores for all the samples together, and then combining them as a harmonic mean to get the F1 Micro score. Because of the way the math works out, the following is always true for the micro-F1 metric: `micro-F1 = micro-precision = micro-recall = accuracy`. So this one evaluation can be used to assess multiple metrics at once. I learned about this from [this](https://towardsdatascience.com/multi-class-metrics-made-simple-part-ii-the-f1-score-ebe8b2c2ca1) blog post.\n",
    "\n",
    "Also, there aren't very strong consequences for different kinds of classification errors when it comes to predicting genre. So focusing on maximizing one of precision or recall didn't seem to have any particular advantage over defining \"better\" models as the ones that have similar precision and recall capabilities, which the F1 Score captures well."
   ]
  },
  {
   "cell_type": "code",
   "execution_count": 34,
   "metadata": {},
   "outputs": [
    {
     "data": {
      "text/plain": [
       "GridSearchCV(cv=5, error_score='raise-deprecating',\n",
       "             estimator=XGBClassifier(base_score=None, booster=None,\n",
       "                                     colsample_bylevel=None,\n",
       "                                     colsample_bynode=None,\n",
       "                                     colsample_bytree=None,\n",
       "                                     eval_metric='merror', gamma=None,\n",
       "                                     gpu_id=None, importance_type='gain',\n",
       "                                     interaction_constraints=None,\n",
       "                                     learning_rate=None, max_delta_step=None,\n",
       "                                     max_depth=None, min_child_weight=None,\n",
       "                                     missing=...\n",
       "                                     random_state=80109, reg_alpha=None,\n",
       "                                     reg_lambda=None, scale_pos_weight=None,\n",
       "                                     subsample=None, tree_method=None,\n",
       "                                     use_label_encoder=True,\n",
       "                                     validate_parameters=None, verbosity=None),\n",
       "             iid='warn', n_jobs=None,\n",
       "             param_grid={'colsample_bytree': [0.6, 0.8, 1], 'eta': [0.2],\n",
       "                         'max_depth': [3, 5, 7, 9], 'subsample': [0.9]},\n",
       "             pre_dispatch='2*n_jobs', refit=True, return_train_score=False,\n",
       "             scoring='f1_micro', verbose=0)"
      ]
     },
     "execution_count": 34,
     "metadata": {},
     "output_type": "execute_result"
    }
   ],
   "source": [
    "## define tuning grid\n",
    "tune_grid = {'eta': [0.2],\n",
    "              'max_depth': [3, 5, 7, 9],\n",
    "              'subsample': [0.9],\n",
    "              'colsample_bytree': [0.6, 0.8, 1]}\n",
    "\n",
    "## create xgbcl object\n",
    "xgb = XGBClassifier(objective='multi:softmax', eval_metric='merror', random_state=80109)\n",
    "\n",
    "## define cross-validated grid search, fit\n",
    "grid_search = GridSearchCV(estimator=xgb, param_grid=tune_grid, cv=5, scoring='f1_micro')\n",
    "grid_search.fit(X_train, y_train)"
   ]
  },
  {
   "cell_type": "markdown",
   "metadata": {},
   "source": [
    "#### Best Tune\n",
    "The results of the best model found during the grid search are provided below. With a micro-F1 score of about 79%, the highest performing XGBClassifier had the parameters `colsample_bytree = 0.6`, `eta = 0.2`, `max_depth = 9`, `subsample = 0.9`.\n",
    "\n",
    "For further improvements to this model, additional tuning should be centered around these values to close in on the most optimal model settings. This is an essential part of the data science pipeline. After data cleaning, visualization/exploration, feature cleaning, pre-processing, etc. it becomes a process of moving back and forth between modeling and model validation. After a model is trained and its performance evaluated, we go back and train another model with better parameter values. I won't do that here because I have already demonstrated the process of applying a grid search to determine the optimal parameters for a specific model and the available data. And this notebook is getting long :) However, that is what I would do if I were interested in fine-tuning this model even more."
   ]
  },
  {
   "cell_type": "code",
   "execution_count": 41,
   "metadata": {},
   "outputs": [
    {
     "name": "stdout",
     "output_type": "stream",
     "text": [
      "Micro F1 = 0.7914476827520306\n",
      "{'colsample_bytree': 0.6, 'eta': 0.2, 'max_depth': 9, 'subsample': 0.9}\n"
     ]
    }
   ],
   "source": [
    "## best model info\n",
    "print('Micro F1 =', grid_search.best_score_)\n",
    "print(grid_search.best_params_)"
   ]
  },
  {
   "cell_type": "markdown",
   "metadata": {},
   "source": [
    "### Model Performance Summary"
   ]
  },
  {
   "cell_type": "markdown",
   "metadata": {},
   "source": [
    "Predictions are made on the `X_test` set using the best model from the grid search above. The report of model performance following these predictions are a measure of the model's ability to classify new, entirely out-of-sample data."
   ]
  },
  {
   "cell_type": "code",
   "execution_count": 77,
   "metadata": {},
   "outputs": [],
   "source": [
    "## predict on test set\n",
    "best_xgb = grid_search.best_estimator_\n",
    "y_preds = best_xgb.predict(X_test)"
   ]
  },
  {
   "cell_type": "code",
   "execution_count": 86,
   "metadata": {},
   "outputs": [
    {
     "name": "stdout",
     "output_type": "stream",
     "text": [
      "0.8015607580824972\n"
     ]
    }
   ],
   "source": [
    "print(accuracy_score(y_test, y_preds))"
   ]
  },
  {
   "cell_type": "markdown",
   "metadata": {},
   "source": [
    "#### Confusion Matrix"
   ]
  },
  {
   "cell_type": "code",
   "execution_count": 88,
   "metadata": {
    "scrolled": true
   },
   "outputs": [
    {
     "data": {
      "image/png": "[encoded data removed]",
      "text/plain": [
       "<Figure size 432x288 with 2 Axes>"
      ]
     },
     "metadata": {
      "needs_background": "light"
     },
     "output_type": "display_data"
    }
   ],
   "source": [
    "## look at confusion matrix\n",
    "cnf_mat = confusion_matrix(y_test, y_preds)\n",
    "\n",
    "ax = plt.subplot()\n",
    "sns.heatmap(cnf_mat, annot=True, fmt='d', cmap='Blues', linewidths=0.5, ax = ax)\n",
    "b, t = plt.ylim()\n",
    "b += 0.5 # increase margin at the bottom\n",
    "t -= 0.5 # decrease margin at the top\n",
    "plt.ylim(b, t)\n",
    "ax.set_xlabel('Predicted labels')\n",
    "ax.set_ylabel('True labels')\n",
    "ax.set_title('Confusion Matrix')\n",
    "ax.xaxis.set_ticklabels(['Action', 'Comedy', 'Horror'])\n",
    "ax.yaxis.set_ticklabels(['Action', 'Comedy', 'Horror'])\n",
    "plt.show()"
   ]
  },
  {
   "cell_type": "markdown",
   "metadata": {},
   "source": [
    "A confusion matrix is a good picture of correct and incorrect classifications. At first glance, we can see that the majority of the classifications lie on the diagonal, meaning that the bulk of class predictions were correctly assigned to the true class. This is good! However, there are definitely still some misclassifcations present, most prevalently in the Horror genre.\n",
    "\n",
    "We could calculate some performance metrics using the cell frequencies. For example, $accuracy = \\frac{total\\ correct\\ classifications}{total\\ classifications\\ made}$ and $precision = \\frac{true\\ positives}{total\\ positive\\ classifications}$. However, it is easier to look at the automatic summary generated in the next section."
   ]
  },
  {
   "cell_type": "markdown",
   "metadata": {},
   "source": [
    "#### Overall Summary"
   ]
  },
  {
   "cell_type": "markdown",
   "metadata": {},
   "source": [
    "The `classification_report` function from the `sklearn.metrics` library is an excellent way of getting a big picture view of model performance. Class precision, recall, and f1-scores are reported. But so are the averages for these metrics over all classes."
   ]
  },
  {
   "cell_type": "code",
   "execution_count": 81,
   "metadata": {
    "scrolled": true
   },
   "outputs": [
    {
     "name": "stdout",
     "output_type": "stream",
     "text": [
      "              precision    recall  f1-score   support\n",
      "\n",
      "      Action       0.83      0.86      0.84       803\n",
      "      Comedy       0.80      0.81      0.81       690\n",
      "      Horror       0.72      0.63      0.67       301\n",
      "\n",
      "    accuracy                           0.80      1794\n",
      "   macro avg       0.78      0.77      0.77      1794\n",
      "weighted avg       0.80      0.80      0.80      1794\n",
      "\n"
     ]
    }
   ],
   "source": [
    "print(classification_report(y_test, y_preds, target_names=['Action', 'Comedy', 'Horror']))"
   ]
  },
  {
   "cell_type": "markdown",
   "metadata": {},
   "source": [
    "This model performance summary shows that Action movies are correctly classified the most out of all genres, while Horror movies fall 10-20% behind in all metrics. There is likely some underlying bias in the data that makes Action and Comedy movies easier to successfully predict than Horror movies. Maybe the effects of a class imbalance, where the model is trained to \"favor\" the majority class simply because it has more information.\n",
    "\n",
    "Additionally, there is an overall accuracy (and micro-F1) score about 80%. Honestly, this is a lot better than I was expecting! I'm very pleasantly surprised."
   ]
  },
  {
   "cell_type": "markdown",
   "metadata": {},
   "source": [
    "#### Revisit Research Question\n",
    "Based on these performance summaries and returning to my original research question, I feel confident saying that it is completely reasonable to predict with relatively high accuracy the main genre of a movie using primarily it's synopsis."
   ]
  },
  {
   "cell_type": "markdown",
   "metadata": {},
   "source": [
    "## Conclusions"
   ]
  },
  {
   "cell_type": "markdown",
   "metadata": {},
   "source": [
    "### Takeaways"
   ]
  },
  {
   "cell_type": "markdown",
   "metadata": {},
   "source": [
    "The most important takeaway from this analysis is that written content associated with stories, particularly movies and plot synopses, is a viable approach to determining the overall genre of the film. There is information encoded in the words that make up stories that give it certain characteristics, and it is possible to detect and utilize those patterns.\n",
    "\n",
    "Another takeaway is that Logistic Regression is still relevant!! In this world of machine learning and all these complex, black-box algorithms available to process data, it's kind of reassuring to know that basic statistical procedures have held their value and still apply. I was amazed to see that not only did it out-perform other methods like Naive Bayes and Random Forests, but it lost to the XGBClassifier by a *thread*. I'll remember that. To not overlook simple solutions just because they're simple.\n",
    "\n",
    "Something that I'm kind of proud of are the unique problems and the solutions I came up with. Specifically, the part of the text cleaning where I created another list of plot stopwords to reinforce class trends. It also reinforced in me the importance of exploring your data at all stages. If I had not looked at the Top 10 words for each genre, I might not have realized that the original approach to refining the plot text wasn't good enough. I would not have known that there was something else that I could do to improve my model before I even got to modeling.\n",
    "\n",
    "A final takeaway is to look for opportunities to include unsupervised learning in data science projects. It's a good way to get an idea of what your data looks like and what the patterns are. For me, the K-Means and PCA sections served as a kind of sanity check to make sure that there was separation between genres. There's a lot you can do before modeling to make sure that modeling is as successful as possible."
   ]
  },
  {
   "cell_type": "markdown",
   "metadata": {},
   "source": [
    "### Limitations and New Questions"
   ]
  },
  {
   "cell_type": "markdown",
   "metadata": {},
   "source": [
    "One of the first things I want to acknowledge is that my main assumption (that the first listed genre is the primary genre) might be subject to argument. After further exploration, I found that it is also extremely likely that movies with multiple genre assignments list them alphabetically. So for a theoretical Action and Comedy movie, my model would only understand it as action, possibly conflating the action and comedy clues in the text. However, a counter argument to that is if Comedy is listed first, then it is truly a comedy movie and has very little elements of action. If Horror is listed first, it is most likely a true horror movie because it wasn't preceded by action or comedy. Either way, I felt like that issue should be noted.\n",
    "\n",
    "Another limitation could be class imbalance in the data. There are many more Action and Comedy movies (around 2,000 each) than there are Horror movies (about 800). It could be worth investigating procedures to help the model in successfully classifying the Horror genre, as the evaluation summaries from the previous section showed that that is an area of struggle. Things like up-sampling the minority class, down-sampling the majority class, or a hybrid of those could all be used to try and address the imbalance.\n",
    "\n",
    "It could aslo be possible that adding in the extra variables `runtimeMinutes`, `averageRating`, and `numVotes` adds too much noise to the most important information derived from the plot text. In a quick exploration of those three variables, they didn't appear to be very different between genres and it is likely that they aren't very helpful in making classifications. They could hurt the model instead of help it. It could be worth exploring how well the genres separate, and how well my models can predict, with just the movie synopses. Can classifications be made just as well (or better) using just plot information?"
   ]
  }
 ],
 "metadata": {
  "kernelspec": {
   "display_name": "Python 3",
   "language": "python",
   "name": "python3"
  },
  "language_info": {
   "codemirror_mode": {
    "name": "ipython",
    "version": 3
   },
   "file_extension": ".py",
   "mimetype": "text/x-python",
   "name": "python",
   "nbconvert_exporter": "python",
   "pygments_lexer": "ipython3",
   "version": "3.7.4"
  }
 },
 "nbformat": 4,
 "nbformat_minor": 2
}
